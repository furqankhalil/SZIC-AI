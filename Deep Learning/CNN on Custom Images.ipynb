{
 "cells": [
  {
   "cell_type": "code",
   "execution_count": 1,
   "id": "7043a023",
   "metadata": {},
   "outputs": [],
   "source": [
    "import pandas as pd\n",
    "from PIL import Image\n",
    "import matplotlib.pyplot as plt\n",
    "%matplotlib inline\n",
    "import numpy as np"
   ]
  },
  {
   "cell_type": "markdown",
   "id": "21c72be1",
   "metadata": {},
   "source": [
    "# Loading and Resizing the Images"
   ]
  },
  {
   "cell_type": "code",
   "execution_count": 2,
   "id": "0cae0692",
   "metadata": {},
   "outputs": [],
   "source": [
    "import cv2 \n",
    "import os \n",
    "import glob \n",
    "img_dir1 = r\"E:\\Amir\" # Enter Directory of all images \n",
    "data_path1 = os.path.join(img_dir1,'*jfif') \n",
    "files1 = glob.glob(data_path1)  \n",
    "data1 = []\n",
    "for j in files1: \n",
    "    img = cv2.imread(j)\n",
    "    img.resize((28,28))\n",
    "    data1.append(img) "
   ]
  },
  {
   "cell_type": "code",
   "execution_count": 3,
   "id": "3d75f0f0",
   "metadata": {},
   "outputs": [],
   "source": [
    "x1=np.array(data1)"
   ]
  },
  {
   "cell_type": "code",
   "execution_count": 4,
   "id": "a3f985a8",
   "metadata": {},
   "outputs": [],
   "source": [
    "img_dir2 = r\"E:\\Data\"\n",
    "data_path2 = os.path.join(img_dir2,'*jfif') \n",
    "files2 = glob.glob(data_path2) \n",
    "data2 = []\n",
    "for i in files2: \n",
    "    img1 = cv2.imread(i) \n",
    "    img1.resize((28,28))\n",
    "    data2.append(img1) "
   ]
  },
  {
   "cell_type": "code",
   "execution_count": 5,
   "id": "f2034911",
   "metadata": {},
   "outputs": [],
   "source": [
    "x2=np.array(data2)"
   ]
  },
  {
   "cell_type": "markdown",
   "id": "15897b5a",
   "metadata": {},
   "source": [
    "# Generating Labels"
   ]
  },
  {
   "cell_type": "code",
   "execution_count": 6,
   "id": "8e372220",
   "metadata": {},
   "outputs": [
    {
     "data": {
      "text/plain": [
       "array([0., 0., 0., 0., 0., 0., 0., 0., 0., 0., 0., 0., 0., 0., 0., 0., 0.,\n",
       "       0., 0., 0.])"
      ]
     },
     "execution_count": 6,
     "metadata": {},
     "output_type": "execute_result"
    }
   ],
   "source": [
    "y1=np.zeros(20)\n",
    "y1"
   ]
  },
  {
   "cell_type": "code",
   "execution_count": 7,
   "id": "85492f94",
   "metadata": {},
   "outputs": [
    {
     "data": {
      "text/plain": [
       "array([1., 1., 1., 1., 1., 1., 1., 1., 1., 1., 1., 1., 1., 1., 1., 1., 1.,\n",
       "       1., 1., 1.])"
      ]
     },
     "execution_count": 7,
     "metadata": {},
     "output_type": "execute_result"
    }
   ],
   "source": [
    "y2=np.ones(20)\n",
    "y2"
   ]
  },
  {
   "cell_type": "code",
   "execution_count": 8,
   "id": "c82b08d7",
   "metadata": {},
   "outputs": [
    {
     "data": {
      "text/plain": [
       "(28, 28)"
      ]
     },
     "execution_count": 8,
     "metadata": {},
     "output_type": "execute_result"
    }
   ],
   "source": [
    "data1[1].shape"
   ]
  },
  {
   "cell_type": "code",
   "execution_count": 9,
   "id": "cfd6c7af",
   "metadata": {},
   "outputs": [
    {
     "name": "stdout",
     "output_type": "stream",
     "text": [
      "(40,)\n",
      "(40, 28, 28)\n"
     ]
    }
   ],
   "source": [
    "y=np.concatenate((y1,y2),axis=0)\n",
    "print(y.shape)\n",
    "\n",
    "x=np.concatenate((x1,x2),axis=0)\n",
    "print(x.shape)"
   ]
  },
  {
   "cell_type": "markdown",
   "id": "a0681585",
   "metadata": {},
   "source": [
    "# Splitting Dataset"
   ]
  },
  {
   "cell_type": "code",
   "execution_count": 10,
   "id": "97d9fd4f",
   "metadata": {},
   "outputs": [],
   "source": [
    "from sklearn.model_selection import train_test_split\n",
    "x_train, x_test, y_train, y_test = train_test_split(x,y, test_size = 0.1, random_state = 10,shuffle=True)"
   ]
  },
  {
   "cell_type": "code",
   "execution_count": 11,
   "id": "a3532974",
   "metadata": {},
   "outputs": [
    {
     "data": {
      "text/plain": [
       "(36, 28, 28)"
      ]
     },
     "execution_count": 11,
     "metadata": {},
     "output_type": "execute_result"
    }
   ],
   "source": [
    "x_train.shape"
   ]
  },
  {
   "cell_type": "code",
   "execution_count": 12,
   "id": "8e26b961",
   "metadata": {},
   "outputs": [],
   "source": [
    "from tensorflow.keras.models import Sequential\n",
    "from tensorflow.keras.layers import Dense,Conv2D,Dense,MaxPooling2D,Flatten\n"
   ]
  },
  {
   "cell_type": "markdown",
   "id": "51263040",
   "metadata": {},
   "source": [
    "# Building Convolution NN"
   ]
  },
  {
   "cell_type": "code",
   "execution_count": 13,
   "id": "6625af45",
   "metadata": {},
   "outputs": [
    {
     "name": "stdout",
     "output_type": "stream",
     "text": [
      "Model: \"sequential\"\n",
      "_________________________________________________________________\n",
      " Layer (type)                Output Shape              Param #   \n",
      "=================================================================\n",
      " conv2d (Conv2D)             (None, 26, 26, 32)        320       \n",
      "                                                                 \n",
      " max_pooling2d (MaxPooling2D  (None, 13, 13, 32)       0         \n",
      " )                                                               \n",
      "                                                                 \n",
      " conv2d_1 (Conv2D)           (None, 11, 11, 16)        4624      \n",
      "                                                                 \n",
      " max_pooling2d_1 (MaxPooling  (None, 5, 5, 16)         0         \n",
      " 2D)                                                             \n",
      "                                                                 \n",
      " conv2d_2 (Conv2D)           (None, 3, 3, 8)           1160      \n",
      "                                                                 \n",
      " max_pooling2d_2 (MaxPooling  (None, 1, 1, 8)          0         \n",
      " 2D)                                                             \n",
      "                                                                 \n",
      " flatten (Flatten)           (None, 8)                 0         \n",
      "                                                                 \n",
      " dense (Dense)               (None, 4)                 36        \n",
      "                                                                 \n",
      " dense_1 (Dense)             (None, 1)                 5         \n",
      "                                                                 \n",
      "=================================================================\n",
      "Total params: 6,145\n",
      "Trainable params: 6,145\n",
      "Non-trainable params: 0\n",
      "_________________________________________________________________\n"
     ]
    }
   ],
   "source": [
    "model = Sequential()\n",
    "\n",
    "model.add(Conv2D(32, (3,3) , input_shape = (28,28,1)))     #Input Layer\n",
    "model.add(MaxPooling2D(2,2))\n",
    "          \n",
    "model.add(Conv2D(16, (3,3) , activation='relu'))      #Hidden Layer\n",
    "model.add(MaxPooling2D(2,2))   \n",
    "\n",
    "model.add(Conv2D(8, (3,3) , activation='relu'))       #Hidden Layer\n",
    "model.add(MaxPooling2D(2,2))\n",
    "\n",
    "model.add(Flatten())\n",
    "\n",
    "model.add(Dense(4, activation = 'relu')) \n",
    "\n",
    "model.add(Dense(1, activation = 'sigmoid'))  #Output Layer\n",
    "\n",
    "model.compile(optimizer = 'adam', loss = 'binary_crossentropy',metrics = ['accuracy'])\n",
    "\n",
    "model.summary()"
   ]
  },
  {
   "cell_type": "markdown",
   "id": "317e0b04",
   "metadata": {},
   "source": [
    "# Training CNN Model"
   ]
  },
  {
   "cell_type": "code",
   "execution_count": 14,
   "id": "c32e81dd",
   "metadata": {
    "scrolled": true
   },
   "outputs": [
    {
     "name": "stdout",
     "output_type": "stream",
     "text": [
      "Epoch 1/50\n",
      "1/1 [==============================] - 4s 4s/step - loss: 7.2570 - accuracy: 0.5000 - val_loss: 2.1439 - val_accuracy: 0.7500\n",
      "Epoch 2/50\n",
      "1/1 [==============================] - 0s 57ms/step - loss: 2.9034 - accuracy: 0.5312 - val_loss: 1.1325 - val_accuracy: 0.7500\n",
      "Epoch 3/50\n",
      "1/1 [==============================] - 0s 56ms/step - loss: 1.4820 - accuracy: 0.5000 - val_loss: 0.6313 - val_accuracy: 0.7500\n",
      "Epoch 4/50\n",
      "1/1 [==============================] - 0s 56ms/step - loss: 1.1177 - accuracy: 0.5000 - val_loss: 0.9571 - val_accuracy: 0.7500\n",
      "Epoch 5/50\n",
      "1/1 [==============================] - 0s 57ms/step - loss: 1.3061 - accuracy: 0.5000 - val_loss: 0.7956 - val_accuracy: 0.7500\n",
      "Epoch 6/50\n",
      "1/1 [==============================] - 0s 56ms/step - loss: 1.2470 - accuracy: 0.5000 - val_loss: 0.5180 - val_accuracy: 0.7500\n",
      "Epoch 7/50\n",
      "1/1 [==============================] - 0s 54ms/step - loss: 1.0269 - accuracy: 0.5312 - val_loss: 0.4263 - val_accuracy: 0.7500\n",
      "Epoch 8/50\n",
      "1/1 [==============================] - 0s 56ms/step - loss: 0.7945 - accuracy: 0.5312 - val_loss: 0.5122 - val_accuracy: 0.7500\n",
      "Epoch 9/50\n",
      "1/1 [==============================] - 0s 56ms/step - loss: 0.7578 - accuracy: 0.5312 - val_loss: 0.6112 - val_accuracy: 0.5000\n",
      "Epoch 10/50\n",
      "1/1 [==============================] - 0s 59ms/step - loss: 0.7943 - accuracy: 0.5000 - val_loss: 0.5683 - val_accuracy: 0.7500\n",
      "Epoch 11/50\n",
      "1/1 [==============================] - 0s 53ms/step - loss: 0.7995 - accuracy: 0.5312 - val_loss: 0.5702 - val_accuracy: 0.7500\n",
      "Epoch 12/50\n",
      "1/1 [==============================] - 0s 48ms/step - loss: 0.7717 - accuracy: 0.6250 - val_loss: 0.5922 - val_accuracy: 0.5000\n",
      "Epoch 13/50\n",
      "1/1 [==============================] - 0s 61ms/step - loss: 0.7430 - accuracy: 0.6562 - val_loss: 0.6882 - val_accuracy: 0.5000\n",
      "Epoch 14/50\n",
      "1/1 [==============================] - 0s 49ms/step - loss: 0.6740 - accuracy: 0.5938 - val_loss: 0.6965 - val_accuracy: 0.2500\n",
      "Epoch 15/50\n",
      "1/1 [==============================] - 0s 43ms/step - loss: 0.6240 - accuracy: 0.5938 - val_loss: 0.6967 - val_accuracy: 0.2500\n",
      "Epoch 16/50\n",
      "1/1 [==============================] - 0s 57ms/step - loss: 0.6143 - accuracy: 0.5938 - val_loss: 0.6969 - val_accuracy: 0.2500\n",
      "Epoch 17/50\n",
      "1/1 [==============================] - 0s 62ms/step - loss: 0.6302 - accuracy: 0.6250 - val_loss: 0.6971 - val_accuracy: 0.2500\n",
      "Epoch 18/50\n",
      "1/1 [==============================] - 0s 49ms/step - loss: 0.6603 - accuracy: 0.6250 - val_loss: 0.6973 - val_accuracy: 0.2500\n",
      "Epoch 19/50\n",
      "1/1 [==============================] - 0s 51ms/step - loss: 0.6757 - accuracy: 0.6250 - val_loss: 0.6975 - val_accuracy: 0.2500\n",
      "Epoch 20/50\n",
      "1/1 [==============================] - 0s 53ms/step - loss: 0.6617 - accuracy: 0.6250 - val_loss: 0.6976 - val_accuracy: 0.2500\n",
      "Epoch 21/50\n",
      "1/1 [==============================] - 0s 56ms/step - loss: 0.6310 - accuracy: 0.6250 - val_loss: 0.6978 - val_accuracy: 0.2500\n",
      "Epoch 22/50\n",
      "1/1 [==============================] - 0s 54ms/step - loss: 0.6065 - accuracy: 0.6562 - val_loss: 0.6980 - val_accuracy: 0.2500\n",
      "Epoch 23/50\n",
      "1/1 [==============================] - 0s 49ms/step - loss: 0.5881 - accuracy: 0.6875 - val_loss: 0.6981 - val_accuracy: 0.2500\n",
      "Epoch 24/50\n",
      "1/1 [==============================] - 0s 52ms/step - loss: 0.5804 - accuracy: 0.6562 - val_loss: 0.6983 - val_accuracy: 0.2500\n",
      "Epoch 25/50\n",
      "1/1 [==============================] - 0s 59ms/step - loss: 0.5806 - accuracy: 0.6562 - val_loss: 0.6984 - val_accuracy: 0.2500\n",
      "Epoch 26/50\n",
      "1/1 [==============================] - 0s 64ms/step - loss: 0.5748 - accuracy: 0.6562 - val_loss: 0.6792 - val_accuracy: 0.5000\n",
      "Epoch 27/50\n",
      "1/1 [==============================] - 0s 49ms/step - loss: 0.5645 - accuracy: 0.6562 - val_loss: 0.6596 - val_accuracy: 0.5000\n",
      "Epoch 28/50\n",
      "1/1 [==============================] - 0s 50ms/step - loss: 0.5574 - accuracy: 0.6250 - val_loss: 0.6442 - val_accuracy: 0.5000\n",
      "Epoch 29/50\n",
      "1/1 [==============================] - 0s 45ms/step - loss: 0.5536 - accuracy: 0.6562 - val_loss: 0.6337 - val_accuracy: 0.5000\n",
      "Epoch 30/50\n",
      "1/1 [==============================] - 0s 60ms/step - loss: 0.5501 - accuracy: 0.6562 - val_loss: 0.6276 - val_accuracy: 0.5000\n",
      "Epoch 31/50\n",
      "1/1 [==============================] - 0s 48ms/step - loss: 0.5459 - accuracy: 0.6562 - val_loss: 0.6254 - val_accuracy: 0.5000\n",
      "Epoch 32/50\n",
      "1/1 [==============================] - 0s 53ms/step - loss: 0.5448 - accuracy: 0.6562 - val_loss: 0.6168 - val_accuracy: 0.5000\n",
      "Epoch 33/50\n",
      "1/1 [==============================] - 0s 50ms/step - loss: 0.5440 - accuracy: 0.6875 - val_loss: 0.5994 - val_accuracy: 0.5000\n",
      "Epoch 34/50\n",
      "1/1 [==============================] - 0s 56ms/step - loss: 0.5414 - accuracy: 0.7500 - val_loss: 0.5842 - val_accuracy: 0.5000\n",
      "Epoch 35/50\n",
      "1/1 [==============================] - 0s 48ms/step - loss: 0.5374 - accuracy: 0.7812 - val_loss: 0.5674 - val_accuracy: 0.5000\n",
      "Epoch 36/50\n",
      "1/1 [==============================] - 0s 65ms/step - loss: 0.5333 - accuracy: 0.7500 - val_loss: 0.5177 - val_accuracy: 0.7500\n",
      "Epoch 37/50\n",
      "1/1 [==============================] - 0s 69ms/step - loss: 0.5321 - accuracy: 0.7500 - val_loss: 0.4952 - val_accuracy: 0.7500\n",
      "Epoch 38/50\n",
      "1/1 [==============================] - 0s 50ms/step - loss: 0.5309 - accuracy: 0.6875 - val_loss: 0.5304 - val_accuracy: 0.7500\n",
      "Epoch 39/50\n",
      "1/1 [==============================] - 0s 57ms/step - loss: 0.5204 - accuracy: 0.7500 - val_loss: 0.5728 - val_accuracy: 0.5000\n",
      "Epoch 40/50\n",
      "1/1 [==============================] - 0s 62ms/step - loss: 0.5268 - accuracy: 0.7812 - val_loss: 0.5661 - val_accuracy: 0.5000\n",
      "Epoch 41/50\n",
      "1/1 [==============================] - 0s 48ms/step - loss: 0.5225 - accuracy: 0.7812 - val_loss: 0.5108 - val_accuracy: 0.7500\n",
      "Epoch 42/50\n",
      "1/1 [==============================] - 0s 57ms/step - loss: 0.5079 - accuracy: 0.7500 - val_loss: 0.4658 - val_accuracy: 0.7500\n",
      "Epoch 43/50\n",
      "1/1 [==============================] - 0s 49ms/step - loss: 0.5172 - accuracy: 0.6562 - val_loss: 0.4844 - val_accuracy: 0.7500\n",
      "Epoch 44/50\n",
      "1/1 [==============================] - 0s 48ms/step - loss: 0.5039 - accuracy: 0.6875 - val_loss: 0.5585 - val_accuracy: 0.5000\n",
      "Epoch 45/50\n",
      "1/1 [==============================] - 0s 56ms/step - loss: 0.5072 - accuracy: 0.8125 - val_loss: 0.5645 - val_accuracy: 0.5000\n",
      "Epoch 46/50\n",
      "1/1 [==============================] - 0s 57ms/step - loss: 0.5145 - accuracy: 0.8125 - val_loss: 0.5566 - val_accuracy: 0.5000\n",
      "Epoch 47/50\n",
      "1/1 [==============================] - 0s 56ms/step - loss: 0.5072 - accuracy: 0.8438 - val_loss: 0.5167 - val_accuracy: 0.7500\n",
      "Epoch 48/50\n",
      "1/1 [==============================] - 0s 52ms/step - loss: 0.4925 - accuracy: 0.8438 - val_loss: 0.4487 - val_accuracy: 0.7500\n",
      "Epoch 49/50\n",
      "1/1 [==============================] - 0s 48ms/step - loss: 0.5096 - accuracy: 0.6562 - val_loss: 0.4569 - val_accuracy: 0.7500\n",
      "Epoch 50/50\n",
      "1/1 [==============================] - 0s 49ms/step - loss: 0.4963 - accuracy: 0.6250 - val_loss: 0.5332 - val_accuracy: 0.7500\n"
     ]
    }
   ],
   "source": [
    "history = model.fit(x_train , y_train , validation_split=(0.1) , epochs=50)"
   ]
  },
  {
   "cell_type": "code",
   "execution_count": 15,
   "id": "2feff7c0",
   "metadata": {},
   "outputs": [
    {
     "name": "stdout",
     "output_type": "stream",
     "text": [
      "1/1 [==============================] - 0s 18ms/step - loss: 2.7333 - accuracy: 0.2500\n"
     ]
    },
    {
     "data": {
      "text/plain": [
       "[2.733287811279297, 0.25]"
      ]
     },
     "execution_count": 15,
     "metadata": {},
     "output_type": "execute_result"
    }
   ],
   "source": [
    "model.evaluate(x_test,y_test)"
   ]
  },
  {
   "cell_type": "code",
   "execution_count": 16,
   "id": "a2223aa7",
   "metadata": {},
   "outputs": [
    {
     "name": "stdout",
     "output_type": "stream",
     "text": [
      "1/1 [==============================] - 0s 83ms/step\n"
     ]
    },
    {
     "data": {
      "text/plain": [
       "array([0, 0, 0, 0], dtype=int64)"
      ]
     },
     "execution_count": 16,
     "metadata": {},
     "output_type": "execute_result"
    }
   ],
   "source": [
    "predictions = np.argmax(model.predict(x_test),axis = 1)\n",
    "predictions"
   ]
  },
  {
   "cell_type": "code",
   "execution_count": 17,
   "id": "5c0ed1c4",
   "metadata": {},
   "outputs": [
    {
     "name": "stdout",
     "output_type": "stream",
     "text": [
      "[[1 0]\n",
      " [3 0]]\n",
      "0.25\n"
     ]
    }
   ],
   "source": [
    "from sklearn.metrics import accuracy_score,confusion_matrix ,classification_report\n",
    "cm=confusion_matrix(y_test,predictions)\n",
    "print(cm)\n",
    "print(accuracy_score(y_test,predictions))"
   ]
  },
  {
   "cell_type": "markdown",
   "id": "a45a64ae",
   "metadata": {},
   "source": [
    "# Confusion Matrix"
   ]
  },
  {
   "cell_type": "code",
   "execution_count": 18,
   "id": "217c4724",
   "metadata": {},
   "outputs": [
    {
     "data": {
      "text/plain": [
       "<AxesSubplot:>"
      ]
     },
     "execution_count": 18,
     "metadata": {},
     "output_type": "execute_result"
    },
    {
     "data": {
      "image/png": "[encoded data removed]",
      "text/plain": [
       "<Figure size 720x504 with 2 Axes>"
      ]
     },
     "metadata": {
      "needs_background": "light"
     },
     "output_type": "display_data"
    }
   ],
   "source": [
    "import seaborn as sns\n",
    "\n",
    "fig = plt.figure(figsize=(10,7))\n",
    "confusion_matrix = cm\n",
    "sns.heatmap(confusion_matrix,annot = True,fmt = 'd')"
   ]
  },
  {
   "cell_type": "code",
   "execution_count": null,
   "id": "6efc9d54",
   "metadata": {},
   "outputs": [],
   "source": []
  }
 ],
 "metadata": {
  "kernelspec": {
   "display_name": "Python 3",
   "language": "python",
   "name": "python3"
  },
  "language_info": {
   "codemirror_mode": {
    "name": "ipython",
    "version": 3
   },
   "file_extension": ".py",
   "mimetype": "text/x-python",
   "name": "python",
   "nbconvert_exporter": "python",
   "pygments_lexer": "ipython3",
   "version": "3.8.8"
  }
 },
 "nbformat": 4,
 "nbformat_minor": 5
}
