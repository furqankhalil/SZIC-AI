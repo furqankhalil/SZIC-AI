{
 "cells": [
  {
   "cell_type": "code",
   "execution_count": 1,
   "id": "7043a023",
   "metadata": {},
   "outputs": [],
   "source": [
    "import pandas as pd\n",
    "from PIL import Image\n",
    "import matplotlib.pyplot as plt\n",
    "%matplotlib inline\n",
    "import numpy as np"
   ]
  },
  {
   "cell_type": "code",
   "execution_count": 2,
   "id": "0cae0692",
   "metadata": {},
   "outputs": [],
   "source": [
    "import cv2 \n",
    "import os \n",
    "import glob \n",
    "img_dir1 = r\"E:\\Amir\" # Enter Directory of all images \n",
    "data_path1 = os.path.join(img_dir1,'*jfif') \n",
    "files1 = glob.glob(data_path1)  \n",
    "data1 = []\n",
    "for j in files1: \n",
    "    img = cv2.imread(j)\n",
    "    img.resize((28,28))\n",
    "    data1.append(img) "
   ]
  },
  {
   "cell_type": "code",
   "execution_count": 3,
   "id": "3d75f0f0",
   "metadata": {},
   "outputs": [],
   "source": [
    "x1=np.array(data1)"
   ]
  },
  {
   "cell_type": "code",
   "execution_count": 4,
   "id": "a3f985a8",
   "metadata": {},
   "outputs": [],
   "source": [
    "img_dir2 = r\"E:\\Data\"\n",
    "data_path2 = os.path.join(img_dir2,'*jfif') \n",
    "files2 = glob.glob(data_path2) \n",
    "data2 = []\n",
    "for i in files2: \n",
    "    img1 = cv2.imread(i) \n",
    "    img1.resize((28,28))\n",
    "    data2.append(img1) "
   ]
  },
  {
   "cell_type": "code",
   "execution_count": 5,
   "id": "f2034911",
   "metadata": {},
   "outputs": [],
   "source": [
    "x2=np.array(data2)"
   ]
  },
  {
   "cell_type": "code",
   "execution_count": 6,
   "id": "8e372220",
   "metadata": {},
   "outputs": [
    {
     "data": {
      "text/plain": [
       "array([0., 0., 0., 0., 0., 0., 0., 0., 0., 0., 0., 0., 0., 0., 0., 0., 0.,\n",
       "       0., 0., 0.])"
      ]
     },
     "execution_count": 6,
     "metadata": {},
     "output_type": "execute_result"
    }
   ],
   "source": [
    "y1=np.zeros(20)\n",
    "y1"
   ]
  },
  {
   "cell_type": "code",
   "execution_count": 7,
   "id": "85492f94",
   "metadata": {},
   "outputs": [
    {
     "data": {
      "text/plain": [
       "array([1., 1., 1., 1., 1., 1., 1., 1., 1., 1., 1., 1., 1., 1., 1., 1., 1.,\n",
       "       1., 1., 1.])"
      ]
     },
     "execution_count": 7,
     "metadata": {},
     "output_type": "execute_result"
    }
   ],
   "source": [
    "y2=np.ones(20)\n",
    "y2"
   ]
  },
  {
   "cell_type": "code",
   "execution_count": 8,
   "id": "c82b08d7",
   "metadata": {},
   "outputs": [
    {
     "data": {
      "text/plain": [
       "(28, 28)"
      ]
     },
     "execution_count": 8,
     "metadata": {},
     "output_type": "execute_result"
    }
   ],
   "source": [
    "data1[1].shape"
   ]
  },
  {
   "cell_type": "code",
   "execution_count": 9,
   "id": "cfd6c7af",
   "metadata": {},
   "outputs": [
    {
     "name": "stdout",
     "output_type": "stream",
     "text": [
      "(40,)\n",
      "(40, 28, 28)\n"
     ]
    }
   ],
   "source": [
    "y=np.concatenate((y1,y2),axis=0)\n",
    "print(y.shape)\n",
    "\n",
    "x=np.concatenate((x1,x2),axis=0)\n",
    "print(x.shape)"
   ]
  },
  {
   "cell_type": "code",
   "execution_count": 87,
   "id": "97d9fd4f",
   "metadata": {},
   "outputs": [],
   "source": [
    "from sklearn.model_selection import train_test_split\n",
    "x_train, x_test, y_train, y_test = train_test_split(x,y, test_size = 0.1, random_state = 10,shuffle=True)"
   ]
  },
  {
   "cell_type": "code",
   "execution_count": 88,
   "id": "a3532974",
   "metadata": {},
   "outputs": [
    {
     "data": {
      "text/plain": [
       "(36, 28, 28)"
      ]
     },
     "execution_count": 88,
     "metadata": {},
     "output_type": "execute_result"
    }
   ],
   "source": [
    "x_train.shape"
   ]
  },
  {
   "cell_type": "code",
   "execution_count": 89,
   "id": "8e26b961",
   "metadata": {},
   "outputs": [],
   "source": [
    "from tensorflow.keras.models import Sequential\n",
    "from tensorflow.keras.layers import Dense,Conv2D,Dense,MaxPooling2D,Flatten\n"
   ]
  },
  {
   "cell_type": "code",
   "execution_count": 102,
   "id": "6625af45",
   "metadata": {},
   "outputs": [
    {
     "name": "stdout",
     "output_type": "stream",
     "text": [
      "Model: \"sequential_18\"\n",
      "_________________________________________________________________\n",
      " Layer (type)                Output Shape              Param #   \n",
      "=================================================================\n",
      " conv2d_52 (Conv2D)          (None, 26, 26, 32)        320       \n",
      "                                                                 \n",
      " max_pooling2d_51 (MaxPoolin  (None, 13, 13, 32)       0         \n",
      " g2D)                                                            \n",
      "                                                                 \n",
      " conv2d_53 (Conv2D)          (None, 11, 11, 16)        4624      \n",
      "                                                                 \n",
      " max_pooling2d_52 (MaxPoolin  (None, 5, 5, 16)         0         \n",
      " g2D)                                                            \n",
      "                                                                 \n",
      " conv2d_54 (Conv2D)          (None, 3, 3, 8)           1160      \n",
      "                                                                 \n",
      " max_pooling2d_53 (MaxPoolin  (None, 1, 1, 8)          0         \n",
      " g2D)                                                            \n",
      "                                                                 \n",
      " flatten_17 (Flatten)        (None, 8)                 0         \n",
      "                                                                 \n",
      " dense_37 (Dense)            (None, 4)                 36        \n",
      "                                                                 \n",
      " dense_38 (Dense)            (None, 1)                 5         \n",
      "                                                                 \n",
      "=================================================================\n",
      "Total params: 6,145\n",
      "Trainable params: 6,145\n",
      "Non-trainable params: 0\n",
      "_________________________________________________________________\n"
     ]
    }
   ],
   "source": [
    "model = Sequential()\n",
    "\n",
    "model.add(Conv2D(32, (3,3) , input_shape = (28,28,1)))     #Input Layer\n",
    "model.add(MaxPooling2D(2,2))\n",
    "          \n",
    "model.add(Conv2D(16, (3,3) , activation='relu'))      #Hidden Layer\n",
    "model.add(MaxPooling2D(2,2))   \n",
    "\n",
    "model.add(Conv2D(8, (3,3) , activation='relu'))       #Hidden Layer\n",
    "model.add(MaxPooling2D(2,2))\n",
    "\n",
    "model.add(Flatten())\n",
    "\n",
    "model.add(Dense(4, activation = 'relu')) \n",
    "\n",
    "model.add(Dense(1, activation = 'sigmoid'))  #Output Layer\n",
    "\n",
    "model.compile(optimizer = 'adam', loss = 'binary_crossentropy',metrics = ['accuracy'])\n",
    "\n",
    "model.summary()"
   ]
  },
  {
   "cell_type": "code",
   "execution_count": 103,
   "id": "c32e81dd",
   "metadata": {},
   "outputs": [
    {
     "name": "stdout",
     "output_type": "stream",
     "text": [
      "Epoch 1/50\n",
      "1/1 [==============================] - 3s 3s/step - loss: 1.0228 - accuracy: 0.5625 - val_loss: 1.2936 - val_accuracy: 0.2500\n",
      "Epoch 2/50\n",
      "1/1 [==============================] - 0s 164ms/step - loss: 1.0774 - accuracy: 0.5000 - val_loss: 0.6803 - val_accuracy: 0.7500\n",
      "Epoch 3/50\n",
      "1/1 [==============================] - 0s 157ms/step - loss: 0.6882 - accuracy: 0.4688 - val_loss: 0.6488 - val_accuracy: 0.7500\n",
      "Epoch 4/50\n",
      "1/1 [==============================] - 0s 179ms/step - loss: 0.6735 - accuracy: 0.5000 - val_loss: 0.7541 - val_accuracy: 0.5000\n",
      "Epoch 5/50\n",
      "1/1 [==============================] - 0s 171ms/step - loss: 0.6214 - accuracy: 0.7188 - val_loss: 2.2750 - val_accuracy: 0.2500\n",
      "Epoch 6/50\n",
      "1/1 [==============================] - 0s 167ms/step - loss: 0.7482 - accuracy: 0.6875 - val_loss: 1.5296 - val_accuracy: 0.5000\n",
      "Epoch 7/50\n",
      "1/1 [==============================] - 0s 154ms/step - loss: 0.6710 - accuracy: 0.6875 - val_loss: 0.6454 - val_accuracy: 0.7500\n",
      "Epoch 8/50\n",
      "1/1 [==============================] - 0s 166ms/step - loss: 0.6387 - accuracy: 0.7188 - val_loss: 0.6340 - val_accuracy: 1.0000\n",
      "Epoch 9/50\n",
      "1/1 [==============================] - 0s 181ms/step - loss: 0.6433 - accuracy: 0.6562 - val_loss: 0.7386 - val_accuracy: 0.5000\n",
      "Epoch 10/50\n",
      "1/1 [==============================] - 0s 232ms/step - loss: 0.6074 - accuracy: 0.7188 - val_loss: 1.0301 - val_accuracy: 0.5000\n",
      "Epoch 11/50\n",
      "1/1 [==============================] - 0s 170ms/step - loss: 0.5822 - accuracy: 0.7188 - val_loss: 1.1311 - val_accuracy: 0.2500\n",
      "Epoch 12/50\n",
      "1/1 [==============================] - 0s 178ms/step - loss: 0.6008 - accuracy: 0.6875 - val_loss: 0.8985 - val_accuracy: 0.5000\n",
      "Epoch 13/50\n",
      "1/1 [==============================] - 0s 180ms/step - loss: 0.5750 - accuracy: 0.7500 - val_loss: 0.7323 - val_accuracy: 0.5000\n",
      "Epoch 14/50\n",
      "1/1 [==============================] - 0s 159ms/step - loss: 0.5780 - accuracy: 0.8125 - val_loss: 0.7311 - val_accuracy: 0.5000\n",
      "Epoch 15/50\n",
      "1/1 [==============================] - 0s 169ms/step - loss: 0.5745 - accuracy: 0.8125 - val_loss: 0.8725 - val_accuracy: 0.5000\n",
      "Epoch 16/50\n",
      "1/1 [==============================] - 0s 175ms/step - loss: 0.5619 - accuracy: 0.7500 - val_loss: 1.0990 - val_accuracy: 0.2500\n",
      "Epoch 17/50\n",
      "1/1 [==============================] - 0s 193ms/step - loss: 0.5592 - accuracy: 0.7812 - val_loss: 1.3151 - val_accuracy: 0.2500\n",
      "Epoch 18/50\n",
      "1/1 [==============================] - 0s 197ms/step - loss: 0.5555 - accuracy: 0.7500 - val_loss: 1.3006 - val_accuracy: 0.2500\n",
      "Epoch 19/50\n",
      "1/1 [==============================] - 0s 157ms/step - loss: 0.5327 - accuracy: 0.8125 - val_loss: 1.1480 - val_accuracy: 0.2500\n",
      "Epoch 20/50\n",
      "1/1 [==============================] - 0s 160ms/step - loss: 0.5220 - accuracy: 0.8438 - val_loss: 1.1158 - val_accuracy: 0.2500\n",
      "Epoch 21/50\n",
      "1/1 [==============================] - 0s 198ms/step - loss: 0.5159 - accuracy: 0.8125 - val_loss: 1.2010 - val_accuracy: 0.2500\n",
      "Epoch 22/50\n",
      "1/1 [==============================] - 0s 201ms/step - loss: 0.5084 - accuracy: 0.8125 - val_loss: 1.3927 - val_accuracy: 0.2500\n",
      "Epoch 23/50\n",
      "1/1 [==============================] - 0s 183ms/step - loss: 0.5004 - accuracy: 0.8438 - val_loss: 1.5964 - val_accuracy: 0.2500\n",
      "Epoch 24/50\n",
      "1/1 [==============================] - 0s 155ms/step - loss: 0.4968 - accuracy: 0.8125 - val_loss: 1.7076 - val_accuracy: 0.2500\n",
      "Epoch 25/50\n",
      "1/1 [==============================] - 0s 183ms/step - loss: 0.4936 - accuracy: 0.8125 - val_loss: 1.6861 - val_accuracy: 0.2500\n",
      "Epoch 26/50\n",
      "1/1 [==============================] - 0s 172ms/step - loss: 0.4869 - accuracy: 0.8125 - val_loss: 1.5991 - val_accuracy: 0.2500\n",
      "Epoch 27/50\n",
      "1/1 [==============================] - 0s 189ms/step - loss: 0.4800 - accuracy: 0.8438 - val_loss: 1.5422 - val_accuracy: 0.2500\n",
      "Epoch 28/50\n",
      "1/1 [==============================] - 0s 191ms/step - loss: 0.4743 - accuracy: 0.8438 - val_loss: 1.5114 - val_accuracy: 0.2500\n",
      "Epoch 29/50\n",
      "1/1 [==============================] - 0s 173ms/step - loss: 0.4680 - accuracy: 0.8125 - val_loss: 1.5597 - val_accuracy: 0.2500\n",
      "Epoch 30/50\n",
      "1/1 [==============================] - 0s 167ms/step - loss: 0.4622 - accuracy: 0.8125 - val_loss: 1.6417 - val_accuracy: 0.2500\n",
      "Epoch 31/50\n",
      "1/1 [==============================] - 0s 210ms/step - loss: 0.4590 - accuracy: 0.8125 - val_loss: 1.6431 - val_accuracy: 0.2500\n",
      "Epoch 32/50\n",
      "1/1 [==============================] - 0s 226ms/step - loss: 0.4547 - accuracy: 0.8125 - val_loss: 1.5641 - val_accuracy: 0.2500\n",
      "Epoch 33/50\n",
      "1/1 [==============================] - 0s 178ms/step - loss: 0.4487 - accuracy: 0.8438 - val_loss: 1.4659 - val_accuracy: 0.2500\n",
      "Epoch 34/50\n",
      "1/1 [==============================] - 0s 169ms/step - loss: 0.4440 - accuracy: 0.8438 - val_loss: 1.4707 - val_accuracy: 0.2500\n",
      "Epoch 35/50\n",
      "1/1 [==============================] - 0s 153ms/step - loss: 0.4383 - accuracy: 0.8438 - val_loss: 1.5709 - val_accuracy: 0.2500\n",
      "Epoch 36/50\n",
      "1/1 [==============================] - 0s 159ms/step - loss: 0.4320 - accuracy: 0.8438 - val_loss: 1.7905 - val_accuracy: 0.2500\n",
      "Epoch 37/50\n",
      "1/1 [==============================] - 0s 165ms/step - loss: 0.4258 - accuracy: 0.8438 - val_loss: 1.9521 - val_accuracy: 0.2500\n",
      "Epoch 38/50\n",
      "1/1 [==============================] - 0s 165ms/step - loss: 0.4218 - accuracy: 0.8438 - val_loss: 1.9812 - val_accuracy: 0.2500\n",
      "Epoch 39/50\n",
      "1/1 [==============================] - 0s 142ms/step - loss: 0.4178 - accuracy: 0.8438 - val_loss: 1.9658 - val_accuracy: 0.2500\n",
      "Epoch 40/50\n",
      "1/1 [==============================] - 0s 154ms/step - loss: 0.4146 - accuracy: 0.8438 - val_loss: 1.9061 - val_accuracy: 0.2500\n",
      "Epoch 41/50\n",
      "1/1 [==============================] - 0s 159ms/step - loss: 0.4107 - accuracy: 0.8438 - val_loss: 1.8865 - val_accuracy: 0.2500\n",
      "Epoch 42/50\n",
      "1/1 [==============================] - 0s 155ms/step - loss: 0.4062 - accuracy: 0.8438 - val_loss: 1.9216 - val_accuracy: 0.2500\n",
      "Epoch 43/50\n",
      "1/1 [==============================] - 0s 194ms/step - loss: 0.4016 - accuracy: 0.8438 - val_loss: 2.0037 - val_accuracy: 0.2500\n",
      "Epoch 44/50\n",
      "1/1 [==============================] - 0s 205ms/step - loss: 0.3966 - accuracy: 0.8438 - val_loss: 2.0981 - val_accuracy: 0.2500\n",
      "Epoch 45/50\n",
      "1/1 [==============================] - 0s 172ms/step - loss: 0.3914 - accuracy: 0.8438 - val_loss: 1.9975 - val_accuracy: 0.2500\n",
      "Epoch 46/50\n",
      "1/1 [==============================] - 0s 165ms/step - loss: 0.3867 - accuracy: 0.8438 - val_loss: 1.9504 - val_accuracy: 0.2500\n",
      "Epoch 47/50\n",
      "1/1 [==============================] - 0s 169ms/step - loss: 0.3806 - accuracy: 0.8438 - val_loss: 2.3461 - val_accuracy: 0.2500\n",
      "Epoch 48/50\n",
      "1/1 [==============================] - 0s 163ms/step - loss: 0.3721 - accuracy: 0.8438 - val_loss: 2.4462 - val_accuracy: 0.2500\n",
      "Epoch 49/50\n",
      "1/1 [==============================] - 0s 184ms/step - loss: 0.3667 - accuracy: 0.8438 - val_loss: 2.1962 - val_accuracy: 0.2500\n",
      "Epoch 50/50\n",
      "1/1 [==============================] - 0s 156ms/step - loss: 0.3488 - accuracy: 0.8750 - val_loss: 1.9718 - val_accuracy: 0.2500\n"
     ]
    }
   ],
   "source": [
    "history = model.fit(x_train , y_train , validation_split=(0.1) , epochs=50)"
   ]
  },
  {
   "cell_type": "code",
   "execution_count": 104,
   "id": "2feff7c0",
   "metadata": {},
   "outputs": [
    {
     "name": "stdout",
     "output_type": "stream",
     "text": [
      "1/1 [==============================] - 0s 83ms/step - loss: 0.6820 - accuracy: 0.7500\n"
     ]
    },
    {
     "data": {
      "text/plain": [
       "[0.6820436716079712, 0.75]"
      ]
     },
     "execution_count": 104,
     "metadata": {},
     "output_type": "execute_result"
    }
   ],
   "source": [
    "model.evaluate(x_test,y_test)"
   ]
  },
  {
   "cell_type": "code",
   "execution_count": 105,
   "id": "a2223aa7",
   "metadata": {},
   "outputs": [
    {
     "name": "stdout",
     "output_type": "stream",
     "text": [
      "1/1 [==============================] - 0s 264ms/step\n"
     ]
    },
    {
     "data": {
      "text/plain": [
       "array([0, 0, 0, 0], dtype=int64)"
      ]
     },
     "execution_count": 105,
     "metadata": {},
     "output_type": "execute_result"
    }
   ],
   "source": [
    "predictions = np.argmax(model.predict(x_test),axis = 1)\n",
    "predictions"
   ]
  },
  {
   "cell_type": "code",
   "execution_count": 106,
   "id": "5c0ed1c4",
   "metadata": {},
   "outputs": [
    {
     "name": "stdout",
     "output_type": "stream",
     "text": [
      "[[1 0]\n",
      " [3 0]]\n",
      "0.25\n"
     ]
    }
   ],
   "source": [
    "from sklearn.metrics import accuracy_score,confusion_matrix ,classification_report\n",
    "cm=confusion_matrix(y_test,predictions)\n",
    "print(cm)\n",
    "print(accuracy_score(y_test,predictions))"
   ]
  },
  {
   "cell_type": "code",
   "execution_count": null,
   "id": "217c4724",
   "metadata": {},
   "outputs": [],
   "source": []
  }
 ],
 "metadata": {
  "kernelspec": {
   "display_name": "Python 3",
   "language": "python",
   "name": "python3"
  },
  "language_info": {
   "codemirror_mode": {
    "name": "ipython",
    "version": 3
   },
   "file_extension": ".py",
   "mimetype": "text/x-python",
   "name": "python",
   "nbconvert_exporter": "python",
   "pygments_lexer": "ipython3",
   "version": "3.8.8"
  }
 },
 "nbformat": 4,
 "nbformat_minor": 5
}
