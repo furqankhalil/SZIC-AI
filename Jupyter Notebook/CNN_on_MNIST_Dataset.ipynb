{
  "nbformat": 4,
  "nbformat_minor": 0,
  "metadata": {
    "colab": {
      "name": "CNN on MNIST Dataset.ipynb",
      "provenance": [],
      "collapsed_sections": []
    },
    "kernelspec": {
      "name": "python3",
      "display_name": "Python 3"
    },
    "language_info": {
      "name": "python"
    },
    "accelerator": "GPU",
    "gpuClass": "standard"
  },
  "cells": [
    {
      "cell_type": "code",
      "execution_count": 2,
      "metadata": {
        "id": "pTUNUQzkN12N"
      },
      "outputs": [],
      "source": [
        "import tensorflow as tf\n",
        "import numpy as np\n",
        "import pandas as pd\n",
        "import matplotlib.pyplot as plt"
      ]
    },
    {
      "cell_type": "code",
      "source": [
        "from keras.datasets import mnist\n",
        "\n",
        "#Loads the mnist dataset\n",
        "(x_train,y_train),(x_test,y_test)=mnist.load_data()"
      ],
      "metadata": {
        "colab": {
          "base_uri": "https://localhost:8080/"
        },
        "id": "FUgmaM0nOoDx",
        "outputId": "8751ce77-a342-4979-bcab-b273883db6cf"
      },
      "execution_count": 3,
      "outputs": [
        {
          "output_type": "stream",
          "name": "stdout",
          "text": [
            "Downloading data from https://storage.googleapis.com/tensorflow/tf-keras-datasets/mnist.npz\n",
            "11493376/11490434 [==============================] - 0s 0us/step\n",
            "11501568/11490434 [==============================] - 0s 0us/step\n"
          ]
        }
      ]
    },
    {
      "cell_type": "code",
      "source": [
        "#printing the number of Samples, Labels in datasets\n",
        "\n",
        "print('Initial shape or dimension of X_train',str(x_train.shape))\n",
        "\n",
        "print('number of samples in our training data',str(len(x_train)))\n",
        "print('number of samples in our test data',str(len(x_test)))\n",
        "\n",
        "print('number of labels in our training data',str(len(y_train)))\n",
        "print('number of labels in our test data',str(len(y_test)))"
      ],
      "metadata": {
        "colab": {
          "base_uri": "https://localhost:8080/"
        },
        "id": "ZNLSoLSeOv-S",
        "outputId": "57e432de-5ed7-4aae-fe8a-1419bcd3c90a"
      },
      "execution_count": 4,
      "outputs": [
        {
          "output_type": "stream",
          "name": "stdout",
          "text": [
            "Initial shape or dimension of X_train (60000, 28, 28)\n",
            "number of samples in our training data 60000\n",
            "number of samples in our test data 10000\n",
            "number of labels in our training data 60000\n",
            "number of labels in our test data 10000\n"
          ]
        }
      ]
    },
    {
      "cell_type": "code",
      "source": [
        "y_train\n"
      ],
      "metadata": {
        "colab": {
          "base_uri": "https://localhost:8080/"
        },
        "id": "8RXJTB32P5Za",
        "outputId": "f7ac8908-53c8-4203-d5f9-0d9f649734b5"
      },
      "execution_count": 32,
      "outputs": [
        {
          "output_type": "execute_result",
          "data": {
            "text/plain": [
              "array([5, 0, 4, ..., 5, 6, 8], dtype=uint8)"
            ]
          },
          "metadata": {},
          "execution_count": 32
        }
      ]
    },
    {
      "cell_type": "code",
      "source": [
        "plt.matshow(x_train[10])"
      ],
      "metadata": {
        "colab": {
          "base_uri": "https://localhost:8080/",
          "height": 292
        },
        "id": "Lh8GsgoNUqQn",
        "outputId": "e675980c-8206-47d2-ed7d-a3d9f62237f5"
      },
      "execution_count": 33,
      "outputs": [
        {
          "output_type": "execute_result",
          "data": {
            "text/plain": [
              "<matplotlib.image.AxesImage at 0x7fdbe0016cd0>"
            ]
          },
          "metadata": {},
          "execution_count": 33
        },
        {
          "output_type": "display_data",
          "data": {
            "text/plain": [
              "<Figure size 288x288 with 1 Axes>"
            ],
            "image/png": "[encoded data removed]"
          },
          "metadata": {
            "needs_background": "light"
          }
        }
      ]
    },
    {
      "cell_type": "code",
      "source": [
        "from tensorflow.keras.models import Sequential\n",
        "from tensorflow.keras.layers import Dense,Conv2D,Dense,MaxPooling2D,Flatten,BatchNormalization,Dropout"
      ],
      "metadata": {
        "id": "o5pcKyiMO2-o"
      },
      "execution_count": 20,
      "outputs": []
    },
    {
      "cell_type": "code",
      "source": [
        "model = Sequential()\n",
        "\n",
        "model.add(Conv2D(64, (3,3) , input_shape = (28,28,1),activation = 'relu'))     #Input Layer\n",
        "model.add(BatchNormalization())\n",
        "model.add(MaxPooling2D(2,2))\n",
        "model.add(Dropout(0.1))\n",
        "          \n",
        "model.add(Conv2D(64, (3,3) , activation='relu'))      #Hidden Layer\n",
        "model.add(BatchNormalization())\n",
        "model.add(MaxPooling2D(2,2)) \n",
        "model.add(Dropout(0.1))\n",
        "\n",
        "model.add(Conv2D(80, (3,3) , activation='relu'))      #Hidden Layer\n",
        "model.add(BatchNormalization())\n",
        "model.add(MaxPooling2D(2,2))\n",
        "model.add(Dropout(0.1))\n",
        "\n",
        "model.add(Flatten())\n",
        "\n",
        "model.add(Dense(100, activation = 'relu'))\n",
        "model.add(Dropout(0.1))\n",
        "\n",
        "model.add(Dense(50, activation = 'relu'))\n",
        "model.add(Dropout(0.1))  \n",
        "\n",
        "model.add(Dense(10, activation = 'softmax'))  #Output Layer\n",
        "\n",
        "model.compile(optimizer = 'adam', loss = 'sparse_categorical_crossentropy',metrics = ['accuracy'])\n",
        "\n",
        "model.summary()"
      ],
      "metadata": {
        "colab": {
          "base_uri": "https://localhost:8080/"
        },
        "id": "ivmRbBgsO-KK",
        "outputId": "95d850fd-c31a-48d3-ca51-df0c437480c6"
      },
      "execution_count": 25,
      "outputs": [
        {
          "output_type": "stream",
          "name": "stdout",
          "text": [
            "Model: \"sequential_6\"\n",
            "_________________________________________________________________\n",
            " Layer (type)                Output Shape              Param #   \n",
            "=================================================================\n",
            " conv2d_14 (Conv2D)          (None, 26, 26, 64)        640       \n",
            "                                                                 \n",
            " batch_normalization_7 (Batc  (None, 26, 26, 64)       256       \n",
            " hNormalization)                                                 \n",
            "                                                                 \n",
            " max_pooling2d_12 (MaxPoolin  (None, 13, 13, 64)       0         \n",
            " g2D)                                                            \n",
            "                                                                 \n",
            " dropout_10 (Dropout)        (None, 13, 13, 64)        0         \n",
            "                                                                 \n",
            " conv2d_15 (Conv2D)          (None, 11, 11, 64)        36928     \n",
            "                                                                 \n",
            " batch_normalization_8 (Batc  (None, 11, 11, 64)       256       \n",
            " hNormalization)                                                 \n",
            "                                                                 \n",
            " max_pooling2d_13 (MaxPoolin  (None, 5, 5, 64)         0         \n",
            " g2D)                                                            \n",
            "                                                                 \n",
            " dropout_11 (Dropout)        (None, 5, 5, 64)          0         \n",
            "                                                                 \n",
            " conv2d_16 (Conv2D)          (None, 3, 3, 80)          46160     \n",
            "                                                                 \n",
            " batch_normalization_9 (Batc  (None, 3, 3, 80)         320       \n",
            " hNormalization)                                                 \n",
            "                                                                 \n",
            " max_pooling2d_14 (MaxPoolin  (None, 1, 1, 80)         0         \n",
            " g2D)                                                            \n",
            "                                                                 \n",
            " dropout_12 (Dropout)        (None, 1, 1, 80)          0         \n",
            "                                                                 \n",
            " flatten_3 (Flatten)         (None, 80)                0         \n",
            "                                                                 \n",
            " dense_8 (Dense)             (None, 100)               8100      \n",
            "                                                                 \n",
            " dropout_13 (Dropout)        (None, 100)               0         \n",
            "                                                                 \n",
            " dense_9 (Dense)             (None, 50)                5050      \n",
            "                                                                 \n",
            " dropout_14 (Dropout)        (None, 50)                0         \n",
            "                                                                 \n",
            " dense_10 (Dense)            (None, 10)                510       \n",
            "                                                                 \n",
            "=================================================================\n",
            "Total params: 98,220\n",
            "Trainable params: 97,804\n",
            "Non-trainable params: 416\n",
            "_________________________________________________________________\n"
          ]
        }
      ]
    },
    {
      "cell_type": "code",
      "source": [
        "history = model.fit(x_train , y_train , validation_split=(0.1) , epochs=10)"
      ],
      "metadata": {
        "colab": {
          "base_uri": "https://localhost:8080/"
        },
        "id": "FZJPF3v6Qe5z",
        "outputId": "298f0377-0e11-48b9-c487-f0e63fc9516a"
      },
      "execution_count": 26,
      "outputs": [
        {
          "output_type": "stream",
          "name": "stdout",
          "text": [
            "Epoch 1/10\n",
            "1688/1688 [==============================] - 9s 5ms/step - loss: 0.2250 - accuracy: 0.9313 - val_loss: 0.0536 - val_accuracy: 0.9827\n",
            "Epoch 2/10\n",
            "1688/1688 [==============================] - 8s 4ms/step - loss: 0.0902 - accuracy: 0.9726 - val_loss: 0.0455 - val_accuracy: 0.9873\n",
            "Epoch 3/10\n",
            "1688/1688 [==============================] - 8s 5ms/step - loss: 0.0682 - accuracy: 0.9790 - val_loss: 0.0417 - val_accuracy: 0.9878\n",
            "Epoch 4/10\n",
            "1688/1688 [==============================] - 8s 5ms/step - loss: 0.0580 - accuracy: 0.9825 - val_loss: 0.0437 - val_accuracy: 0.9885\n",
            "Epoch 5/10\n",
            "1688/1688 [==============================] - 8s 5ms/step - loss: 0.0512 - accuracy: 0.9846 - val_loss: 0.0446 - val_accuracy: 0.9880\n",
            "Epoch 6/10\n",
            "1688/1688 [==============================] - 8s 5ms/step - loss: 0.0449 - accuracy: 0.9860 - val_loss: 0.0376 - val_accuracy: 0.9893\n",
            "Epoch 7/10\n",
            "1688/1688 [==============================] - 8s 5ms/step - loss: 0.0402 - accuracy: 0.9877 - val_loss: 0.0430 - val_accuracy: 0.9897\n",
            "Epoch 8/10\n",
            "1688/1688 [==============================] - 8s 5ms/step - loss: 0.0367 - accuracy: 0.9883 - val_loss: 0.0422 - val_accuracy: 0.9907\n",
            "Epoch 9/10\n",
            "1688/1688 [==============================] - 7s 4ms/step - loss: 0.0331 - accuracy: 0.9899 - val_loss: 0.0422 - val_accuracy: 0.9902\n",
            "Epoch 10/10\n",
            "1688/1688 [==============================] - 8s 4ms/step - loss: 0.0309 - accuracy: 0.9908 - val_loss: 0.0430 - val_accuracy: 0.9913\n"
          ]
        }
      ]
    },
    {
      "cell_type": "code",
      "source": [
        "model.evaluate(x_test,y_test)"
      ],
      "metadata": {
        "colab": {
          "base_uri": "https://localhost:8080/"
        },
        "id": "Tgyxt-GcRf_n",
        "outputId": "e61e35cc-9ea3-4487-8602-d0db82bd9b07"
      },
      "execution_count": 27,
      "outputs": [
        {
          "output_type": "stream",
          "name": "stdout",
          "text": [
            "313/313 [==============================] - 1s 3ms/step - loss: 0.0413 - accuracy: 0.9889\n"
          ]
        },
        {
          "output_type": "execute_result",
          "data": {
            "text/plain": [
              "[0.04128487408161163, 0.9889000058174133]"
            ]
          },
          "metadata": {},
          "execution_count": 27
        }
      ]
    },
    {
      "cell_type": "code",
      "source": [
        "predictions = np.argmax(model.predict(x_test),axis = 1)\n",
        "predictions"
      ],
      "metadata": {
        "colab": {
          "base_uri": "https://localhost:8080/"
        },
        "id": "LkwsyYUsStIu",
        "outputId": "2b1d09d4-b4c1-4da1-fc27-7e60ac634215"
      },
      "execution_count": 28,
      "outputs": [
        {
          "output_type": "execute_result",
          "data": {
            "text/plain": [
              "array([7, 2, 1, ..., 4, 5, 6])"
            ]
          },
          "metadata": {},
          "execution_count": 28
        }
      ]
    },
    {
      "cell_type": "code",
      "source": [
        "from sklearn.metrics import accuracy_score,confusion_matrix ,classification_report\n",
        "cm=confusion_matrix(y_test,predictions)\n",
        "print(cm)\n",
        "print(accuracy_score(y_test,predictions))"
      ],
      "metadata": {
        "colab": {
          "base_uri": "https://localhost:8080/"
        },
        "id": "UV0pr-dUS5Zc",
        "outputId": "2d2c1f08-f00a-421d-a192-6465336df80e"
      },
      "execution_count": 29,
      "outputs": [
        {
          "output_type": "stream",
          "name": "stdout",
          "text": [
            "[[ 960    0    5    0    0    1    3    9    1    1]\n",
            " [   0 1129    1    1    0    0    1    3    0    0]\n",
            " [   0    0 1021    0    0    0    0   11    0    0]\n",
            " [   0    0    1  997    0    8    0    3    1    0]\n",
            " [   0    0    0    0  975    0    2    0    0    5]\n",
            " [   3    0    0    3    0  884    1    1    0    0]\n",
            " [   2    3    1    0    1    4  947    0    0    0]\n",
            " [   0    2    5    1    0    1    0 1019    0    0]\n",
            " [   0    1    0    1    1    2    0    0  964    5]\n",
            " [   2    1    0    0    4    4    0    4    1  993]]\n",
            "0.9889\n"
          ]
        }
      ]
    },
    {
      "cell_type": "code",
      "source": [
        "import seaborn as sns\n",
        "\n",
        "fig = plt.figure(figsize=(10,7))\n",
        "confusion_matrix = cm\n",
        "sns.heatmap(confusion_matrix,annot = True,fmt = 'd')"
      ],
      "metadata": {
        "colab": {
          "base_uri": "https://localhost:8080/",
          "height": 445
        },
        "id": "l3JaZpxGS883",
        "outputId": "23698964-6a1c-48ba-d9f4-e7ec82554be3"
      },
      "execution_count": 30,
      "outputs": [
        {
          "output_type": "execute_result",
          "data": {
            "text/plain": [
              "<matplotlib.axes._subplots.AxesSubplot at 0x7fdb7a3e4890>"
            ]
          },
          "metadata": {},
          "execution_count": 30
        },
        {
          "output_type": "display_data",
          "data": {
            "text/plain": [
              "<Figure size 720x504 with 2 Axes>"
            ],
            "image/png": "[encoded data removed]"
          },
          "metadata": {
            "needs_background": "light"
          }
        }
      ]
    },
    {
      "cell_type": "code",
      "source": [
        "print(classification_report(predictions,y_test))"
      ],
      "metadata": {
        "colab": {
          "base_uri": "https://localhost:8080/"
        },
        "id": "xKopDg3mTEdN",
        "outputId": "52129fd8-b9b3-43ce-e701-bdf01debca57"
      },
      "execution_count": 31,
      "outputs": [
        {
          "output_type": "stream",
          "name": "stdout",
          "text": [
            "              precision    recall  f1-score   support\n",
            "\n",
            "           0       0.98      0.99      0.99       967\n",
            "           1       0.99      0.99      0.99      1136\n",
            "           2       0.99      0.99      0.99      1034\n",
            "           3       0.99      0.99      0.99      1003\n",
            "           4       0.99      0.99      0.99       981\n",
            "           5       0.99      0.98      0.98       904\n",
            "           6       0.99      0.99      0.99       954\n",
            "           7       0.99      0.97      0.98      1050\n",
            "           8       0.99      1.00      0.99       967\n",
            "           9       0.98      0.99      0.99      1004\n",
            "\n",
            "    accuracy                           0.99     10000\n",
            "   macro avg       0.99      0.99      0.99     10000\n",
            "weighted avg       0.99      0.99      0.99     10000\n",
            "\n"
          ]
        }
      ]
    }
  ]
}