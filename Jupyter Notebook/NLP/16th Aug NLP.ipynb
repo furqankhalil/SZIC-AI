{
 "cells": [
  {
   "cell_type": "markdown",
   "id": "42225d70",
   "metadata": {},
   "source": [
    "# Reading text file "
   ]
  },
  {
   "cell_type": "code",
   "execution_count": 1,
   "id": "39fee394",
   "metadata": {},
   "outputs": [],
   "source": [
    "with open('Essay.txt','r+') as essay:\n",
    "    text=essay.read()"
   ]
  },
  {
   "cell_type": "code",
   "execution_count": 4,
   "id": "2cfb8755",
   "metadata": {},
   "outputs": [
    {
     "data": {
      "text/plain": [
       "'First of all, Bribery is the most common method of Corruption. Bribery involves the improper use of favours and gifts in exchange for personal gain. Furthermore, the types of favours are diverse. Above all, the favours include money, gifts, company shares, sexual favours, employment, entertainment, and political benefits. Also, personal gain can be â€“ giving preferential treatment and overlooking crime.\\n\\nEmbezzlement refers to the act of withholding assets for the purpose of theft. Furthermore, it takes place by one or more individuals who were entrusted with these assets. Above all, embezzlement is a type of financial fraud.\\n\\nThe graft is a global form of Corruption. Most noteworthy, it refers to the illegal use of a politicianâ€™s authority for personal gain. Furthermore, a popular way for the graft is misdirecting public funds for the benefit of politicians.\\n\\nExtortion is another major method of Corruption. It means to obtain property, money or services illegally. Above all, this obtainment takes place by coercing individuals or organizations. Hence, Extortion is quite similar to blackmail.\\n\\nFavouritism and nepotism is quite an old form of Corruption still in usage. This refers to a person favouring oneâ€™s own relatives and friends to jobs. This is certainly a very unfair practice. This is because many deserving candidates fail to get jobs.\\n\\nAbuse of discretion is another method of Corruption. Here, a person misuses oneâ€™s power and authority. An example can be a judge unjustly dismissing a criminalâ€™s case.\\n\\nFinally, influence peddling is the last method here. This refers to illegally using oneâ€™s influence with the government or other authorized individuals. Furthermore, it takes place in order to obtain preferential treatment or favour.\\n\\nGet the huge list of more than 500 Essay Topics and Ideas\\n\\nWays of Stopping Corruption:\\n\\nOne important way of preventing Corruption is to give a better salary in a government job. Many government employees receive pretty low salaries. Therefore, they resort to bribery to meet their expenses. So, government employees should receive higher salaries. Consequently, high salaries would reduce their motivation and resolve to engage in bribery.\\n\\nIncreasing the number of workers can be another suitable way of curbing Corruption. In many government offices, the workload is very high. This provides an opportunity to slow down the work by government employees. Consequently, these employees then indulge in bribery in return for faster delivery of work. Hence, this opportunity to bribe can be removed by bringing in more employees in government offices.\\nTough laws are very important for stopping Corruption. Above all, strict punishments need to be meted out to guilty individuals. Furthermore, there should be an efficient and quick implementation of strict laws.\\n\\nApplying cameras in workplaces is an excellent way to prevent corruption. Above all, many individuals would refrain from indulging in Corruption due to fear of being caught. Furthermore, these individuals would have otherwise engaged in Corruption.\\n\\nThe government must make sure to keep inflation low. Due to the rise in prices, many people feel their incomes to be too low. Consequently, this increases Corruption among the masses. Businessmen raise prices to sell their stock of goods at higher prices. Furthermore, the politician supports them due to the benefits they receive.\\n\\nTo sum it up, Corruption is a great evil of society. This evil should be quickly eliminated from society. Corruption is the poison that has penetrated the minds of many individuals these days. Hopefully, with consistent political and social efforts, we can get rid of Corruption.'"
      ]
     },
     "execution_count": 4,
     "metadata": {},
     "output_type": "execute_result"
    }
   ],
   "source": [
    "text"
   ]
  },
  {
   "cell_type": "code",
   "execution_count": 2,
   "id": "1a86a7e3",
   "metadata": {},
   "outputs": [],
   "source": [
    "import nltk\n",
    "#nltk.download('punkt')"
   ]
  },
  {
   "cell_type": "markdown",
   "id": "a5a43d03",
   "metadata": {},
   "source": [
    "# Sentence Tokenization"
   ]
  },
  {
   "cell_type": "code",
   "execution_count": 3,
   "id": "e3018c85",
   "metadata": {
    "scrolled": true
   },
   "outputs": [
    {
     "data": {
      "text/plain": [
       "['First of all, Bribery is the most common method of Corruption.',\n",
       " 'Bribery involves the improper use of favours and gifts in exchange for personal gain.',\n",
       " 'Furthermore, the types of favours are diverse.',\n",
       " 'Above all, the favours include money, gifts, company shares, sexual favours, employment, entertainment, and political benefits.',\n",
       " 'Also, personal gain can be â€“ giving preferential treatment and overlooking crime.',\n",
       " 'Embezzlement refers to the act of withholding assets for the purpose of theft.',\n",
       " 'Furthermore, it takes place by one or more individuals who were entrusted with these assets.',\n",
       " 'Above all, embezzlement is a type of financial fraud.',\n",
       " 'The graft is a global form of Corruption.',\n",
       " 'Most noteworthy, it refers to the illegal use of a politicianâ€™s authority for personal gain.',\n",
       " 'Furthermore, a popular way for the graft is misdirecting public funds for the benefit of politicians.',\n",
       " 'Extortion is another major method of Corruption.',\n",
       " 'It means to obtain property, money or services illegally.',\n",
       " 'Above all, this obtainment takes place by coercing individuals or organizations.',\n",
       " 'Hence, Extortion is quite similar to blackmail.',\n",
       " 'Favouritism and nepotism is quite an old form of Corruption still in usage.',\n",
       " 'This refers to a person favouring oneâ€™s own relatives and friends to jobs.',\n",
       " 'This is certainly a very unfair practice.',\n",
       " 'This is because many deserving candidates fail to get jobs.',\n",
       " 'Abuse of discretion is another method of Corruption.',\n",
       " 'Here, a person misuses oneâ€™s power and authority.',\n",
       " 'An example can be a judge unjustly dismissing a criminalâ€™s case.',\n",
       " 'Finally, influence peddling is the last method here.',\n",
       " 'This refers to illegally using oneâ€™s influence with the government or other authorized individuals.',\n",
       " 'Furthermore, it takes place in order to obtain preferential treatment or favour.',\n",
       " 'Get the huge list of more than 500 Essay Topics and Ideas\\n\\nWays of Stopping Corruption:\\n\\nOne important way of preventing Corruption is to give a better salary in a government job.',\n",
       " 'Many government employees receive pretty low salaries.',\n",
       " 'Therefore, they resort to bribery to meet their expenses.',\n",
       " 'So, government employees should receive higher salaries.',\n",
       " 'Consequently, high salaries would reduce their motivation and resolve to engage in bribery.',\n",
       " 'Increasing the number of workers can be another suitable way of curbing Corruption.',\n",
       " 'In many government offices, the workload is very high.',\n",
       " 'This provides an opportunity to slow down the work by government employees.',\n",
       " 'Consequently, these employees then indulge in bribery in return for faster delivery of work.',\n",
       " 'Hence, this opportunity to bribe can be removed by bringing in more employees in government offices.',\n",
       " 'Tough laws are very important for stopping Corruption.',\n",
       " 'Above all, strict punishments need to be meted out to guilty individuals.',\n",
       " 'Furthermore, there should be an efficient and quick implementation of strict laws.',\n",
       " 'Applying cameras in workplaces is an excellent way to prevent corruption.',\n",
       " 'Above all, many individuals would refrain from indulging in Corruption due to fear of being caught.',\n",
       " 'Furthermore, these individuals would have otherwise engaged in Corruption.',\n",
       " 'The government must make sure to keep inflation low.',\n",
       " 'Due to the rise in prices, many people feel their incomes to be too low.',\n",
       " 'Consequently, this increases Corruption among the masses.',\n",
       " 'Businessmen raise prices to sell their stock of goods at higher prices.',\n",
       " 'Furthermore, the politician supports them due to the benefits they receive.',\n",
       " 'To sum it up, Corruption is a great evil of society.',\n",
       " 'This evil should be quickly eliminated from society.',\n",
       " 'Corruption is the poison that has penetrated the minds of many individuals these days.',\n",
       " 'Hopefully, with consistent political and social efforts, we can get rid of Corruption.']"
      ]
     },
     "execution_count": 3,
     "metadata": {},
     "output_type": "execute_result"
    }
   ],
   "source": [
    "sentences = nltk.sent_tokenize(text)\n",
    "sentences"
   ]
  },
  {
   "cell_type": "code",
   "execution_count": 6,
   "id": "5f60c8e2",
   "metadata": {},
   "outputs": [
    {
     "data": {
      "text/plain": [
       "50"
      ]
     },
     "execution_count": 6,
     "metadata": {},
     "output_type": "execute_result"
    }
   ],
   "source": [
    "len(sentences)"
   ]
  },
  {
   "cell_type": "markdown",
   "id": "d62b76c0",
   "metadata": {},
   "source": [
    "# Word Tokenization"
   ]
  },
  {
   "cell_type": "code",
   "execution_count": 7,
   "id": "4acf0105",
   "metadata": {},
   "outputs": [],
   "source": [
    "from nltk import word_tokenize"
   ]
  },
  {
   "cell_type": "code",
   "execution_count": 8,
   "id": "654c1e13",
   "metadata": {
    "scrolled": false
   },
   "outputs": [
    {
     "name": "stdout",
     "output_type": "stream",
     "text": [
      "[['First', 'of', 'all', ',', 'Bribery', 'is', 'the', 'most', 'common', 'method', 'of', 'Corruption', '.'], ['Bribery', 'involves', 'the', 'improper', 'use', 'of', 'favours', 'and', 'gifts', 'in', 'exchange', 'for', 'personal', 'gain', '.'], ['Furthermore', ',', 'the', 'types', 'of', 'favours', 'are', 'diverse', '.'], ['Above', 'all', ',', 'the', 'favours', 'include', 'money', ',', 'gifts', ',', 'company', 'shares', ',', 'sexual', 'favours', ',', 'employment', ',', 'entertainment', ',', 'and', 'political', 'benefits', '.'], ['Also', ',', 'personal', 'gain', 'can', 'be', 'â€', '“', 'giving', 'preferential', 'treatment', 'and', 'overlooking', 'crime', '.'], ['Embezzlement', 'refers', 'to', 'the', 'act', 'of', 'withholding', 'assets', 'for', 'the', 'purpose', 'of', 'theft', '.'], ['Furthermore', ',', 'it', 'takes', 'place', 'by', 'one', 'or', 'more', 'individuals', 'who', 'were', 'entrusted', 'with', 'these', 'assets', '.'], ['Above', 'all', ',', 'embezzlement', 'is', 'a', 'type', 'of', 'financial', 'fraud', '.'], ['The', 'graft', 'is', 'a', 'global', 'form', 'of', 'Corruption', '.'], ['Most', 'noteworthy', ',', 'it', 'refers', 'to', 'the', 'illegal', 'use', 'of', 'a', 'politicianâ€™s', 'authority', 'for', 'personal', 'gain', '.'], ['Furthermore', ',', 'a', 'popular', 'way', 'for', 'the', 'graft', 'is', 'misdirecting', 'public', 'funds', 'for', 'the', 'benefit', 'of', 'politicians', '.'], ['Extortion', 'is', 'another', 'major', 'method', 'of', 'Corruption', '.'], ['It', 'means', 'to', 'obtain', 'property', ',', 'money', 'or', 'services', 'illegally', '.'], ['Above', 'all', ',', 'this', 'obtainment', 'takes', 'place', 'by', 'coercing', 'individuals', 'or', 'organizations', '.'], ['Hence', ',', 'Extortion', 'is', 'quite', 'similar', 'to', 'blackmail', '.'], ['Favouritism', 'and', 'nepotism', 'is', 'quite', 'an', 'old', 'form', 'of', 'Corruption', 'still', 'in', 'usage', '.'], ['This', 'refers', 'to', 'a', 'person', 'favouring', 'oneâ€™s', 'own', 'relatives', 'and', 'friends', 'to', 'jobs', '.'], ['This', 'is', 'certainly', 'a', 'very', 'unfair', 'practice', '.'], ['This', 'is', 'because', 'many', 'deserving', 'candidates', 'fail', 'to', 'get', 'jobs', '.'], ['Abuse', 'of', 'discretion', 'is', 'another', 'method', 'of', 'Corruption', '.'], ['Here', ',', 'a', 'person', 'misuses', 'oneâ€™s', 'power', 'and', 'authority', '.'], ['An', 'example', 'can', 'be', 'a', 'judge', 'unjustly', 'dismissing', 'a', 'criminalâ€™s', 'case', '.'], ['Finally', ',', 'influence', 'peddling', 'is', 'the', 'last', 'method', 'here', '.'], ['This', 'refers', 'to', 'illegally', 'using', 'oneâ€™s', 'influence', 'with', 'the', 'government', 'or', 'other', 'authorized', 'individuals', '.'], ['Furthermore', ',', 'it', 'takes', 'place', 'in', 'order', 'to', 'obtain', 'preferential', 'treatment', 'or', 'favour', '.'], ['Get', 'the', 'huge', 'list', 'of', 'more', 'than', '500', 'Essay', 'Topics', 'and', 'Ideas', 'Ways', 'of', 'Stopping', 'Corruption', ':', 'One', 'important', 'way', 'of', 'preventing', 'Corruption', 'is', 'to', 'give', 'a', 'better', 'salary', 'in', 'a', 'government', 'job', '.'], ['Many', 'government', 'employees', 'receive', 'pretty', 'low', 'salaries', '.'], ['Therefore', ',', 'they', 'resort', 'to', 'bribery', 'to', 'meet', 'their', 'expenses', '.'], ['So', ',', 'government', 'employees', 'should', 'receive', 'higher', 'salaries', '.'], ['Consequently', ',', 'high', 'salaries', 'would', 'reduce', 'their', 'motivation', 'and', 'resolve', 'to', 'engage', 'in', 'bribery', '.'], ['Increasing', 'the', 'number', 'of', 'workers', 'can', 'be', 'another', 'suitable', 'way', 'of', 'curbing', 'Corruption', '.'], ['In', 'many', 'government', 'offices', ',', 'the', 'workload', 'is', 'very', 'high', '.'], ['This', 'provides', 'an', 'opportunity', 'to', 'slow', 'down', 'the', 'work', 'by', 'government', 'employees', '.'], ['Consequently', ',', 'these', 'employees', 'then', 'indulge', 'in', 'bribery', 'in', 'return', 'for', 'faster', 'delivery', 'of', 'work', '.'], ['Hence', ',', 'this', 'opportunity', 'to', 'bribe', 'can', 'be', 'removed', 'by', 'bringing', 'in', 'more', 'employees', 'in', 'government', 'offices', '.'], ['Tough', 'laws', 'are', 'very', 'important', 'for', 'stopping', 'Corruption', '.'], ['Above', 'all', ',', 'strict', 'punishments', 'need', 'to', 'be', 'meted', 'out', 'to', 'guilty', 'individuals', '.'], ['Furthermore', ',', 'there', 'should', 'be', 'an', 'efficient', 'and', 'quick', 'implementation', 'of', 'strict', 'laws', '.'], ['Applying', 'cameras', 'in', 'workplaces', 'is', 'an', 'excellent', 'way', 'to', 'prevent', 'corruption', '.'], ['Above', 'all', ',', 'many', 'individuals', 'would', 'refrain', 'from', 'indulging', 'in', 'Corruption', 'due', 'to', 'fear', 'of', 'being', 'caught', '.'], ['Furthermore', ',', 'these', 'individuals', 'would', 'have', 'otherwise', 'engaged', 'in', 'Corruption', '.'], ['The', 'government', 'must', 'make', 'sure', 'to', 'keep', 'inflation', 'low', '.'], ['Due', 'to', 'the', 'rise', 'in', 'prices', ',', 'many', 'people', 'feel', 'their', 'incomes', 'to', 'be', 'too', 'low', '.'], ['Consequently', ',', 'this', 'increases', 'Corruption', 'among', 'the', 'masses', '.'], ['Businessmen', 'raise', 'prices', 'to', 'sell', 'their', 'stock', 'of', 'goods', 'at', 'higher', 'prices', '.'], ['Furthermore', ',', 'the', 'politician', 'supports', 'them', 'due', 'to', 'the', 'benefits', 'they', 'receive', '.'], ['To', 'sum', 'it', 'up', ',', 'Corruption', 'is', 'a', 'great', 'evil', 'of', 'society', '.'], ['This', 'evil', 'should', 'be', 'quickly', 'eliminated', 'from', 'society', '.'], ['Corruption', 'is', 'the', 'poison', 'that', 'has', 'penetrated', 'the', 'minds', 'of', 'many', 'individuals', 'these', 'days', '.'], ['Hopefully', ',', 'with', 'consistent', 'political', 'and', 'social', 'efforts', ',', 'we', 'can', 'get', 'rid', 'of', 'Corruption', '.']]\n"
     ]
    }
   ],
   "source": [
    "wordy = []\n",
    "for sent in range(len(sentences)):\n",
    "    #sen = sentences[sent]\n",
    "    #sen = ' '.join(sen)\n",
    "    #senty.append(sen)\n",
    "    words = word_tokenize(sentences[sent])\n",
    "    #words = ' '.join(words)\n",
    "    wordy.append(words)\n",
    "    #print(words)\n",
    "print(wordy)"
   ]
  },
  {
   "cell_type": "code",
   "execution_count": 9,
   "id": "5475cca3",
   "metadata": {},
   "outputs": [
    {
     "data": {
      "text/plain": [
       "50"
      ]
     },
     "execution_count": 9,
     "metadata": {},
     "output_type": "execute_result"
    }
   ],
   "source": [
    "len(wordy)"
   ]
  },
  {
   "cell_type": "code",
   "execution_count": 31,
   "id": "cffd560c",
   "metadata": {},
   "outputs": [
    {
     "name": "stderr",
     "output_type": "stream",
     "text": [
      "[nltk_data] Downloading package wordnet to C:\\Users\\Furqan\n",
      "[nltk_data]     Khalil\\AppData\\Roaming\\nltk_data...\n",
      "[nltk_data] Downloading package omw-1.4 to C:\\Users\\Furqan\n",
      "[nltk_data]     Khalil\\AppData\\Roaming\\nltk_data...\n"
     ]
    },
    {
     "data": {
      "text/plain": [
       "True"
      ]
     },
     "execution_count": 31,
     "metadata": {},
     "output_type": "execute_result"
    }
   ],
   "source": [
    "from nltk.stem import WordNetLemmatizer\n",
    "nltk.download('wordnet')\n",
    "nltk.download('omw-1.4')"
   ]
  },
  {
   "cell_type": "markdown",
   "id": "fc726c4b",
   "metadata": {},
   "source": [
    "# Stemming "
   ]
  },
  {
   "cell_type": "code",
   "execution_count": 10,
   "id": "869388e3",
   "metadata": {},
   "outputs": [
    {
     "name": "stdout",
     "output_type": "stream",
     "text": [
      "['first', 'of', 'all', ',', 'briberi', 'is', 'the', 'most', 'common', 'method', 'of', 'corrupt', '.', 'briberi', 'involv', 'the', 'improp', 'use', 'of', 'favour', 'and', 'gift', 'in', 'exchang', 'for', 'person', 'gain', '.', 'furthermor', ',', 'the', 'type', 'of', 'favour', 'are', 'divers', '.', 'abov', 'all', ',', 'the', 'favour', 'includ', 'money', ',', 'gift', ',', 'compani', 'share', ',', 'sexual', 'favour', ',', 'employ', ',', 'entertain', ',', 'and', 'polit', 'benefit', '.', 'also', ',', 'person', 'gain', 'can', 'be', 'â€', '“', 'give', 'preferenti', 'treatment', 'and', 'overlook', 'crime', '.', 'embezzl', 'refer', 'to', 'the', 'act', 'of', 'withhold', 'asset', 'for', 'the', 'purpos', 'of', 'theft', '.', 'furthermor', ',', 'it', 'take', 'place', 'by', 'one', 'or', 'more', 'individu', 'who', 'were', 'entrust', 'with', 'these', 'asset', '.', 'abov', 'all', ',', 'embezzl', 'is', 'a', 'type', 'of', 'financi', 'fraud', '.', 'the', 'graft', 'is', 'a', 'global', 'form', 'of', 'corrupt', '.', 'most', 'noteworthi', ',', 'it', 'refer', 'to', 'the', 'illeg', 'use', 'of', 'a', 'politicianâ€™', 'author', 'for', 'person', 'gain', '.', 'furthermor', ',', 'a', 'popular', 'way', 'for', 'the', 'graft', 'is', 'misdirect', 'public', 'fund', 'for', 'the', 'benefit', 'of', 'politician', '.', 'extort', 'is', 'anoth', 'major', 'method', 'of', 'corrupt', '.', 'it', 'mean', 'to', 'obtain', 'properti', ',', 'money', 'or', 'servic', 'illeg', '.', 'abov', 'all', ',', 'thi', 'obtain', 'take', 'place', 'by', 'coerc', 'individu', 'or', 'organ', '.', 'henc', ',', 'extort', 'is', 'quit', 'similar', 'to', 'blackmail', '.', 'favourit', 'and', 'nepot', 'is', 'quit', 'an', 'old', 'form', 'of', 'corrupt', 'still', 'in', 'usag', '.', 'thi', 'refer', 'to', 'a', 'person', 'favour', 'oneâ€™', 'own', 'rel', 'and', 'friend', 'to', 'job', '.', 'thi', 'is', 'certainli', 'a', 'veri', 'unfair', 'practic', '.', 'thi', 'is', 'becaus', 'mani', 'deserv', 'candid', 'fail', 'to', 'get', 'job', '.', 'abus', 'of', 'discret', 'is', 'anoth', 'method', 'of', 'corrupt', '.', 'here', ',', 'a', 'person', 'misus', 'oneâ€™', 'power', 'and', 'author', '.', 'an', 'exampl', 'can', 'be', 'a', 'judg', 'unjustli', 'dismiss', 'a', 'criminalâ€™', 'case', '.', 'final', ',', 'influenc', 'peddl', 'is', 'the', 'last', 'method', 'here', '.', 'thi', 'refer', 'to', 'illeg', 'use', 'oneâ€™', 'influenc', 'with', 'the', 'govern', 'or', 'other', 'author', 'individu', '.', 'furthermor', ',', 'it', 'take', 'place', 'in', 'order', 'to', 'obtain', 'preferenti', 'treatment', 'or', 'favour', '.', 'get', 'the', 'huge', 'list', 'of', 'more', 'than', '500', 'essay', 'topic', 'and', 'idea', 'way', 'of', 'stop', 'corrupt', ':', 'one', 'import', 'way', 'of', 'prevent', 'corrupt', 'is', 'to', 'give', 'a', 'better', 'salari', 'in', 'a', 'govern', 'job', '.', 'mani', 'govern', 'employe', 'receiv', 'pretti', 'low', 'salari', '.', 'therefor', ',', 'they', 'resort', 'to', 'briberi', 'to', 'meet', 'their', 'expens', '.', 'so', ',', 'govern', 'employe', 'should', 'receiv', 'higher', 'salari', '.', 'consequ', ',', 'high', 'salari', 'would', 'reduc', 'their', 'motiv', 'and', 'resolv', 'to', 'engag', 'in', 'briberi', '.', 'increas', 'the', 'number', 'of', 'worker', 'can', 'be', 'anoth', 'suitabl', 'way', 'of', 'curb', 'corrupt', '.', 'in', 'mani', 'govern', 'offic', ',', 'the', 'workload', 'is', 'veri', 'high', '.', 'thi', 'provid', 'an', 'opportun', 'to', 'slow', 'down', 'the', 'work', 'by', 'govern', 'employe', '.', 'consequ', ',', 'these', 'employe', 'then', 'indulg', 'in', 'briberi', 'in', 'return', 'for', 'faster', 'deliveri', 'of', 'work', '.', 'henc', ',', 'thi', 'opportun', 'to', 'bribe', 'can', 'be', 'remov', 'by', 'bring', 'in', 'more', 'employe', 'in', 'govern', 'offic', '.', 'tough', 'law', 'are', 'veri', 'import', 'for', 'stop', 'corrupt', '.', 'abov', 'all', ',', 'strict', 'punish', 'need', 'to', 'be', 'mete', 'out', 'to', 'guilti', 'individu', '.', 'furthermor', ',', 'there', 'should', 'be', 'an', 'effici', 'and', 'quick', 'implement', 'of', 'strict', 'law', '.', 'appli', 'camera', 'in', 'workplac', 'is', 'an', 'excel', 'way', 'to', 'prevent', 'corrupt', '.', 'abov', 'all', ',', 'mani', 'individu', 'would', 'refrain', 'from', 'indulg', 'in', 'corrupt', 'due', 'to', 'fear', 'of', 'be', 'caught', '.', 'furthermor', ',', 'these', 'individu', 'would', 'have', 'otherwis', 'engag', 'in', 'corrupt', '.', 'the', 'govern', 'must', 'make', 'sure', 'to', 'keep', 'inflat', 'low', '.', 'due', 'to', 'the', 'rise', 'in', 'price', ',', 'mani', 'peopl', 'feel', 'their', 'incom', 'to', 'be', 'too', 'low', '.', 'consequ', ',', 'thi', 'increas', 'corrupt', 'among', 'the', 'mass', '.', 'businessmen', 'rais', 'price', 'to', 'sell', 'their', 'stock', 'of', 'good', 'at', 'higher', 'price', '.', 'furthermor', ',', 'the', 'politician', 'support', 'them', 'due', 'to', 'the', 'benefit', 'they', 'receiv', '.', 'to', 'sum', 'it', 'up', ',', 'corrupt', 'is', 'a', 'great', 'evil', 'of', 'societi', '.', 'thi', 'evil', 'should', 'be', 'quickli', 'elimin', 'from', 'societi', '.', 'corrupt', 'is', 'the', 'poison', 'that', 'ha', 'penetr', 'the', 'mind', 'of', 'mani', 'individu', 'these', 'day', '.', 'hope', ',', 'with', 'consist', 'polit', 'and', 'social', 'effort', ',', 'we', 'can', 'get', 'rid', 'of', 'corrupt', '.']\n"
     ]
    }
   ],
   "source": [
    "from nltk.stem import PorterStemmer\n",
    "\n",
    "\n",
    "stemmer = PorterStemmer()\n",
    "stem_list=[]\n",
    "for w in wordy:\n",
    "    for i in w:\n",
    "        stemmed = stemmer.stem(i)\n",
    "        stem_list.append(stemmed)\n",
    "print(stem_list)"
   ]
  },
  {
   "cell_type": "markdown",
   "id": "6834558f",
   "metadata": {},
   "source": [
    "# Lemmitization"
   ]
  },
  {
   "cell_type": "code",
   "execution_count": 12,
   "id": "f52ac0c3",
   "metadata": {},
   "outputs": [
    {
     "name": "stdout",
     "output_type": "stream",
     "text": [
      "['First', 'of', 'all', ',', 'Bribery', 'is', 'the', 'most', 'common', 'method', 'of', 'Corruption', '.', 'Bribery', 'involves', 'the', 'improper', 'use', 'of', 'favour', 'and', 'gift', 'in', 'exchange', 'for', 'personal', 'gain', '.', 'Furthermore', ',', 'the', 'type', 'of', 'favour', 'are', 'diverse', '.', 'Above', 'all', ',', 'the', 'favour', 'include', 'money', ',', 'gift', ',', 'company', 'share', ',', 'sexual', 'favour', ',', 'employment', ',', 'entertainment', ',', 'and', 'political', 'benefit', '.', 'Also', ',', 'personal', 'gain', 'can', 'be', 'â€', '“', 'giving', 'preferential', 'treatment', 'and', 'overlooking', 'crime', '.', 'Embezzlement', 'refers', 'to', 'the', 'act', 'of', 'withholding', 'asset', 'for', 'the', 'purpose', 'of', 'theft', '.', 'Furthermore', ',', 'it', 'take', 'place', 'by', 'one', 'or', 'more', 'individual', 'who', 'were', 'entrusted', 'with', 'these', 'asset', '.', 'Above', 'all', ',', 'embezzlement', 'is', 'a', 'type', 'of', 'financial', 'fraud', '.', 'The', 'graft', 'is', 'a', 'global', 'form', 'of', 'Corruption', '.', 'Most', 'noteworthy', ',', 'it', 'refers', 'to', 'the', 'illegal', 'use', 'of', 'a', 'politicianâ€™s', 'authority', 'for', 'personal', 'gain', '.', 'Furthermore', ',', 'a', 'popular', 'way', 'for', 'the', 'graft', 'is', 'misdirecting', 'public', 'fund', 'for', 'the', 'benefit', 'of', 'politician', '.', 'Extortion', 'is', 'another', 'major', 'method', 'of', 'Corruption', '.', 'It', 'mean', 'to', 'obtain', 'property', ',', 'money', 'or', 'service', 'illegally', '.', 'Above', 'all', ',', 'this', 'obtainment', 'take', 'place', 'by', 'coercing', 'individual', 'or', 'organization', '.', 'Hence', ',', 'Extortion', 'is', 'quite', 'similar', 'to', 'blackmail', '.', 'Favouritism', 'and', 'nepotism', 'is', 'quite', 'an', 'old', 'form', 'of', 'Corruption', 'still', 'in', 'usage', '.', 'This', 'refers', 'to', 'a', 'person', 'favouring', 'oneâ€™s', 'own', 'relative', 'and', 'friend', 'to', 'job', '.', 'This', 'is', 'certainly', 'a', 'very', 'unfair', 'practice', '.', 'This', 'is', 'because', 'many', 'deserving', 'candidate', 'fail', 'to', 'get', 'job', '.', 'Abuse', 'of', 'discretion', 'is', 'another', 'method', 'of', 'Corruption', '.', 'Here', ',', 'a', 'person', 'misuse', 'oneâ€™s', 'power', 'and', 'authority', '.', 'An', 'example', 'can', 'be', 'a', 'judge', 'unjustly', 'dismissing', 'a', 'criminalâ€™s', 'case', '.', 'Finally', ',', 'influence', 'peddling', 'is', 'the', 'last', 'method', 'here', '.', 'This', 'refers', 'to', 'illegally', 'using', 'oneâ€™s', 'influence', 'with', 'the', 'government', 'or', 'other', 'authorized', 'individual', '.', 'Furthermore', ',', 'it', 'take', 'place', 'in', 'order', 'to', 'obtain', 'preferential', 'treatment', 'or', 'favour', '.', 'Get', 'the', 'huge', 'list', 'of', 'more', 'than', '500', 'Essay', 'Topics', 'and', 'Ideas', 'Ways', 'of', 'Stopping', 'Corruption', ':', 'One', 'important', 'way', 'of', 'preventing', 'Corruption', 'is', 'to', 'give', 'a', 'better', 'salary', 'in', 'a', 'government', 'job', '.', 'Many', 'government', 'employee', 'receive', 'pretty', 'low', 'salary', '.', 'Therefore', ',', 'they', 'resort', 'to', 'bribery', 'to', 'meet', 'their', 'expense', '.', 'So', ',', 'government', 'employee', 'should', 'receive', 'higher', 'salary', '.', 'Consequently', ',', 'high', 'salary', 'would', 'reduce', 'their', 'motivation', 'and', 'resolve', 'to', 'engage', 'in', 'bribery', '.', 'Increasing', 'the', 'number', 'of', 'worker', 'can', 'be', 'another', 'suitable', 'way', 'of', 'curbing', 'Corruption', '.', 'In', 'many', 'government', 'office', ',', 'the', 'workload', 'is', 'very', 'high', '.', 'This', 'provides', 'an', 'opportunity', 'to', 'slow', 'down', 'the', 'work', 'by', 'government', 'employee', '.', 'Consequently', ',', 'these', 'employee', 'then', 'indulge', 'in', 'bribery', 'in', 'return', 'for', 'faster', 'delivery', 'of', 'work', '.', 'Hence', ',', 'this', 'opportunity', 'to', 'bribe', 'can', 'be', 'removed', 'by', 'bringing', 'in', 'more', 'employee', 'in', 'government', 'office', '.', 'Tough', 'law', 'are', 'very', 'important', 'for', 'stopping', 'Corruption', '.', 'Above', 'all', ',', 'strict', 'punishment', 'need', 'to', 'be', 'meted', 'out', 'to', 'guilty', 'individual', '.', 'Furthermore', ',', 'there', 'should', 'be', 'an', 'efficient', 'and', 'quick', 'implementation', 'of', 'strict', 'law', '.', 'Applying', 'camera', 'in', 'workplace', 'is', 'an', 'excellent', 'way', 'to', 'prevent', 'corruption', '.', 'Above', 'all', ',', 'many', 'individual', 'would', 'refrain', 'from', 'indulging', 'in', 'Corruption', 'due', 'to', 'fear', 'of', 'being', 'caught', '.', 'Furthermore', ',', 'these', 'individual', 'would', 'have', 'otherwise', 'engaged', 'in', 'Corruption', '.', 'The', 'government', 'must', 'make', 'sure', 'to', 'keep', 'inflation', 'low', '.', 'Due', 'to', 'the', 'rise', 'in', 'price', ',', 'many', 'people', 'feel', 'their', 'income', 'to', 'be', 'too', 'low', '.', 'Consequently', ',', 'this', 'increase', 'Corruption', 'among', 'the', 'mass', '.', 'Businessmen', 'raise', 'price', 'to', 'sell', 'their', 'stock', 'of', 'good', 'at', 'higher', 'price', '.', 'Furthermore', ',', 'the', 'politician', 'support', 'them', 'due', 'to', 'the', 'benefit', 'they', 'receive', '.', 'To', 'sum', 'it', 'up', ',', 'Corruption', 'is', 'a', 'great', 'evil', 'of', 'society', '.', 'This', 'evil', 'should', 'be', 'quickly', 'eliminated', 'from', 'society', '.', 'Corruption', 'is', 'the', 'poison', 'that', 'ha', 'penetrated', 'the', 'mind', 'of', 'many', 'individual', 'these', 'day', '.', 'Hopefully', ',', 'with', 'consistent', 'political', 'and', 'social', 'effort', ',', 'we', 'can', 'get', 'rid', 'of', 'Corruption', '.']\n"
     ]
    }
   ],
   "source": [
    "from nltk.stem import WordNetLemmatizer\n",
    "\n",
    "lemmatizer = WordNetLemmatizer()\n",
    "lemmati=[]\n",
    "for w in wordy:\n",
    "    for i in w:\n",
    "        lemma = lemmatizer.lemmatize(i)\n",
    "        lemmati.append(lemma)\n",
    "print(lemmati)"
   ]
  },
  {
   "cell_type": "code",
   "execution_count": 13,
   "id": "40f40001",
   "metadata": {},
   "outputs": [
    {
     "data": {
      "text/plain": [
       "662"
      ]
     },
     "execution_count": 13,
     "metadata": {},
     "output_type": "execute_result"
    }
   ],
   "source": [
    "len(lemmati)"
   ]
  },
  {
   "cell_type": "code",
   "execution_count": 14,
   "id": "c57ec041",
   "metadata": {},
   "outputs": [
    {
     "name": "stderr",
     "output_type": "stream",
     "text": [
      "[nltk_data] Downloading package stopwords to C:\\Users\\Furqan\n",
      "[nltk_data]     Khalil\\AppData\\Roaming\\nltk_data...\n",
      "[nltk_data]   Unzipping corpora\\stopwords.zip.\n"
     ]
    },
    {
     "data": {
      "text/plain": [
       "True"
      ]
     },
     "execution_count": 14,
     "metadata": {},
     "output_type": "execute_result"
    }
   ],
   "source": [
    "nltk.download('stopwords')"
   ]
  },
  {
   "cell_type": "markdown",
   "id": "bdbd4f7c",
   "metadata": {},
   "source": [
    "# Stop Words"
   ]
  },
  {
   "cell_type": "code",
   "execution_count": 16,
   "id": "f41cc61a",
   "metadata": {},
   "outputs": [],
   "source": [
    "from nltk.corpus import stopwords"
   ]
  },
  {
   "cell_type": "code",
   "execution_count": 17,
   "id": "654f71c2",
   "metadata": {},
   "outputs": [
    {
     "name": "stdout",
     "output_type": "stream",
     "text": [
      "['i', 'me', 'my', 'myself', 'we', 'our', 'ours', 'ourselves', 'you', \"you're\", \"you've\", \"you'll\", \"you'd\", 'your', 'yours', 'yourself', 'yourselves', 'he', 'him', 'his', 'himself', 'she', \"she's\", 'her', 'hers', 'herself', 'it', \"it's\", 'its', 'itself', 'they', 'them', 'their', 'theirs', 'themselves', 'what', 'which', 'who', 'whom', 'this', 'that', \"that'll\", 'these', 'those', 'am', 'is', 'are', 'was', 'were', 'be', 'been', 'being', 'have', 'has', 'had', 'having', 'do', 'does', 'did', 'doing', 'a', 'an', 'the', 'and', 'but', 'if', 'or', 'because', 'as', 'until', 'while', 'of', 'at', 'by', 'for', 'with', 'about', 'against', 'between', 'into', 'through', 'during', 'before', 'after', 'above', 'below', 'to', 'from', 'up', 'down', 'in', 'out', 'on', 'off', 'over', 'under', 'again', 'further', 'then', 'once', 'here', 'there', 'when', 'where', 'why', 'how', 'all', 'any', 'both', 'each', 'few', 'more', 'most', 'other', 'some', 'such', 'no', 'nor', 'not', 'only', 'own', 'same', 'so', 'than', 'too', 'very', 's', 't', 'can', 'will', 'just', 'don', \"don't\", 'should', \"should've\", 'now', 'd', 'll', 'm', 'o', 're', 've', 'y', 'ain', 'aren', \"aren't\", 'couldn', \"couldn't\", 'didn', \"didn't\", 'doesn', \"doesn't\", 'hadn', \"hadn't\", 'hasn', \"hasn't\", 'haven', \"haven't\", 'isn', \"isn't\", 'ma', 'mightn', \"mightn't\", 'mustn', \"mustn't\", 'needn', \"needn't\", 'shan', \"shan't\", 'shouldn', \"shouldn't\", 'wasn', \"wasn't\", 'weren', \"weren't\", 'won', \"won't\", 'wouldn', \"wouldn't\"]\n"
     ]
    }
   ],
   "source": [
    "print(stopwords.words('english'))"
   ]
  },
  {
   "cell_type": "code",
   "execution_count": 18,
   "id": "f0420ea5",
   "metadata": {},
   "outputs": [
    {
     "name": "stdout",
     "output_type": "stream",
     "text": [
      "['[', \"'First\", ',', 'Bribery', 'common', 'method', 'Corruption', '.', \"'\", ',', \"'Bribery\", 'involves', 'improper', 'use', 'favours', 'gifts', 'exchange', 'personal', 'gain', '.', \"'\", ',', \"'Furthermore\", ',', 'types', 'favours', 'diverse', '.', \"'\", ',', \"'Above\", ',', 'favours', 'include', 'money', ',', 'gifts', ',', 'company', 'shares', ',', 'sexual', 'favours', ',', 'employment', ',', 'entertainment', ',', 'political', 'benefits', '.', \"'\", ',', \"'Also\", ',', 'personal', 'gain', 'â€', '“', 'giving', 'preferential', 'treatment', 'overlooking', 'crime', '.', \"'\", ',', \"'Embezzlement\", 'refers', 'act', 'withholding', 'assets', 'purpose', 'theft', '.', \"'\", ',', \"'Furthermore\", ',', 'takes', 'place', 'one', 'individuals', 'entrusted', 'assets', '.', \"'\", ',', \"'Above\", ',', 'embezzlement', 'type', 'financial', 'fraud', '.', \"'\", ',', \"'The\", 'graft', 'global', 'form', 'Corruption', '.', \"'\", ',', \"'Most\", 'noteworthy', ',', 'refers', 'illegal', 'use', 'politicianâ€™s', 'authority', 'personal', 'gain', '.', \"'\", ',', \"'Furthermore\", ',', 'popular', 'way', 'graft', 'misdirecting', 'public', 'funds', 'benefit', 'politicians', '.', \"'\", ',', \"'Extortion\", 'another', 'major', 'method', 'Corruption', '.', \"'\", ',', \"'It\", 'means', 'obtain', 'property', ',', 'money', 'services', 'illegally', '.', \"'\", ',', \"'Above\", ',', 'obtainment', 'takes', 'place', 'coercing', 'individuals', 'organizations', '.', \"'\", ',', \"'Hence\", ',', 'Extortion', 'quite', 'similar', 'blackmail', '.', \"'\", ',', \"'Favouritism\", 'nepotism', 'quite', 'old', 'form', 'Corruption', 'still', 'usage', '.', \"'\", ',', \"'This\", 'refers', 'person', 'favouring', 'oneâ€™s', 'relatives', 'friends', 'jobs', '.', \"'\", ',', \"'This\", 'certainly', 'unfair', 'practice', '.', \"'\", ',', \"'This\", 'many', 'deserving', 'candidates', 'fail', 'get', 'jobs', '.', \"'\", ',', \"'Abuse\", 'discretion', 'another', 'method', 'Corruption', '.', \"'\", ',', \"'Here\", ',', 'person', 'misuses', 'oneâ€™s', 'power', 'authority', '.', \"'\", ',', \"'An\", 'example', 'judge', 'unjustly', 'dismissing', 'criminalâ€™s', 'case', '.', \"'\", ',', \"'Finally\", ',', 'influence', 'peddling', 'last', 'method', '.', \"'\", ',', \"'This\", 'refers', 'illegally', 'using', 'oneâ€™s', 'influence', 'government', 'authorized', 'individuals', '.', \"'\", ',', \"'Furthermore\", ',', 'takes', 'place', 'order', 'obtain', 'preferential', 'treatment', 'favour', '.', \"'\", ',', \"'Get\", 'huge', 'list', '500', 'Essay', 'Topics', 'Ideas\\\\n\\\\nWays', 'Stopping', 'Corruption', ':', '\\\\n\\\\nOne', 'important', 'way', 'preventing', 'Corruption', 'give', 'better', 'salary', 'government', 'job', '.', \"'\", ',', \"'Many\", 'government', 'employees', 'receive', 'pretty', 'low', 'salaries', '.', \"'\", ',', \"'Therefore\", ',', 'resort', 'bribery', 'meet', 'expenses', '.', \"'\", ',', \"'So\", ',', 'government', 'employees', 'receive', 'higher', 'salaries', '.', \"'\", ',', \"'Consequently\", ',', 'high', 'salaries', 'would', 'reduce', 'motivation', 'resolve', 'engage', 'bribery', '.', \"'\", ',', \"'Increasing\", 'number', 'workers', 'another', 'suitable', 'way', 'curbing', 'Corruption', '.', \"'\", ',', \"'In\", 'many', 'government', 'offices', ',', 'workload', 'high', '.', \"'\", ',', \"'This\", 'provides', 'opportunity', 'slow', 'work', 'government', 'employees', '.', \"'\", ',', \"'Consequently\", ',', 'employees', 'indulge', 'bribery', 'return', 'faster', 'delivery', 'work', '.', \"'\", ',', \"'Hence\", ',', 'opportunity', 'bribe', 'removed', 'bringing', 'employees', 'government', 'offices', '.', \"'\", ',', \"'Tough\", 'laws', 'important', 'stopping', 'Corruption', '.', \"'\", ',', \"'Above\", ',', 'strict', 'punishments', 'need', 'meted', 'guilty', 'individuals', '.', \"'\", ',', \"'Furthermore\", ',', 'efficient', 'quick', 'implementation', 'strict', 'laws', '.', \"'\", ',', \"'Applying\", 'cameras', 'workplaces', 'excellent', 'way', 'prevent', 'corruption', '.', \"'\", ',', \"'Above\", ',', 'many', 'individuals', 'would', 'refrain', 'indulging', 'Corruption', 'due', 'fear', 'caught', '.', \"'\", ',', \"'Furthermore\", ',', 'individuals', 'would', 'otherwise', 'engaged', 'Corruption', '.', \"'\", ',', \"'The\", 'government', 'must', 'make', 'sure', 'keep', 'inflation', 'low', '.', \"'\", ',', \"'Due\", 'rise', 'prices', ',', 'many', 'people', 'feel', 'incomes', 'low', '.', \"'\", ',', \"'Consequently\", ',', 'increases', 'Corruption', 'among', 'masses', '.', \"'\", ',', \"'Businessmen\", 'raise', 'prices', 'sell', 'stock', 'goods', 'higher', 'prices', '.', \"'\", ',', \"'Furthermore\", ',', 'politician', 'supports', 'due', 'benefits', 'receive', '.', \"'\", ',', \"'To\", 'sum', ',', 'Corruption', 'great', 'evil', 'society', '.', \"'\", ',', \"'This\", 'evil', 'quickly', 'eliminated', 'society', '.', \"'\", ',', \"'Corruption\", 'poison', 'penetrated', 'minds', 'many', 'individuals', 'days', '.', \"'\", ',', \"'Hopefully\", ',', 'consistent', 'political', 'social', 'efforts', ',', 'get', 'rid', 'Corruption', '.', \"'\", ']']\n",
      "\n"
     ]
    }
   ],
   "source": [
    "stop_words = set(stopwords.words(\"english\"))    # We'll be setting English language\n",
    "sentences=str(sentences)\n",
    "wds = nltk.word_tokenize(sentences)       # First splitting our sentence into words\n",
    "\n",
    "without_stop_words = []              # Let's initialize an empty list where we'll be storing all the words except stop words\n",
    " \n",
    "for word in wds:                          # this will go through all the words one by one\n",
    "    if word not in stop_words:              # If a word is not presesnt in the list of stopwords (predefined list of stopwords) \n",
    "        without_stop_words.append(word)     # append that word in our list of words without stopwords \n",
    "        \n",
    "print(without_stop_words)                   # printing our list of words (without stop words)\n",
    "print()"
   ]
  },
  {
   "cell_type": "code",
   "execution_count": 19,
   "id": "3871450c",
   "metadata": {},
   "outputs": [
    {
     "data": {
      "text/plain": [
       "547"
      ]
     },
     "execution_count": 19,
     "metadata": {},
     "output_type": "execute_result"
    }
   ],
   "source": [
    "len(without_stop_words)"
   ]
  },
  {
   "cell_type": "markdown",
   "id": "1a0c5284",
   "metadata": {},
   "source": [
    "# Bag of Words"
   ]
  },
  {
   "cell_type": "code",
   "execution_count": 20,
   "id": "72783feb",
   "metadata": {},
   "outputs": [
    {
     "data": {
      "text/plain": [
       "['500',\n",
       " 'above',\n",
       " 'abuse',\n",
       " 'act',\n",
       " 'also',\n",
       " 'among',\n",
       " 'an',\n",
       " 'another',\n",
       " 'applying',\n",
       " 'assets',\n",
       " 'authority',\n",
       " 'authorized',\n",
       " 'benefit',\n",
       " 'benefits',\n",
       " 'better',\n",
       " 'blackmail',\n",
       " 'bribe',\n",
       " 'bribery',\n",
       " 'bringing',\n",
       " 'businessmen',\n",
       " 'cameras',\n",
       " 'candidates',\n",
       " 'case',\n",
       " 'caught',\n",
       " 'certainly',\n",
       " 'coercing',\n",
       " 'common',\n",
       " 'company',\n",
       " 'consequently',\n",
       " 'consistent',\n",
       " 'corruption',\n",
       " 'crime',\n",
       " 'criminalâ',\n",
       " 'curbing',\n",
       " 'days',\n",
       " 'delivery',\n",
       " 'deserving',\n",
       " 'discretion',\n",
       " 'dismissing',\n",
       " 'diverse',\n",
       " 'due',\n",
       " 'efficient',\n",
       " 'efforts',\n",
       " 'eliminated',\n",
       " 'embezzlement',\n",
       " 'employees',\n",
       " 'employment',\n",
       " 'engage',\n",
       " 'engaged',\n",
       " 'entertainment',\n",
       " 'entrusted',\n",
       " 'essay',\n",
       " 'evil',\n",
       " 'example',\n",
       " 'excellent',\n",
       " 'exchange',\n",
       " 'expenses',\n",
       " 'extortion',\n",
       " 'fail',\n",
       " 'faster',\n",
       " 'favour',\n",
       " 'favouring',\n",
       " 'favouritism',\n",
       " 'favours',\n",
       " 'fear',\n",
       " 'feel',\n",
       " 'finally',\n",
       " 'financial',\n",
       " 'first',\n",
       " 'form',\n",
       " 'fraud',\n",
       " 'friends',\n",
       " 'funds',\n",
       " 'furthermore',\n",
       " 'gain',\n",
       " 'get',\n",
       " 'gifts',\n",
       " 'give',\n",
       " 'giving',\n",
       " 'global',\n",
       " 'goods',\n",
       " 'government',\n",
       " 'graft',\n",
       " 'great',\n",
       " 'guilty',\n",
       " 'hence',\n",
       " 'here',\n",
       " 'high',\n",
       " 'higher',\n",
       " 'hopefully',\n",
       " 'huge',\n",
       " 'ideas',\n",
       " 'illegal',\n",
       " 'illegally',\n",
       " 'implementation',\n",
       " 'important',\n",
       " 'improper',\n",
       " 'in',\n",
       " 'include',\n",
       " 'incomes',\n",
       " 'increases',\n",
       " 'increasing',\n",
       " 'individuals',\n",
       " 'indulge',\n",
       " 'indulging',\n",
       " 'inflation',\n",
       " 'influence',\n",
       " 'involves',\n",
       " 'it',\n",
       " 'job',\n",
       " 'jobs',\n",
       " 'judge',\n",
       " 'keep',\n",
       " 'last',\n",
       " 'laws',\n",
       " 'list',\n",
       " 'low',\n",
       " 'major',\n",
       " 'make',\n",
       " 'many',\n",
       " 'masses',\n",
       " 'means',\n",
       " 'meet',\n",
       " 'meted',\n",
       " 'method',\n",
       " 'minds',\n",
       " 'misdirecting',\n",
       " 'misuses',\n",
       " 'money',\n",
       " 'most',\n",
       " 'motivation',\n",
       " 'must',\n",
       " 'need',\n",
       " 'nepotism',\n",
       " 'none',\n",
       " 'noteworthy',\n",
       " 'number',\n",
       " 'nways',\n",
       " 'obtain',\n",
       " 'obtainment',\n",
       " 'offices',\n",
       " 'old',\n",
       " 'one',\n",
       " 'oneâ',\n",
       " 'opportunity',\n",
       " 'order',\n",
       " 'organizations',\n",
       " 'otherwise',\n",
       " 'overlooking',\n",
       " 'peddling',\n",
       " 'penetrated',\n",
       " 'people',\n",
       " 'person',\n",
       " 'personal',\n",
       " 'place',\n",
       " 'poison',\n",
       " 'political',\n",
       " 'politician',\n",
       " 'politicians',\n",
       " 'politicianâ',\n",
       " 'popular',\n",
       " 'power',\n",
       " 'practice',\n",
       " 'preferential',\n",
       " 'pretty',\n",
       " 'prevent',\n",
       " 'preventing',\n",
       " 'prices',\n",
       " 'property',\n",
       " 'provides',\n",
       " 'public',\n",
       " 'punishments',\n",
       " 'purpose',\n",
       " 'quick',\n",
       " 'quickly',\n",
       " 'quite',\n",
       " 'raise',\n",
       " 'receive',\n",
       " 'reduce',\n",
       " 'refers',\n",
       " 'refrain',\n",
       " 'relatives',\n",
       " 'removed',\n",
       " 'resolve',\n",
       " 'resort',\n",
       " 'return',\n",
       " 'rid',\n",
       " 'rise',\n",
       " 'salaries',\n",
       " 'salary',\n",
       " 'sell',\n",
       " 'services',\n",
       " 'sexual',\n",
       " 'shares',\n",
       " 'similar',\n",
       " 'slow',\n",
       " 'so',\n",
       " 'social',\n",
       " 'society',\n",
       " 'still',\n",
       " 'stock',\n",
       " 'stopping',\n",
       " 'strict',\n",
       " 'suitable',\n",
       " 'sum',\n",
       " 'supports',\n",
       " 'sure',\n",
       " 'takes',\n",
       " 'the',\n",
       " 'theft',\n",
       " 'therefore',\n",
       " 'this',\n",
       " 'to',\n",
       " 'topics',\n",
       " 'tough',\n",
       " 'treatment',\n",
       " 'type',\n",
       " 'types',\n",
       " 'unfair',\n",
       " 'unjustly',\n",
       " 'usage',\n",
       " 'use',\n",
       " 'using',\n",
       " 'way',\n",
       " 'withholding',\n",
       " 'work',\n",
       " 'workers',\n",
       " 'workload',\n",
       " 'workplaces',\n",
       " 'would']"
      ]
     },
     "execution_count": 20,
     "metadata": {},
     "output_type": "execute_result"
    }
   ],
   "source": [
    "from sklearn.feature_extraction.text import CountVectorizer\n",
    "\n",
    "vectorizer = CountVectorizer()\n",
    "\n",
    "bag_of_words = vectorizer.fit_transform(without_stop_words)\n",
    "\n",
    "feature_names = vectorizer.get_feature_names()\n",
    "feature_names"
   ]
  },
  {
   "cell_type": "code",
   "execution_count": 21,
   "id": "22998f30",
   "metadata": {},
   "outputs": [
    {
     "data": {
      "text/plain": [
       "230"
      ]
     },
     "execution_count": 21,
     "metadata": {},
     "output_type": "execute_result"
    }
   ],
   "source": [
    "len(feature_names)"
   ]
  },
  {
   "cell_type": "markdown",
   "id": "0b074367",
   "metadata": {},
   "source": [
    "# Feature Map"
   ]
  },
  {
   "cell_type": "code",
   "execution_count": 25,
   "id": "3b940417",
   "metadata": {},
   "outputs": [
    {
     "data": {
      "text/html": [
       "<div>\n",
       "<style scoped>\n",
       "    .dataframe tbody tr th:only-of-type {\n",
       "        vertical-align: middle;\n",
       "    }\n",
       "\n",
       "    .dataframe tbody tr th {\n",
       "        vertical-align: top;\n",
       "    }\n",
       "\n",
       "    .dataframe thead th {\n",
       "        text-align: right;\n",
       "    }\n",
       "</style>\n",
       "<table border=\"1\" class=\"dataframe\">\n",
       "  <thead>\n",
       "    <tr style=\"text-align: right;\">\n",
       "      <th></th>\n",
       "      <th>500</th>\n",
       "      <th>above</th>\n",
       "      <th>abuse</th>\n",
       "      <th>act</th>\n",
       "      <th>also</th>\n",
       "      <th>among</th>\n",
       "      <th>an</th>\n",
       "      <th>another</th>\n",
       "      <th>applying</th>\n",
       "      <th>assets</th>\n",
       "      <th>...</th>\n",
       "      <th>usage</th>\n",
       "      <th>use</th>\n",
       "      <th>using</th>\n",
       "      <th>way</th>\n",
       "      <th>withholding</th>\n",
       "      <th>work</th>\n",
       "      <th>workers</th>\n",
       "      <th>workload</th>\n",
       "      <th>workplaces</th>\n",
       "      <th>would</th>\n",
       "    </tr>\n",
       "  </thead>\n",
       "  <tbody>\n",
       "    <tr>\n",
       "      <th>0</th>\n",
       "      <td>0</td>\n",
       "      <td>0</td>\n",
       "      <td>0</td>\n",
       "      <td>0</td>\n",
       "      <td>0</td>\n",
       "      <td>0</td>\n",
       "      <td>0</td>\n",
       "      <td>0</td>\n",
       "      <td>0</td>\n",
       "      <td>0</td>\n",
       "      <td>...</td>\n",
       "      <td>0</td>\n",
       "      <td>0</td>\n",
       "      <td>0</td>\n",
       "      <td>0</td>\n",
       "      <td>0</td>\n",
       "      <td>0</td>\n",
       "      <td>0</td>\n",
       "      <td>0</td>\n",
       "      <td>0</td>\n",
       "      <td>0</td>\n",
       "    </tr>\n",
       "    <tr>\n",
       "      <th>1</th>\n",
       "      <td>0</td>\n",
       "      <td>0</td>\n",
       "      <td>0</td>\n",
       "      <td>0</td>\n",
       "      <td>0</td>\n",
       "      <td>0</td>\n",
       "      <td>0</td>\n",
       "      <td>0</td>\n",
       "      <td>0</td>\n",
       "      <td>0</td>\n",
       "      <td>...</td>\n",
       "      <td>0</td>\n",
       "      <td>0</td>\n",
       "      <td>0</td>\n",
       "      <td>0</td>\n",
       "      <td>0</td>\n",
       "      <td>0</td>\n",
       "      <td>0</td>\n",
       "      <td>0</td>\n",
       "      <td>0</td>\n",
       "      <td>0</td>\n",
       "    </tr>\n",
       "    <tr>\n",
       "      <th>2</th>\n",
       "      <td>0</td>\n",
       "      <td>0</td>\n",
       "      <td>0</td>\n",
       "      <td>0</td>\n",
       "      <td>0</td>\n",
       "      <td>0</td>\n",
       "      <td>0</td>\n",
       "      <td>0</td>\n",
       "      <td>0</td>\n",
       "      <td>0</td>\n",
       "      <td>...</td>\n",
       "      <td>0</td>\n",
       "      <td>0</td>\n",
       "      <td>0</td>\n",
       "      <td>0</td>\n",
       "      <td>0</td>\n",
       "      <td>0</td>\n",
       "      <td>0</td>\n",
       "      <td>0</td>\n",
       "      <td>0</td>\n",
       "      <td>0</td>\n",
       "    </tr>\n",
       "    <tr>\n",
       "      <th>3</th>\n",
       "      <td>0</td>\n",
       "      <td>0</td>\n",
       "      <td>0</td>\n",
       "      <td>0</td>\n",
       "      <td>0</td>\n",
       "      <td>0</td>\n",
       "      <td>0</td>\n",
       "      <td>0</td>\n",
       "      <td>0</td>\n",
       "      <td>0</td>\n",
       "      <td>...</td>\n",
       "      <td>0</td>\n",
       "      <td>0</td>\n",
       "      <td>0</td>\n",
       "      <td>0</td>\n",
       "      <td>0</td>\n",
       "      <td>0</td>\n",
       "      <td>0</td>\n",
       "      <td>0</td>\n",
       "      <td>0</td>\n",
       "      <td>0</td>\n",
       "    </tr>\n",
       "    <tr>\n",
       "      <th>4</th>\n",
       "      <td>0</td>\n",
       "      <td>0</td>\n",
       "      <td>0</td>\n",
       "      <td>0</td>\n",
       "      <td>0</td>\n",
       "      <td>0</td>\n",
       "      <td>0</td>\n",
       "      <td>0</td>\n",
       "      <td>0</td>\n",
       "      <td>0</td>\n",
       "      <td>...</td>\n",
       "      <td>0</td>\n",
       "      <td>0</td>\n",
       "      <td>0</td>\n",
       "      <td>0</td>\n",
       "      <td>0</td>\n",
       "      <td>0</td>\n",
       "      <td>0</td>\n",
       "      <td>0</td>\n",
       "      <td>0</td>\n",
       "      <td>0</td>\n",
       "    </tr>\n",
       "  </tbody>\n",
       "</table>\n",
       "<p>5 rows × 230 columns</p>\n",
       "</div>"
      ],
      "text/plain": [
       "   500  above  abuse  act  also  among  an  another  applying  assets  ...  \\\n",
       "0    0      0      0    0     0      0   0        0         0       0  ...   \n",
       "1    0      0      0    0     0      0   0        0         0       0  ...   \n",
       "2    0      0      0    0     0      0   0        0         0       0  ...   \n",
       "3    0      0      0    0     0      0   0        0         0       0  ...   \n",
       "4    0      0      0    0     0      0   0        0         0       0  ...   \n",
       "\n",
       "   usage  use  using  way  withholding  work  workers  workload  workplaces  \\\n",
       "0      0    0      0    0            0     0        0         0           0   \n",
       "1      0    0      0    0            0     0        0         0           0   \n",
       "2      0    0      0    0            0     0        0         0           0   \n",
       "3      0    0      0    0            0     0        0         0           0   \n",
       "4      0    0      0    0            0     0        0         0           0   \n",
       "\n",
       "   would  \n",
       "0      0  \n",
       "1      0  \n",
       "2      0  \n",
       "3      0  \n",
       "4      0  \n",
       "\n",
       "[5 rows x 230 columns]"
      ]
     },
     "execution_count": 25,
     "metadata": {},
     "output_type": "execute_result"
    }
   ],
   "source": [
    "import pandas as pd\n",
    "feature = pd.DataFrame(bag_of_words.toarray(), columns = feature_names)\n",
    "feature.head()"
   ]
  },
  {
   "cell_type": "code",
   "execution_count": 39,
   "id": "d4a4dd46",
   "metadata": {},
   "outputs": [
    {
     "data": {
      "text/plain": [
       "True"
      ]
     },
     "execution_count": 39,
     "metadata": {},
     "output_type": "execute_result"
    }
   ],
   "source": [
    "1 in feature['applying']"
   ]
  },
  {
   "cell_type": "code",
   "execution_count": 42,
   "id": "6e94f166",
   "metadata": {},
   "outputs": [
    {
     "data": {
      "text/plain": [
       "0    546\n",
       "1      1\n",
       "Name: withholding, dtype: int64"
      ]
     },
     "execution_count": 42,
     "metadata": {},
     "output_type": "execute_result"
    }
   ],
   "source": [
    "feature['withholding'].value_counts()"
   ]
  },
  {
   "cell_type": "code",
   "execution_count": null,
   "id": "409558a2",
   "metadata": {},
   "outputs": [],
   "source": []
  }
 ],
 "metadata": {
  "kernelspec": {
   "display_name": "Python 3",
   "language": "python",
   "name": "python3"
  },
  "language_info": {
   "codemirror_mode": {
    "name": "ipython",
    "version": 3
   },
   "file_extension": ".py",
   "mimetype": "text/x-python",
   "name": "python",
   "nbconvert_exporter": "python",
   "pygments_lexer": "ipython3",
   "version": "3.8.8"
  }
 },
 "nbformat": 4,
 "nbformat_minor": 5
}
