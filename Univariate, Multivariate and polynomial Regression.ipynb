{
 "cells": [
  {
   "cell_type": "code",
   "execution_count": 1,
   "id": "8579ef44",
   "metadata": {},
   "outputs": [],
   "source": [
    "import numpy as np\n",
    "import pandas as pd\n",
    "import matplotlib.pyplot as plt"
   ]
  },
  {
   "cell_type": "code",
   "execution_count": 2,
   "id": "e5ec1e7e",
   "metadata": {},
   "outputs": [
    {
     "data": {
      "text/html": [
       "<div>\n",
       "<style scoped>\n",
       "    .dataframe tbody tr th:only-of-type {\n",
       "        vertical-align: middle;\n",
       "    }\n",
       "\n",
       "    .dataframe tbody tr th {\n",
       "        vertical-align: top;\n",
       "    }\n",
       "\n",
       "    .dataframe thead th {\n",
       "        text-align: right;\n",
       "    }\n",
       "</style>\n",
       "<table border=\"1\" class=\"dataframe\">\n",
       "  <thead>\n",
       "    <tr style=\"text-align: right;\">\n",
       "      <th></th>\n",
       "      <th>Id</th>\n",
       "      <th>MSSubClass</th>\n",
       "      <th>MSZoning</th>\n",
       "      <th>LotFrontage</th>\n",
       "      <th>LotArea</th>\n",
       "      <th>Street</th>\n",
       "      <th>Alley</th>\n",
       "      <th>LotShape</th>\n",
       "      <th>LandContour</th>\n",
       "      <th>Utilities</th>\n",
       "      <th>...</th>\n",
       "      <th>PoolArea</th>\n",
       "      <th>PoolQC</th>\n",
       "      <th>Fence</th>\n",
       "      <th>MiscFeature</th>\n",
       "      <th>MiscVal</th>\n",
       "      <th>MoSold</th>\n",
       "      <th>YrSold</th>\n",
       "      <th>SaleType</th>\n",
       "      <th>SaleCondition</th>\n",
       "      <th>SalePrice</th>\n",
       "    </tr>\n",
       "  </thead>\n",
       "  <tbody>\n",
       "    <tr>\n",
       "      <th>0</th>\n",
       "      <td>1</td>\n",
       "      <td>60</td>\n",
       "      <td>RL</td>\n",
       "      <td>65.0</td>\n",
       "      <td>8450</td>\n",
       "      <td>Pave</td>\n",
       "      <td>NaN</td>\n",
       "      <td>Reg</td>\n",
       "      <td>Lvl</td>\n",
       "      <td>AllPub</td>\n",
       "      <td>...</td>\n",
       "      <td>0</td>\n",
       "      <td>NaN</td>\n",
       "      <td>NaN</td>\n",
       "      <td>NaN</td>\n",
       "      <td>0</td>\n",
       "      <td>2</td>\n",
       "      <td>2008</td>\n",
       "      <td>WD</td>\n",
       "      <td>Normal</td>\n",
       "      <td>208500</td>\n",
       "    </tr>\n",
       "    <tr>\n",
       "      <th>1</th>\n",
       "      <td>2</td>\n",
       "      <td>20</td>\n",
       "      <td>RL</td>\n",
       "      <td>80.0</td>\n",
       "      <td>9600</td>\n",
       "      <td>Pave</td>\n",
       "      <td>NaN</td>\n",
       "      <td>Reg</td>\n",
       "      <td>Lvl</td>\n",
       "      <td>AllPub</td>\n",
       "      <td>...</td>\n",
       "      <td>0</td>\n",
       "      <td>NaN</td>\n",
       "      <td>NaN</td>\n",
       "      <td>NaN</td>\n",
       "      <td>0</td>\n",
       "      <td>5</td>\n",
       "      <td>2007</td>\n",
       "      <td>WD</td>\n",
       "      <td>Normal</td>\n",
       "      <td>181500</td>\n",
       "    </tr>\n",
       "    <tr>\n",
       "      <th>2</th>\n",
       "      <td>3</td>\n",
       "      <td>60</td>\n",
       "      <td>RL</td>\n",
       "      <td>68.0</td>\n",
       "      <td>11250</td>\n",
       "      <td>Pave</td>\n",
       "      <td>NaN</td>\n",
       "      <td>IR1</td>\n",
       "      <td>Lvl</td>\n",
       "      <td>AllPub</td>\n",
       "      <td>...</td>\n",
       "      <td>0</td>\n",
       "      <td>NaN</td>\n",
       "      <td>NaN</td>\n",
       "      <td>NaN</td>\n",
       "      <td>0</td>\n",
       "      <td>9</td>\n",
       "      <td>2008</td>\n",
       "      <td>WD</td>\n",
       "      <td>Normal</td>\n",
       "      <td>223500</td>\n",
       "    </tr>\n",
       "    <tr>\n",
       "      <th>3</th>\n",
       "      <td>4</td>\n",
       "      <td>70</td>\n",
       "      <td>RL</td>\n",
       "      <td>60.0</td>\n",
       "      <td>9550</td>\n",
       "      <td>Pave</td>\n",
       "      <td>NaN</td>\n",
       "      <td>IR1</td>\n",
       "      <td>Lvl</td>\n",
       "      <td>AllPub</td>\n",
       "      <td>...</td>\n",
       "      <td>0</td>\n",
       "      <td>NaN</td>\n",
       "      <td>NaN</td>\n",
       "      <td>NaN</td>\n",
       "      <td>0</td>\n",
       "      <td>2</td>\n",
       "      <td>2006</td>\n",
       "      <td>WD</td>\n",
       "      <td>Abnorml</td>\n",
       "      <td>140000</td>\n",
       "    </tr>\n",
       "    <tr>\n",
       "      <th>4</th>\n",
       "      <td>5</td>\n",
       "      <td>60</td>\n",
       "      <td>RL</td>\n",
       "      <td>84.0</td>\n",
       "      <td>14260</td>\n",
       "      <td>Pave</td>\n",
       "      <td>NaN</td>\n",
       "      <td>IR1</td>\n",
       "      <td>Lvl</td>\n",
       "      <td>AllPub</td>\n",
       "      <td>...</td>\n",
       "      <td>0</td>\n",
       "      <td>NaN</td>\n",
       "      <td>NaN</td>\n",
       "      <td>NaN</td>\n",
       "      <td>0</td>\n",
       "      <td>12</td>\n",
       "      <td>2008</td>\n",
       "      <td>WD</td>\n",
       "      <td>Normal</td>\n",
       "      <td>250000</td>\n",
       "    </tr>\n",
       "    <tr>\n",
       "      <th>...</th>\n",
       "      <td>...</td>\n",
       "      <td>...</td>\n",
       "      <td>...</td>\n",
       "      <td>...</td>\n",
       "      <td>...</td>\n",
       "      <td>...</td>\n",
       "      <td>...</td>\n",
       "      <td>...</td>\n",
       "      <td>...</td>\n",
       "      <td>...</td>\n",
       "      <td>...</td>\n",
       "      <td>...</td>\n",
       "      <td>...</td>\n",
       "      <td>...</td>\n",
       "      <td>...</td>\n",
       "      <td>...</td>\n",
       "      <td>...</td>\n",
       "      <td>...</td>\n",
       "      <td>...</td>\n",
       "      <td>...</td>\n",
       "      <td>...</td>\n",
       "    </tr>\n",
       "    <tr>\n",
       "      <th>1455</th>\n",
       "      <td>1456</td>\n",
       "      <td>60</td>\n",
       "      <td>RL</td>\n",
       "      <td>62.0</td>\n",
       "      <td>7917</td>\n",
       "      <td>Pave</td>\n",
       "      <td>NaN</td>\n",
       "      <td>Reg</td>\n",
       "      <td>Lvl</td>\n",
       "      <td>AllPub</td>\n",
       "      <td>...</td>\n",
       "      <td>0</td>\n",
       "      <td>NaN</td>\n",
       "      <td>NaN</td>\n",
       "      <td>NaN</td>\n",
       "      <td>0</td>\n",
       "      <td>8</td>\n",
       "      <td>2007</td>\n",
       "      <td>WD</td>\n",
       "      <td>Normal</td>\n",
       "      <td>175000</td>\n",
       "    </tr>\n",
       "    <tr>\n",
       "      <th>1456</th>\n",
       "      <td>1457</td>\n",
       "      <td>20</td>\n",
       "      <td>RL</td>\n",
       "      <td>85.0</td>\n",
       "      <td>13175</td>\n",
       "      <td>Pave</td>\n",
       "      <td>NaN</td>\n",
       "      <td>Reg</td>\n",
       "      <td>Lvl</td>\n",
       "      <td>AllPub</td>\n",
       "      <td>...</td>\n",
       "      <td>0</td>\n",
       "      <td>NaN</td>\n",
       "      <td>MnPrv</td>\n",
       "      <td>NaN</td>\n",
       "      <td>0</td>\n",
       "      <td>2</td>\n",
       "      <td>2010</td>\n",
       "      <td>WD</td>\n",
       "      <td>Normal</td>\n",
       "      <td>210000</td>\n",
       "    </tr>\n",
       "    <tr>\n",
       "      <th>1457</th>\n",
       "      <td>1458</td>\n",
       "      <td>70</td>\n",
       "      <td>RL</td>\n",
       "      <td>66.0</td>\n",
       "      <td>9042</td>\n",
       "      <td>Pave</td>\n",
       "      <td>NaN</td>\n",
       "      <td>Reg</td>\n",
       "      <td>Lvl</td>\n",
       "      <td>AllPub</td>\n",
       "      <td>...</td>\n",
       "      <td>0</td>\n",
       "      <td>NaN</td>\n",
       "      <td>GdPrv</td>\n",
       "      <td>Shed</td>\n",
       "      <td>2500</td>\n",
       "      <td>5</td>\n",
       "      <td>2010</td>\n",
       "      <td>WD</td>\n",
       "      <td>Normal</td>\n",
       "      <td>266500</td>\n",
       "    </tr>\n",
       "    <tr>\n",
       "      <th>1458</th>\n",
       "      <td>1459</td>\n",
       "      <td>20</td>\n",
       "      <td>RL</td>\n",
       "      <td>68.0</td>\n",
       "      <td>9717</td>\n",
       "      <td>Pave</td>\n",
       "      <td>NaN</td>\n",
       "      <td>Reg</td>\n",
       "      <td>Lvl</td>\n",
       "      <td>AllPub</td>\n",
       "      <td>...</td>\n",
       "      <td>0</td>\n",
       "      <td>NaN</td>\n",
       "      <td>NaN</td>\n",
       "      <td>NaN</td>\n",
       "      <td>0</td>\n",
       "      <td>4</td>\n",
       "      <td>2010</td>\n",
       "      <td>WD</td>\n",
       "      <td>Normal</td>\n",
       "      <td>142125</td>\n",
       "    </tr>\n",
       "    <tr>\n",
       "      <th>1459</th>\n",
       "      <td>1460</td>\n",
       "      <td>20</td>\n",
       "      <td>RL</td>\n",
       "      <td>75.0</td>\n",
       "      <td>9937</td>\n",
       "      <td>Pave</td>\n",
       "      <td>NaN</td>\n",
       "      <td>Reg</td>\n",
       "      <td>Lvl</td>\n",
       "      <td>AllPub</td>\n",
       "      <td>...</td>\n",
       "      <td>0</td>\n",
       "      <td>NaN</td>\n",
       "      <td>NaN</td>\n",
       "      <td>NaN</td>\n",
       "      <td>0</td>\n",
       "      <td>6</td>\n",
       "      <td>2008</td>\n",
       "      <td>WD</td>\n",
       "      <td>Normal</td>\n",
       "      <td>147500</td>\n",
       "    </tr>\n",
       "  </tbody>\n",
       "</table>\n",
       "<p>1460 rows × 81 columns</p>\n",
       "</div>"
      ],
      "text/plain": [
       "        Id  MSSubClass MSZoning  LotFrontage  LotArea Street Alley LotShape  \\\n",
       "0        1          60       RL         65.0     8450   Pave   NaN      Reg   \n",
       "1        2          20       RL         80.0     9600   Pave   NaN      Reg   \n",
       "2        3          60       RL         68.0    11250   Pave   NaN      IR1   \n",
       "3        4          70       RL         60.0     9550   Pave   NaN      IR1   \n",
       "4        5          60       RL         84.0    14260   Pave   NaN      IR1   \n",
       "...    ...         ...      ...          ...      ...    ...   ...      ...   \n",
       "1455  1456          60       RL         62.0     7917   Pave   NaN      Reg   \n",
       "1456  1457          20       RL         85.0    13175   Pave   NaN      Reg   \n",
       "1457  1458          70       RL         66.0     9042   Pave   NaN      Reg   \n",
       "1458  1459          20       RL         68.0     9717   Pave   NaN      Reg   \n",
       "1459  1460          20       RL         75.0     9937   Pave   NaN      Reg   \n",
       "\n",
       "     LandContour Utilities  ... PoolArea PoolQC  Fence MiscFeature MiscVal  \\\n",
       "0            Lvl    AllPub  ...        0    NaN    NaN         NaN       0   \n",
       "1            Lvl    AllPub  ...        0    NaN    NaN         NaN       0   \n",
       "2            Lvl    AllPub  ...        0    NaN    NaN         NaN       0   \n",
       "3            Lvl    AllPub  ...        0    NaN    NaN         NaN       0   \n",
       "4            Lvl    AllPub  ...        0    NaN    NaN         NaN       0   \n",
       "...          ...       ...  ...      ...    ...    ...         ...     ...   \n",
       "1455         Lvl    AllPub  ...        0    NaN    NaN         NaN       0   \n",
       "1456         Lvl    AllPub  ...        0    NaN  MnPrv         NaN       0   \n",
       "1457         Lvl    AllPub  ...        0    NaN  GdPrv        Shed    2500   \n",
       "1458         Lvl    AllPub  ...        0    NaN    NaN         NaN       0   \n",
       "1459         Lvl    AllPub  ...        0    NaN    NaN         NaN       0   \n",
       "\n",
       "     MoSold YrSold  SaleType  SaleCondition  SalePrice  \n",
       "0         2   2008        WD         Normal     208500  \n",
       "1         5   2007        WD         Normal     181500  \n",
       "2         9   2008        WD         Normal     223500  \n",
       "3         2   2006        WD        Abnorml     140000  \n",
       "4        12   2008        WD         Normal     250000  \n",
       "...     ...    ...       ...            ...        ...  \n",
       "1455      8   2007        WD         Normal     175000  \n",
       "1456      2   2010        WD         Normal     210000  \n",
       "1457      5   2010        WD         Normal     266500  \n",
       "1458      4   2010        WD         Normal     142125  \n",
       "1459      6   2008        WD         Normal     147500  \n",
       "\n",
       "[1460 rows x 81 columns]"
      ]
     },
     "execution_count": 2,
     "metadata": {},
     "output_type": "execute_result"
    }
   ],
   "source": [
    "df = pd.read_csv(\"E:/SZIC AI/dataset/train.csv\")\n",
    "df"
   ]
  },
  {
   "cell_type": "code",
   "execution_count": 3,
   "id": "b6cadf83",
   "metadata": {},
   "outputs": [
    {
     "data": {
      "text/plain": [
       "Id                1\n",
       "MSSubClass        1\n",
       "LotFrontage       4\n",
       "LotArea           2\n",
       "OverallQual      13\n",
       "OverallCond       1\n",
       "YearBuilt         8\n",
       "YearRemodAdd      7\n",
       "MasVnrArea        3\n",
       "BsmtFinSF1        4\n",
       "BsmtFinSF2        1\n",
       "BsmtUnfSF         2\n",
       "TotalBsmtSF       9\n",
       "1stFlrSF         11\n",
       "2ndFlrSF          6\n",
       "LowQualFinSF      1\n",
       "GrLivArea        14\n",
       "BsmtFullBath      2\n",
       "BsmtHalfBath      1\n",
       "FullBath         11\n",
       "HalfBath          3\n",
       "BedroomAbvGr      4\n",
       "KitchenAbvGr      1\n",
       "TotRmsAbvGrd      8\n",
       "Fireplaces        4\n",
       "GarageYrBlt       8\n",
       "GarageCars       11\n",
       "GarageArea       10\n",
       "WoodDeckSF        1\n",
       "OpenPorchSF       1\n",
       "EnclosedPorch     1\n",
       "3SsnPorch         1\n",
       "ScreenPorch       1\n",
       "PoolArea          1\n",
       "MiscVal           1\n",
       "MoSold            1\n",
       "YrSold            1\n",
       "SalePrice        14\n",
       "dtype: int64"
      ]
     },
     "execution_count": 3,
     "metadata": {},
     "output_type": "execute_result"
    }
   ],
   "source": [
    "(df.corr()>0.4).sum()"
   ]
  },
  {
   "cell_type": "markdown",
   "id": "4e855c85",
   "metadata": {},
   "source": [
    "# Univariate Regression"
   ]
  },
  {
   "cell_type": "code",
   "execution_count": 4,
   "id": "c5fe175d",
   "metadata": {},
   "outputs": [],
   "source": [
    "x = df[['GrLivArea']]\n",
    "y = df[['SalePrice']]"
   ]
  },
  {
   "cell_type": "code",
   "execution_count": 5,
   "id": "30441669",
   "metadata": {},
   "outputs": [
    {
     "data": {
      "text/html": [
       "<div>\n",
       "<style scoped>\n",
       "    .dataframe tbody tr th:only-of-type {\n",
       "        vertical-align: middle;\n",
       "    }\n",
       "\n",
       "    .dataframe tbody tr th {\n",
       "        vertical-align: top;\n",
       "    }\n",
       "\n",
       "    .dataframe thead th {\n",
       "        text-align: right;\n",
       "    }\n",
       "</style>\n",
       "<table border=\"1\" class=\"dataframe\">\n",
       "  <thead>\n",
       "    <tr style=\"text-align: right;\">\n",
       "      <th></th>\n",
       "      <th>GrLivArea</th>\n",
       "    </tr>\n",
       "  </thead>\n",
       "  <tbody>\n",
       "    <tr>\n",
       "      <th>0</th>\n",
       "      <td>1710</td>\n",
       "    </tr>\n",
       "    <tr>\n",
       "      <th>1</th>\n",
       "      <td>1262</td>\n",
       "    </tr>\n",
       "    <tr>\n",
       "      <th>2</th>\n",
       "      <td>1786</td>\n",
       "    </tr>\n",
       "    <tr>\n",
       "      <th>3</th>\n",
       "      <td>1717</td>\n",
       "    </tr>\n",
       "    <tr>\n",
       "      <th>4</th>\n",
       "      <td>2198</td>\n",
       "    </tr>\n",
       "    <tr>\n",
       "      <th>...</th>\n",
       "      <td>...</td>\n",
       "    </tr>\n",
       "    <tr>\n",
       "      <th>1455</th>\n",
       "      <td>1647</td>\n",
       "    </tr>\n",
       "    <tr>\n",
       "      <th>1456</th>\n",
       "      <td>2073</td>\n",
       "    </tr>\n",
       "    <tr>\n",
       "      <th>1457</th>\n",
       "      <td>2340</td>\n",
       "    </tr>\n",
       "    <tr>\n",
       "      <th>1458</th>\n",
       "      <td>1078</td>\n",
       "    </tr>\n",
       "    <tr>\n",
       "      <th>1459</th>\n",
       "      <td>1256</td>\n",
       "    </tr>\n",
       "  </tbody>\n",
       "</table>\n",
       "<p>1460 rows × 1 columns</p>\n",
       "</div>"
      ],
      "text/plain": [
       "      GrLivArea\n",
       "0          1710\n",
       "1          1262\n",
       "2          1786\n",
       "3          1717\n",
       "4          2198\n",
       "...         ...\n",
       "1455       1647\n",
       "1456       2073\n",
       "1457       2340\n",
       "1458       1078\n",
       "1459       1256\n",
       "\n",
       "[1460 rows x 1 columns]"
      ]
     },
     "execution_count": 5,
     "metadata": {},
     "output_type": "execute_result"
    }
   ],
   "source": [
    "x"
   ]
  },
  {
   "cell_type": "code",
   "execution_count": 6,
   "id": "cca99a9a",
   "metadata": {},
   "outputs": [
    {
     "data": {
      "text/html": [
       "<div>\n",
       "<style scoped>\n",
       "    .dataframe tbody tr th:only-of-type {\n",
       "        vertical-align: middle;\n",
       "    }\n",
       "\n",
       "    .dataframe tbody tr th {\n",
       "        vertical-align: top;\n",
       "    }\n",
       "\n",
       "    .dataframe thead th {\n",
       "        text-align: right;\n",
       "    }\n",
       "</style>\n",
       "<table border=\"1\" class=\"dataframe\">\n",
       "  <thead>\n",
       "    <tr style=\"text-align: right;\">\n",
       "      <th></th>\n",
       "      <th>SalePrice</th>\n",
       "    </tr>\n",
       "  </thead>\n",
       "  <tbody>\n",
       "    <tr>\n",
       "      <th>0</th>\n",
       "      <td>208500</td>\n",
       "    </tr>\n",
       "    <tr>\n",
       "      <th>1</th>\n",
       "      <td>181500</td>\n",
       "    </tr>\n",
       "    <tr>\n",
       "      <th>2</th>\n",
       "      <td>223500</td>\n",
       "    </tr>\n",
       "    <tr>\n",
       "      <th>3</th>\n",
       "      <td>140000</td>\n",
       "    </tr>\n",
       "    <tr>\n",
       "      <th>4</th>\n",
       "      <td>250000</td>\n",
       "    </tr>\n",
       "    <tr>\n",
       "      <th>...</th>\n",
       "      <td>...</td>\n",
       "    </tr>\n",
       "    <tr>\n",
       "      <th>1455</th>\n",
       "      <td>175000</td>\n",
       "    </tr>\n",
       "    <tr>\n",
       "      <th>1456</th>\n",
       "      <td>210000</td>\n",
       "    </tr>\n",
       "    <tr>\n",
       "      <th>1457</th>\n",
       "      <td>266500</td>\n",
       "    </tr>\n",
       "    <tr>\n",
       "      <th>1458</th>\n",
       "      <td>142125</td>\n",
       "    </tr>\n",
       "    <tr>\n",
       "      <th>1459</th>\n",
       "      <td>147500</td>\n",
       "    </tr>\n",
       "  </tbody>\n",
       "</table>\n",
       "<p>1460 rows × 1 columns</p>\n",
       "</div>"
      ],
      "text/plain": [
       "      SalePrice\n",
       "0        208500\n",
       "1        181500\n",
       "2        223500\n",
       "3        140000\n",
       "4        250000\n",
       "...         ...\n",
       "1455     175000\n",
       "1456     210000\n",
       "1457     266500\n",
       "1458     142125\n",
       "1459     147500\n",
       "\n",
       "[1460 rows x 1 columns]"
      ]
     },
     "execution_count": 6,
     "metadata": {},
     "output_type": "execute_result"
    }
   ],
   "source": [
    "y"
   ]
  },
  {
   "cell_type": "code",
   "execution_count": 7,
   "id": "2f8db494",
   "metadata": {},
   "outputs": [],
   "source": [
    "from sklearn.model_selection import train_test_split\n",
    "x_train,x_test,y_train,y_test = train_test_split(x,y,test_size=0.2,random_state=100)"
   ]
  },
  {
   "cell_type": "code",
   "execution_count": 8,
   "id": "9991bca9",
   "metadata": {},
   "outputs": [
    {
     "data": {
      "text/html": [
       "<div>\n",
       "<style scoped>\n",
       "    .dataframe tbody tr th:only-of-type {\n",
       "        vertical-align: middle;\n",
       "    }\n",
       "\n",
       "    .dataframe tbody tr th {\n",
       "        vertical-align: top;\n",
       "    }\n",
       "\n",
       "    .dataframe thead th {\n",
       "        text-align: right;\n",
       "    }\n",
       "</style>\n",
       "<table border=\"1\" class=\"dataframe\">\n",
       "  <thead>\n",
       "    <tr style=\"text-align: right;\">\n",
       "      <th></th>\n",
       "      <th>GrLivArea</th>\n",
       "    </tr>\n",
       "  </thead>\n",
       "  <tbody>\n",
       "    <tr>\n",
       "      <th>133</th>\n",
       "      <td>1296</td>\n",
       "    </tr>\n",
       "    <tr>\n",
       "      <th>290</th>\n",
       "      <td>1919</td>\n",
       "    </tr>\n",
       "    <tr>\n",
       "      <th>24</th>\n",
       "      <td>1060</td>\n",
       "    </tr>\n",
       "    <tr>\n",
       "      <th>1093</th>\n",
       "      <td>1200</td>\n",
       "    </tr>\n",
       "    <tr>\n",
       "      <th>1288</th>\n",
       "      <td>1659</td>\n",
       "    </tr>\n",
       "    <tr>\n",
       "      <th>...</th>\n",
       "      <td>...</td>\n",
       "    </tr>\n",
       "    <tr>\n",
       "      <th>802</th>\n",
       "      <td>1456</td>\n",
       "    </tr>\n",
       "    <tr>\n",
       "      <th>53</th>\n",
       "      <td>1842</td>\n",
       "    </tr>\n",
       "    <tr>\n",
       "      <th>350</th>\n",
       "      <td>1869</td>\n",
       "    </tr>\n",
       "    <tr>\n",
       "      <th>79</th>\n",
       "      <td>1230</td>\n",
       "    </tr>\n",
       "    <tr>\n",
       "      <th>792</th>\n",
       "      <td>2013</td>\n",
       "    </tr>\n",
       "  </tbody>\n",
       "</table>\n",
       "<p>1168 rows × 1 columns</p>\n",
       "</div>"
      ],
      "text/plain": [
       "      GrLivArea\n",
       "133        1296\n",
       "290        1919\n",
       "24         1060\n",
       "1093       1200\n",
       "1288       1659\n",
       "...         ...\n",
       "802        1456\n",
       "53         1842\n",
       "350        1869\n",
       "79         1230\n",
       "792        2013\n",
       "\n",
       "[1168 rows x 1 columns]"
      ]
     },
     "execution_count": 8,
     "metadata": {},
     "output_type": "execute_result"
    }
   ],
   "source": [
    "x_train"
   ]
  },
  {
   "cell_type": "code",
   "execution_count": 9,
   "id": "d58ab91c",
   "metadata": {},
   "outputs": [
    {
     "data": {
      "text/html": [
       "<div>\n",
       "<style scoped>\n",
       "    .dataframe tbody tr th:only-of-type {\n",
       "        vertical-align: middle;\n",
       "    }\n",
       "\n",
       "    .dataframe tbody tr th {\n",
       "        vertical-align: top;\n",
       "    }\n",
       "\n",
       "    .dataframe thead th {\n",
       "        text-align: right;\n",
       "    }\n",
       "</style>\n",
       "<table border=\"1\" class=\"dataframe\">\n",
       "  <thead>\n",
       "    <tr style=\"text-align: right;\">\n",
       "      <th></th>\n",
       "      <th>SalePrice</th>\n",
       "    </tr>\n",
       "  </thead>\n",
       "  <tbody>\n",
       "    <tr>\n",
       "      <th>133</th>\n",
       "      <td>220000</td>\n",
       "    </tr>\n",
       "    <tr>\n",
       "      <th>290</th>\n",
       "      <td>233230</td>\n",
       "    </tr>\n",
       "    <tr>\n",
       "      <th>24</th>\n",
       "      <td>154000</td>\n",
       "    </tr>\n",
       "    <tr>\n",
       "      <th>1093</th>\n",
       "      <td>146000</td>\n",
       "    </tr>\n",
       "    <tr>\n",
       "      <th>1288</th>\n",
       "      <td>278000</td>\n",
       "    </tr>\n",
       "    <tr>\n",
       "      <th>...</th>\n",
       "      <td>...</td>\n",
       "    </tr>\n",
       "    <tr>\n",
       "      <th>802</th>\n",
       "      <td>189000</td>\n",
       "    </tr>\n",
       "    <tr>\n",
       "      <th>53</th>\n",
       "      <td>385000</td>\n",
       "    </tr>\n",
       "    <tr>\n",
       "      <th>350</th>\n",
       "      <td>318061</td>\n",
       "    </tr>\n",
       "    <tr>\n",
       "      <th>79</th>\n",
       "      <td>110000</td>\n",
       "    </tr>\n",
       "    <tr>\n",
       "      <th>792</th>\n",
       "      <td>269790</td>\n",
       "    </tr>\n",
       "  </tbody>\n",
       "</table>\n",
       "<p>1168 rows × 1 columns</p>\n",
       "</div>"
      ],
      "text/plain": [
       "      SalePrice\n",
       "133      220000\n",
       "290      233230\n",
       "24       154000\n",
       "1093     146000\n",
       "1288     278000\n",
       "...         ...\n",
       "802      189000\n",
       "53       385000\n",
       "350      318061\n",
       "79       110000\n",
       "792      269790\n",
       "\n",
       "[1168 rows x 1 columns]"
      ]
     },
     "execution_count": 9,
     "metadata": {},
     "output_type": "execute_result"
    }
   ],
   "source": [
    "y_train"
   ]
  },
  {
   "cell_type": "code",
   "execution_count": 10,
   "id": "68976d40",
   "metadata": {},
   "outputs": [],
   "source": [
    "from sklearn.linear_model import LinearRegression"
   ]
  },
  {
   "cell_type": "code",
   "execution_count": 11,
   "id": "c42e976b",
   "metadata": {},
   "outputs": [
    {
     "data": {
      "text/plain": [
       "LinearRegression()"
      ]
     },
     "execution_count": 11,
     "metadata": {},
     "output_type": "execute_result"
    }
   ],
   "source": [
    "uni = LinearRegression()\n",
    "uni.fit(x_train,y_train)"
   ]
  },
  {
   "cell_type": "code",
   "execution_count": 12,
   "id": "4dd5d4c3",
   "metadata": {},
   "outputs": [
    {
     "data": {
      "text/plain": [
       "array([[112127.24040711],\n",
       "       [201367.28389881],\n",
       "       [152681.41904995],\n",
       "       [209394.71771757],\n",
       "       [138607.3467703 ],\n",
       "       [197197.18840854],\n",
       "       [208873.45578129],\n",
       "       [253180.72036537],\n",
       "       [108269.90207861],\n",
       "       [180829.56360924],\n",
       "       [183957.13522694],\n",
       "       [176242.45856995],\n",
       "       [214503.08469315],\n",
       "       [175616.94424641],\n",
       "       [117131.35499543],\n",
       "       [140900.89928994],\n",
       "       [162689.64822659],\n",
       "       [146947.53775083],\n",
       "       [136730.80379968],\n",
       "       [112127.24040711],\n",
       "       [212209.5321735 ],\n",
       "       [115254.81202481],\n",
       "       [202201.30299686],\n",
       "       [166129.97700606],\n",
       "       [195112.14066341],\n",
       "       [117131.35499543],\n",
       "       [ 56873.47516108],\n",
       "       [121197.19809844],\n",
       "       [164044.92926092],\n",
       "       [139024.35631932],\n",
       "       [158206.79557455],\n",
       "       [173844.65366305],\n",
       "       [216483.88005102],\n",
       "       [112648.50234339],\n",
       "       [114003.78337773],\n",
       "       [110146.44504923],\n",
       "       [117131.35499543],\n",
       "       [158206.79557455],\n",
       "       [228577.15697279],\n",
       "       [135896.78470162],\n",
       "       [222426.26612465],\n",
       "       [171759.60591791],\n",
       "       [269339.84039015],\n",
       "       [159353.57183437],\n",
       "       [143507.20897136],\n",
       "       [122969.4886818 ],\n",
       "       [312291.82393989],\n",
       "       [132143.69876038],\n",
       "       [136626.55141242],\n",
       "       [ 92110.78205383],\n",
       "       [238168.37660041],\n",
       "       [103161.53510303],\n",
       "       [357954.36955831],\n",
       "       [237751.36705138],\n",
       "       [159666.32899614],\n",
       "       [115254.81202481],\n",
       "       [105455.08762268],\n",
       "       [202618.31254589],\n",
       "       [141734.918388  ],\n",
       "       [261416.65895864],\n",
       "       [110459.202211  ],\n",
       "       [190525.03562411],\n",
       "       [132769.21308392],\n",
       "       [135479.7751526 ],\n",
       "       [169466.05339827],\n",
       "       [236813.09556607],\n",
       "       [117131.35499543],\n",
       "       [137669.07528499],\n",
       "       [205954.3889381 ],\n",
       "       [138920.10393207],\n",
       "       [193444.1024673 ],\n",
       "       [245570.29609563],\n",
       "       [343359.03534238],\n",
       "       [131726.68921136],\n",
       "       [188856.99742801],\n",
       "       [168006.51997668],\n",
       "       [154349.45724605],\n",
       "       [242025.7149289 ],\n",
       "       [194173.8691781 ],\n",
       "       [178431.75870234],\n",
       "       [124220.51732888],\n",
       "       [169987.31533455],\n",
       "       [203765.08880571],\n",
       "       [179370.03018765],\n",
       "       [363896.75563194],\n",
       "       [112335.74518162],\n",
       "       [117235.60738268],\n",
       "       [177389.23482977],\n",
       "       [177284.98244252],\n",
       "       [118278.13125525],\n",
       "       [110459.202211  ],\n",
       "       [208664.95100677],\n",
       "       [185937.93058482],\n",
       "       [139441.36586835],\n",
       "       [227221.87593846],\n",
       "       [ 76264.41919081],\n",
       "       [236500.3384043 ],\n",
       "       [215024.34662943],\n",
       "       [139649.87064286],\n",
       "       [195633.40259969],\n",
       "       [121926.96480923],\n",
       "       [112127.24040711],\n",
       "       [228785.66174731],\n",
       "       [209707.47487934],\n",
       "       [153828.19530977],\n",
       "       [157998.29080004],\n",
       "       [140588.14212817],\n",
       "       [127139.58417206],\n",
       "       [137981.83244676],\n",
       "       [135896.78470162],\n",
       "       [195946.15976146],\n",
       "       [164774.69597172],\n",
       "       [183435.87329066],\n",
       "       [144862.4900057 ],\n",
       "       [188335.73549172],\n",
       "       [169674.55817278],\n",
       "       [118486.63602976],\n",
       "       [201471.53628606],\n",
       "       [239940.66718377],\n",
       "       [242963.98641421],\n",
       "       [138086.08483401],\n",
       "       [169257.54862375],\n",
       "       [147573.05207437],\n",
       "       [208873.45578129],\n",
       "       [140692.39451543],\n",
       "       [151743.14756464],\n",
       "       [110459.202211  ],\n",
       "       [267880.30696855],\n",
       "       [316878.92897918],\n",
       "       [149866.60459402],\n",
       "       [155913.2430549 ],\n",
       "       [ 87732.18178905],\n",
       "       [213669.06559509],\n",
       "       [197197.18840854],\n",
       "       [115880.32634835],\n",
       "       [124950.28403967],\n",
       "       [136105.28947614],\n",
       "       [173844.65366305],\n",
       "       [208352.193845  ],\n",
       "       [149658.0998195 ],\n",
       "       [164044.92926092],\n",
       "       [166859.74371685],\n",
       "       [173844.65366305],\n",
       "       [221696.49941385],\n",
       "       [292692.37513564],\n",
       "       [142151.92793702],\n",
       "       [167172.50087862],\n",
       "       [229828.18561987],\n",
       "       [279348.06956679],\n",
       "       [160500.3480942 ],\n",
       "       [120884.44093667],\n",
       "       [154036.70008428],\n",
       "       [203243.82686943],\n",
       "       [398195.79103938],\n",
       "       [176138.20618269],\n",
       "       [230766.45710518],\n",
       "       [ 98053.16812746],\n",
       "       [211584.01784996],\n",
       "       [193027.09291827],\n",
       "       [239627.910022  ],\n",
       "       [187605.96878093],\n",
       "       [115254.81202481],\n",
       "       [141422.16122623],\n",
       "       [122135.46958374],\n",
       "       [138503.09438304],\n",
       "       [135896.78470162],\n",
       "       [209811.7272666 ],\n",
       "       [228160.14742377],\n",
       "       [253910.48707616],\n",
       "       [165712.96745703],\n",
       "       [251512.68216926],\n",
       "       [173844.65366305],\n",
       "       [141317.90883897],\n",
       "       [178848.76825137],\n",
       "       [119841.9170641 ],\n",
       "       [124324.76971613],\n",
       "       [238898.1433112 ],\n",
       "       [200012.00286447],\n",
       "       [218985.93734518],\n",
       "       [175512.69185915],\n",
       "       [117339.85976994],\n",
       "       [290398.82261599],\n",
       "       [145070.99478021],\n",
       "       [ 87732.18178905],\n",
       "       [200950.27434978],\n",
       "       [164357.68642269],\n",
       "       [143715.71374587],\n",
       "       [212730.79410978],\n",
       "       [241817.21015439],\n",
       "       [138398.84199578],\n",
       "       [181559.33032004],\n",
       "       [200741.76957527],\n",
       "       [186042.18297208],\n",
       "       [170925.58681986],\n",
       "       [239315.15286023],\n",
       "       [128390.61281914],\n",
       "       [150075.10936853],\n",
       "       [195946.15976146],\n",
       "       [223156.03283545],\n",
       "       [200950.27434978],\n",
       "       [214711.58946766],\n",
       "       [234102.5334974 ],\n",
       "       [130475.66056428],\n",
       "       [152577.16666269],\n",
       "       [176763.72050623],\n",
       "       [133811.73695649],\n",
       "       [264856.98773811],\n",
       "       [153515.438148  ],\n",
       "       [165400.21029526],\n",
       "       [194903.63588889],\n",
       "       [144653.98523118],\n",
       "       [104308.31136286],\n",
       "       [233477.01917386],\n",
       "       [217630.65631084],\n",
       "       [154245.2048588 ],\n",
       "       [198656.72183013],\n",
       "       [187188.9592319 ],\n",
       "       [118799.39319153],\n",
       "       [176555.21573172],\n",
       "       [198239.71228111],\n",
       "       [153202.68098623],\n",
       "       [166442.73416783],\n",
       "       [157789.78602552],\n",
       "       [112127.24040711],\n",
       "       [178536.0110896 ],\n",
       "       [202722.56493314],\n",
       "       [184165.64000146],\n",
       "       [116610.09305914],\n",
       "       [138920.10393207],\n",
       "       [111501.72608357],\n",
       "       [277680.03137068],\n",
       "       [152160.15711366],\n",
       "       [266420.77354696],\n",
       "       [191880.31665845],\n",
       "       [166025.7246188 ],\n",
       "       [321049.02446945],\n",
       "       [176763.72050623],\n",
       "       [296236.95630237],\n",
       "       [173844.65366305],\n",
       "       [167589.51042765],\n",
       "       [203348.07925668],\n",
       "       [272571.6643951 ],\n",
       "       [178848.76825137],\n",
       "       [161438.61957951],\n",
       "       [112127.24040711],\n",
       "       [178431.75870234],\n",
       "       [186771.94968287],\n",
       "       [183852.88283969],\n",
       "       [164670.44358446],\n",
       "       [196571.674085  ],\n",
       "       [266003.76399793],\n",
       "       [149658.0998195 ],\n",
       "       [226804.86638943],\n",
       "       [206162.89371261],\n",
       "       [141317.90883897],\n",
       "       [109729.4355002 ],\n",
       "       [197405.69318305],\n",
       "       [158623.80512358],\n",
       "       [152368.66188818],\n",
       "       [133811.73695649],\n",
       "       [100450.97303436],\n",
       "       [294151.90855723],\n",
       "       [178953.02063862],\n",
       "       [132143.69876038],\n",
       "       [212418.03694801],\n",
       "       [244527.77222306],\n",
       "       [202201.30299686],\n",
       "       [139232.86109384],\n",
       "       [152472.91427543],\n",
       "       [161647.12435402],\n",
       "       [186354.94013385],\n",
       "       [178640.26347685],\n",
       "       [152368.66188818],\n",
       "       [152055.90472641],\n",
       "       [195529.15021243],\n",
       "       [159249.31944712],\n",
       "       [229723.93323262],\n",
       "       [141943.42316251],\n",
       "       [104412.56375011],\n",
       "       [102119.01123047],\n",
       "       [114003.78337773],\n",
       "       [232643.0000758 ],\n",
       "       [142881.69464782],\n",
       "       [306349.43786626],\n",
       "       [220653.97554129],\n",
       "       [149345.34265773],\n",
       "       [349405.67380326],\n",
       "       [313125.84303794],\n",
       "       [194486.62633987],\n",
       "       [151430.39040287],\n",
       "       [277263.02182165],\n",
       "       [149658.0998195 ]])"
      ]
     },
     "execution_count": 12,
     "metadata": {},
     "output_type": "execute_result"
    }
   ],
   "source": [
    "uni.predict(x_test)"
   ]
  },
  {
   "cell_type": "code",
   "execution_count": 13,
   "id": "836ebdf8",
   "metadata": {},
   "outputs": [
    {
     "data": {
      "text/plain": [
       "0.5962403823526141"
      ]
     },
     "execution_count": 13,
     "metadata": {},
     "output_type": "execute_result"
    }
   ],
   "source": [
    "score = uni.score(x_test,y_test)\n",
    "score"
   ]
  },
  {
   "cell_type": "code",
   "execution_count": 14,
   "id": "a9637d46",
   "metadata": {},
   "outputs": [
    {
     "data": {
      "image/png": "[encoded data removed]",
      "text/plain": [
       "<Figure size 432x288 with 1 Axes>"
      ]
     },
     "metadata": {
      "needs_background": "light"
     },
     "output_type": "display_data"
    }
   ],
   "source": [
    "plt.scatter(x_train,y_train,color='cyan')\n",
    "plt.plot(x_train,uni.predict(x_train),color='black')\n",
    "plt.title('Univariate Training set')\n",
    "plt.xlabel('Area')\n",
    "plt.ylabel('price')\n",
    "plt.show()"
   ]
  },
  {
   "cell_type": "code",
   "execution_count": 15,
   "id": "c2e610c5",
   "metadata": {},
   "outputs": [
    {
     "data": {
      "image/png": "[encoded data removed]",
      "text/plain": [
       "<Figure size 432x288 with 1 Axes>"
      ]
     },
     "metadata": {
      "needs_background": "light"
     },
     "output_type": "display_data"
    }
   ],
   "source": [
    "plt.scatter(x_test,y_test,color='cyan')\n",
    "plt.plot(x_test,uni.predict(x_test),color='black')\n",
    "plt.title('Univariate Test set')\n",
    "plt.xlabel('Area')\n",
    "plt.ylabel('price')\n",
    "plt.show()"
   ]
  },
  {
   "cell_type": "markdown",
   "id": "1ed690d0",
   "metadata": {},
   "source": [
    "# MultiVariate Regression"
   ]
  },
  {
   "cell_type": "code",
   "execution_count": 16,
   "id": "41644aa3",
   "metadata": {},
   "outputs": [
    {
     "data": {
      "text/html": [
       "<div>\n",
       "<style scoped>\n",
       "    .dataframe tbody tr th:only-of-type {\n",
       "        vertical-align: middle;\n",
       "    }\n",
       "\n",
       "    .dataframe tbody tr th {\n",
       "        vertical-align: top;\n",
       "    }\n",
       "\n",
       "    .dataframe thead th {\n",
       "        text-align: right;\n",
       "    }\n",
       "</style>\n",
       "<table border=\"1\" class=\"dataframe\">\n",
       "  <thead>\n",
       "    <tr style=\"text-align: right;\">\n",
       "      <th></th>\n",
       "      <th>OverallQual</th>\n",
       "      <th>GrLivArea</th>\n",
       "      <th>GarageCars</th>\n",
       "      <th>GarageArea</th>\n",
       "      <th>FullBath</th>\n",
       "      <th>1stFlrSF</th>\n",
       "    </tr>\n",
       "  </thead>\n",
       "  <tbody>\n",
       "    <tr>\n",
       "      <th>0</th>\n",
       "      <td>7</td>\n",
       "      <td>1710</td>\n",
       "      <td>2</td>\n",
       "      <td>548</td>\n",
       "      <td>2</td>\n",
       "      <td>856</td>\n",
       "    </tr>\n",
       "    <tr>\n",
       "      <th>1</th>\n",
       "      <td>6</td>\n",
       "      <td>1262</td>\n",
       "      <td>2</td>\n",
       "      <td>460</td>\n",
       "      <td>2</td>\n",
       "      <td>1262</td>\n",
       "    </tr>\n",
       "    <tr>\n",
       "      <th>2</th>\n",
       "      <td>7</td>\n",
       "      <td>1786</td>\n",
       "      <td>2</td>\n",
       "      <td>608</td>\n",
       "      <td>2</td>\n",
       "      <td>920</td>\n",
       "    </tr>\n",
       "    <tr>\n",
       "      <th>3</th>\n",
       "      <td>7</td>\n",
       "      <td>1717</td>\n",
       "      <td>3</td>\n",
       "      <td>642</td>\n",
       "      <td>1</td>\n",
       "      <td>961</td>\n",
       "    </tr>\n",
       "    <tr>\n",
       "      <th>4</th>\n",
       "      <td>8</td>\n",
       "      <td>2198</td>\n",
       "      <td>3</td>\n",
       "      <td>836</td>\n",
       "      <td>2</td>\n",
       "      <td>1145</td>\n",
       "    </tr>\n",
       "    <tr>\n",
       "      <th>...</th>\n",
       "      <td>...</td>\n",
       "      <td>...</td>\n",
       "      <td>...</td>\n",
       "      <td>...</td>\n",
       "      <td>...</td>\n",
       "      <td>...</td>\n",
       "    </tr>\n",
       "    <tr>\n",
       "      <th>1455</th>\n",
       "      <td>6</td>\n",
       "      <td>1647</td>\n",
       "      <td>2</td>\n",
       "      <td>460</td>\n",
       "      <td>2</td>\n",
       "      <td>953</td>\n",
       "    </tr>\n",
       "    <tr>\n",
       "      <th>1456</th>\n",
       "      <td>6</td>\n",
       "      <td>2073</td>\n",
       "      <td>2</td>\n",
       "      <td>500</td>\n",
       "      <td>2</td>\n",
       "      <td>2073</td>\n",
       "    </tr>\n",
       "    <tr>\n",
       "      <th>1457</th>\n",
       "      <td>7</td>\n",
       "      <td>2340</td>\n",
       "      <td>1</td>\n",
       "      <td>252</td>\n",
       "      <td>2</td>\n",
       "      <td>1188</td>\n",
       "    </tr>\n",
       "    <tr>\n",
       "      <th>1458</th>\n",
       "      <td>5</td>\n",
       "      <td>1078</td>\n",
       "      <td>1</td>\n",
       "      <td>240</td>\n",
       "      <td>1</td>\n",
       "      <td>1078</td>\n",
       "    </tr>\n",
       "    <tr>\n",
       "      <th>1459</th>\n",
       "      <td>5</td>\n",
       "      <td>1256</td>\n",
       "      <td>1</td>\n",
       "      <td>276</td>\n",
       "      <td>1</td>\n",
       "      <td>1256</td>\n",
       "    </tr>\n",
       "  </tbody>\n",
       "</table>\n",
       "<p>1460 rows × 6 columns</p>\n",
       "</div>"
      ],
      "text/plain": [
       "      OverallQual  GrLivArea  GarageCars  GarageArea  FullBath  1stFlrSF\n",
       "0               7       1710           2         548         2       856\n",
       "1               6       1262           2         460         2      1262\n",
       "2               7       1786           2         608         2       920\n",
       "3               7       1717           3         642         1       961\n",
       "4               8       2198           3         836         2      1145\n",
       "...           ...        ...         ...         ...       ...       ...\n",
       "1455            6       1647           2         460         2       953\n",
       "1456            6       2073           2         500         2      2073\n",
       "1457            7       2340           1         252         2      1188\n",
       "1458            5       1078           1         240         1      1078\n",
       "1459            5       1256           1         276         1      1256\n",
       "\n",
       "[1460 rows x 6 columns]"
      ]
     },
     "execution_count": 16,
     "metadata": {},
     "output_type": "execute_result"
    }
   ],
   "source": [
    "mx = df[['OverallQual','GrLivArea','GarageCars','GarageArea','FullBath','1stFlrSF']]\n",
    "mx"
   ]
  },
  {
   "cell_type": "code",
   "execution_count": 17,
   "id": "53ea73a0",
   "metadata": {},
   "outputs": [],
   "source": [
    "mx_train,mx_test,y_train,y_test = train_test_split(mx,y, test_size =0.2,random_state = 50)"
   ]
  },
  {
   "cell_type": "code",
   "execution_count": 18,
   "id": "fcfcc901",
   "metadata": {},
   "outputs": [
    {
     "data": {
      "text/plain": [
       "LinearRegression()"
      ]
     },
     "execution_count": 18,
     "metadata": {},
     "output_type": "execute_result"
    }
   ],
   "source": [
    "uni.fit(mx,y)"
   ]
  },
  {
   "cell_type": "code",
   "execution_count": 19,
   "id": "7fc2d9c8",
   "metadata": {},
   "outputs": [
    {
     "data": {
      "text/plain": [
       "0.737345781107633"
      ]
     },
     "execution_count": 19,
     "metadata": {},
     "output_type": "execute_result"
    }
   ],
   "source": [
    "uni.score(mx_train,y_train)"
   ]
  },
  {
   "cell_type": "code",
   "execution_count": 20,
   "id": "57b0e6ae",
   "metadata": {},
   "outputs": [
    {
     "data": {
      "text/plain": [
       "array([[257279.4318014 ],\n",
       "       [195395.42609714],\n",
       "       [112454.57334676],\n",
       "       [ 84897.96943817],\n",
       "       [301953.48906525],\n",
       "       [177908.97308442],\n",
       "       [163205.26234966],\n",
       "       [162947.63120021],\n",
       "       [167451.41797962],\n",
       "       [190540.85178791],\n",
       "       [120788.75644034],\n",
       "       [188708.14392114],\n",
       "       [ -6817.69575275],\n",
       "       [165647.85242747],\n",
       "       [210888.43109418],\n",
       "       [247200.72055435],\n",
       "       [208361.11770283],\n",
       "       [187439.59980532],\n",
       "       [312827.85847458],\n",
       "       [161170.62210333],\n",
       "       [214446.16646388],\n",
       "       [401410.05005055],\n",
       "       [117352.31756366],\n",
       "       [221620.55460716],\n",
       "       [141783.37246348],\n",
       "       [181227.35423442],\n",
       "       [242439.24679433],\n",
       "       [108235.00968823],\n",
       "       [309066.56882773],\n",
       "       [296049.81741743],\n",
       "       [138255.93643958],\n",
       "       [104907.82037783],\n",
       "       [198506.51380209],\n",
       "       [111014.75865901],\n",
       "       [121529.44993809],\n",
       "       [122042.68933159],\n",
       "       [187888.07321594],\n",
       "       [184945.07488037],\n",
       "       [112944.48828467],\n",
       "       [109777.29352081],\n",
       "       [ 95720.64868105],\n",
       "       [189738.18178894],\n",
       "       [140584.78613286],\n",
       "       [215805.8137026 ],\n",
       "       [132671.81798322],\n",
       "       [333117.59998636],\n",
       "       [186607.42356624],\n",
       "       [226711.47323124],\n",
       "       [181727.80861791],\n",
       "       [204449.43196724],\n",
       "       [207212.15395881],\n",
       "       [245972.51640523],\n",
       "       [183732.6155659 ],\n",
       "       [142994.0669886 ],\n",
       "       [301655.74572098],\n",
       "       [207192.56096042],\n",
       "       [115157.98626012],\n",
       "       [104907.82037783],\n",
       "       [348077.63058045],\n",
       "       [370863.43299535],\n",
       "       [135838.87761655],\n",
       "       [168693.06282077],\n",
       "       [206017.77012611],\n",
       "       [112801.85611929],\n",
       "       [293008.86872635],\n",
       "       [165339.14384887],\n",
       "       [ 81718.15747565],\n",
       "       [170608.25433998],\n",
       "       [104734.23304377],\n",
       "       [117121.91314904],\n",
       "       [189521.13005611],\n",
       "       [251382.92627094],\n",
       "       [102832.74962441],\n",
       "       [167928.49937416],\n",
       "       [218333.57711497],\n",
       "       [152351.32440272],\n",
       "       [358217.23705915],\n",
       "       [118800.91500212],\n",
       "       [199005.15789649],\n",
       "       [149197.56026974],\n",
       "       [168476.87102419],\n",
       "       [ 46648.25081469],\n",
       "       [239756.00862952],\n",
       "       [170991.50373649],\n",
       "       [233067.2466122 ],\n",
       "       [397523.08866442],\n",
       "       [218924.85744433],\n",
       "       [ 40272.22770155],\n",
       "       [ 83135.6871782 ],\n",
       "       [ 86440.6914667 ],\n",
       "       [156302.58482788],\n",
       "       [ 52796.40853428],\n",
       "       [202131.68589431],\n",
       "       [157231.91553142],\n",
       "       [216429.08683003],\n",
       "       [181362.93110384],\n",
       "       [202188.65538099],\n",
       "       [212438.64613649],\n",
       "       [190389.33698744],\n",
       "       [165083.75389753],\n",
       "       [127980.55086988],\n",
       "       [144210.99255999],\n",
       "       [249357.56088763],\n",
       "       [269422.7096467 ],\n",
       "       [102702.23619998],\n",
       "       [180717.16301344],\n",
       "       [138410.36289292],\n",
       "       [105297.89154179],\n",
       "       [198787.94400702],\n",
       "       [120559.8710722 ],\n",
       "       [191504.8647567 ],\n",
       "       [306547.08962439],\n",
       "       [179633.59384036],\n",
       "       [141290.09605588],\n",
       "       [ 74900.92196091],\n",
       "       [173528.58613267],\n",
       "       [124028.76270275],\n",
       "       [164411.61395907],\n",
       "       [115913.99182491],\n",
       "       [229118.81994243],\n",
       "       [140108.0121307 ],\n",
       "       [ 93137.70050963],\n",
       "       [262985.14196455],\n",
       "       [273053.06488665],\n",
       "       [247218.289518  ],\n",
       "       [135180.61348212],\n",
       "       [106470.86311528],\n",
       "       [174870.48997955],\n",
       "       [ 90822.19374762],\n",
       "       [224567.95577912],\n",
       "       [201756.01480896],\n",
       "       [207745.93647248],\n",
       "       [183361.44164289],\n",
       "       [293744.51375461],\n",
       "       [283502.17292094],\n",
       "       [149863.04144453],\n",
       "       [178536.07490393],\n",
       "       [152012.68478756],\n",
       "       [186595.30988055],\n",
       "       [227414.89084856],\n",
       "       [298603.30053274],\n",
       "       [198979.96836427],\n",
       "       [186722.59006726],\n",
       "       [217290.29292985],\n",
       "       [208252.48060277],\n",
       "       [160084.38039414],\n",
       "       [127184.9197337 ],\n",
       "       [166475.90793083],\n",
       "       [176136.31274983],\n",
       "       [278292.09352367],\n",
       "       [150542.52392764],\n",
       "       [355633.14857749],\n",
       "       [152052.4663134 ],\n",
       "       [182603.47004523],\n",
       "       [315116.03074752],\n",
       "       [118800.77987159],\n",
       "       [ 97771.84593871],\n",
       "       [ 83888.94506504],\n",
       "       [178717.06846108],\n",
       "       [111015.05594618],\n",
       "       [ 56633.87372587],\n",
       "       [ 77942.18738392],\n",
       "       [292486.39285581],\n",
       "       [115472.31997951],\n",
       "       [298522.87794047],\n",
       "       [320742.42035922],\n",
       "       [220211.13392426],\n",
       "       [215971.20242517],\n",
       "       [314376.3590269 ],\n",
       "       [116652.93232798],\n",
       "       [261152.55182212],\n",
       "       [ 92128.50088505],\n",
       "       [151731.42564262],\n",
       "       [100099.86757322],\n",
       "       [ 82862.63925319],\n",
       "       [271176.1011942 ],\n",
       "       [254118.42673118],\n",
       "       [157769.67514881],\n",
       "       [290232.60796571],\n",
       "       [288451.98861787],\n",
       "       [204902.23820979],\n",
       "       [300650.96245941],\n",
       "       [228991.40430351],\n",
       "       [ 96051.16376454],\n",
       "       [133205.17245228],\n",
       "       [150252.90756898],\n",
       "       [113562.10257395],\n",
       "       [191444.61173851],\n",
       "       [128396.96396971],\n",
       "       [119799.54215589],\n",
       "       [111859.61354993],\n",
       "       [165738.98332175],\n",
       "       [193964.05500103],\n",
       "       [279549.77570047],\n",
       "       [241019.31059134],\n",
       "       [ 89043.50528827],\n",
       "       [209296.76687085],\n",
       "       [167141.13267518],\n",
       "       [195055.14189046],\n",
       "       [236899.62840554],\n",
       "       [190872.91141343],\n",
       "       [179826.35229793],\n",
       "       [223192.53638713],\n",
       "       [149356.63664827],\n",
       "       [231543.47935712],\n",
       "       [213019.42820985],\n",
       "       [171374.24301575],\n",
       "       [204587.1753008 ],\n",
       "       [ 24761.06046615],\n",
       "       [122496.00773018],\n",
       "       [235107.97837399],\n",
       "       [223726.08639863],\n",
       "       [221116.10092352],\n",
       "       [242333.81873005],\n",
       "       [191705.28648314],\n",
       "       [152492.04686358],\n",
       "       [121642.94570938],\n",
       "       [166157.15212702],\n",
       "       [ 75176.89951995],\n",
       "       [137429.58134719],\n",
       "       [215188.14052508],\n",
       "       [142636.16813882],\n",
       "       [200415.99415991],\n",
       "       [191127.0837847 ],\n",
       "       [200460.06323823],\n",
       "       [162711.10879245],\n",
       "       [175966.4873673 ],\n",
       "       [ 83189.84190271],\n",
       "       [206341.70469882],\n",
       "       [309390.30398241],\n",
       "       [266009.81050898],\n",
       "       [180653.45336941],\n",
       "       [221595.43156746],\n",
       "       [134994.97420329],\n",
       "       [218237.99540953],\n",
       "       [184790.11656106],\n",
       "       [211823.38326804],\n",
       "       [273195.69227244],\n",
       "       [120993.40284399],\n",
       "       [216940.19560369],\n",
       "       [193948.05366791],\n",
       "       [131479.0674825 ],\n",
       "       [107801.93356929],\n",
       "       [ 77174.64218385],\n",
       "       [166471.95357135],\n",
       "       [141490.5207548 ],\n",
       "       [108641.59665246],\n",
       "       [152052.4663134 ],\n",
       "       [114430.47166192],\n",
       "       [121555.52229086],\n",
       "       [240538.19088848],\n",
       "       [166307.41292147],\n",
       "       [137614.40744348],\n",
       "       [155584.47285041],\n",
       "       [206744.29487695],\n",
       "       [105962.63290651],\n",
       "       [187699.88804582],\n",
       "       [ 99263.77264542],\n",
       "       [138804.72879389],\n",
       "       [120733.51245846],\n",
       "       [292269.60381945],\n",
       "       [255161.08618665],\n",
       "       [ 99702.34161523],\n",
       "       [123393.08282294],\n",
       "       [147403.13982316],\n",
       "       [224254.38654056],\n",
       "       [207683.37499571],\n",
       "       [214934.77713496],\n",
       "       [ 62620.78227625],\n",
       "       [202777.29799709],\n",
       "       [243548.88938249],\n",
       "       [206371.10433253],\n",
       "       [208000.61737905],\n",
       "       [187855.62206599],\n",
       "       [179566.05355536],\n",
       "       [102616.22336789],\n",
       "       [107165.32055593],\n",
       "       [ 84669.41241564],\n",
       "       [ 44694.54198424],\n",
       "       [174060.87266436],\n",
       "       [188579.21792912],\n",
       "       [126031.63335472],\n",
       "       [246710.67494873],\n",
       "       [ 40135.88804653],\n",
       "       [189750.89880457],\n",
       "       [250826.86317876],\n",
       "       [223628.02164539],\n",
       "       [228550.00422104],\n",
       "       [304109.95067835],\n",
       "       [293631.32385216],\n",
       "       [234873.42916893],\n",
       "       [183383.65369088]])"
      ]
     },
     "execution_count": 20,
     "metadata": {},
     "output_type": "execute_result"
    }
   ],
   "source": [
    "uni.predict(mx_test)"
   ]
  },
  {
   "cell_type": "code",
   "execution_count": 21,
   "id": "181d9357",
   "metadata": {},
   "outputs": [
    {
     "data": {
      "text/plain": [
       "0.831112170553593"
      ]
     },
     "execution_count": 21,
     "metadata": {},
     "output_type": "execute_result"
    }
   ],
   "source": [
    "Test_score = uni.score(mx_test,y_test)\n",
    "Test_score"
   ]
  },
  {
   "cell_type": "code",
   "execution_count": 22,
   "id": "88a06514",
   "metadata": {},
   "outputs": [
    {
     "ename": "NameError",
     "evalue": "name 'model' is not defined",
     "output_type": "error",
     "traceback": [
      "\u001b[1;31m---------------------------------------------------------------------------\u001b[0m",
      "\u001b[1;31mNameError\u001b[0m                                 Traceback (most recent call last)",
      "\u001b[1;32m<ipython-input-22-411df335b72b>\u001b[0m in \u001b[0;36m<module>\u001b[1;34m\u001b[0m\n\u001b[0;32m      5\u001b[0m \u001b[0mplt\u001b[0m\u001b[1;33m.\u001b[0m\u001b[0mscatter\u001b[0m\u001b[1;33m(\u001b[0m\u001b[0mmx_test\u001b[0m\u001b[1;33m[\u001b[0m\u001b[1;34m'FullBath'\u001b[0m\u001b[1;33m]\u001b[0m\u001b[1;33m,\u001b[0m \u001b[0my_test\u001b[0m\u001b[1;33m,\u001b[0m \u001b[0mcolor\u001b[0m\u001b[1;33m=\u001b[0m\u001b[1;34m'magenta'\u001b[0m \u001b[1;33m,\u001b[0m \u001b[0mmarker\u001b[0m\u001b[1;33m=\u001b[0m\u001b[1;34m'o'\u001b[0m\u001b[1;33m)\u001b[0m\u001b[1;33m\u001b[0m\u001b[1;33m\u001b[0m\u001b[0m\n\u001b[0;32m      6\u001b[0m \u001b[0mplt\u001b[0m\u001b[1;33m.\u001b[0m\u001b[0mscatter\u001b[0m\u001b[1;33m(\u001b[0m\u001b[0mmx_test\u001b[0m\u001b[1;33m[\u001b[0m\u001b[1;34m'1stFlrSF'\u001b[0m\u001b[1;33m]\u001b[0m\u001b[1;33m,\u001b[0m \u001b[0my_test\u001b[0m\u001b[1;33m,\u001b[0m \u001b[0mcolor\u001b[0m\u001b[1;33m=\u001b[0m\u001b[1;34m'magenta'\u001b[0m \u001b[1;33m,\u001b[0m \u001b[0mmarker\u001b[0m\u001b[1;33m=\u001b[0m\u001b[1;34m'o'\u001b[0m\u001b[1;33m)\u001b[0m\u001b[1;33m\u001b[0m\u001b[1;33m\u001b[0m\u001b[0m\n\u001b[1;32m----> 7\u001b[1;33m \u001b[0mplt\u001b[0m\u001b[1;33m.\u001b[0m\u001b[0mplot\u001b[0m\u001b[1;33m(\u001b[0m\u001b[0mmx_test\u001b[0m\u001b[1;33m,\u001b[0m \u001b[0mmodel\u001b[0m\u001b[1;33m.\u001b[0m\u001b[0mpredict\u001b[0m\u001b[1;33m(\u001b[0m\u001b[0mmx_test\u001b[0m\u001b[1;33m)\u001b[0m \u001b[1;33m,\u001b[0m \u001b[0mcolor\u001b[0m\u001b[1;33m=\u001b[0m\u001b[1;34m'black'\u001b[0m\u001b[1;33m,\u001b[0m \u001b[0mlabel\u001b[0m\u001b[1;33m=\u001b[0m\u001b[1;34m\"Training\"\u001b[0m\u001b[1;33m)\u001b[0m\u001b[1;33m\u001b[0m\u001b[1;33m\u001b[0m\u001b[0m\n\u001b[0m\u001b[0;32m      8\u001b[0m \u001b[0mplt\u001b[0m\u001b[1;33m.\u001b[0m\u001b[0mlegend\u001b[0m\u001b[1;33m(\u001b[0m\u001b[1;33m)\u001b[0m\u001b[1;33m\u001b[0m\u001b[1;33m\u001b[0m\u001b[0m\n",
      "\u001b[1;31mNameError\u001b[0m: name 'model' is not defined"
     ]
    },
    {
     "data": {
      "image/png": "[encoded data removed]",
      "text/plain": [
       "<Figure size 432x288 with 1 Axes>"
      ]
     },
     "metadata": {
      "needs_background": "light"
     },
     "output_type": "display_data"
    }
   ],
   "source": [
    "plt.scatter(mx_test['OverallQual'], y_test, color='magenta' , marker='o', label = \"OverallQual\")\n",
    "plt.scatter(mx_test['GrLivArea'], y_test, color='magenta' , marker='o')\n",
    "plt.scatter(mx_test['GarageCars'], y_test, color='magenta' , marker='o')\n",
    "plt.scatter(mx_test['GarageArea'], y_test, color='magenta' , marker='o')\n",
    "plt.scatter(mx_test['FullBath'], y_test, color='magenta' , marker='o')\n",
    "plt.scatter(mx_test['1stFlrSF'], y_test, color='magenta' , marker='o')\n",
    "plt.plot(mx_test, uni.predict(mx_test) , color='black', label=\"Training\")\n",
    "plt.legend()"
   ]
  },
  {
   "cell_type": "markdown",
   "id": "d674a8af",
   "metadata": {},
   "source": [
    "# Polynomial Regression"
   ]
  },
  {
   "cell_type": "code",
   "execution_count": 23,
   "id": "c7605728",
   "metadata": {},
   "outputs": [],
   "source": [
    "from sklearn.preprocessing import PolynomialFeatures\n",
    "poly = PolynomialFeatures(degree=2)"
   ]
  },
  {
   "cell_type": "code",
   "execution_count": 24,
   "id": "b8a143c9",
   "metadata": {},
   "outputs": [],
   "source": [
    "poly_in = poly.fit_transform(mx_train)\n",
    "polyt = poly.fit_transform(mx_test)"
   ]
  },
  {
   "cell_type": "code",
   "execution_count": 25,
   "id": "9f7403c5",
   "metadata": {},
   "outputs": [
    {
     "data": {
      "text/plain": [
       "LinearRegression()"
      ]
     },
     "execution_count": 25,
     "metadata": {},
     "output_type": "execute_result"
    }
   ],
   "source": [
    "uni.fit(poly_in,y_train)"
   ]
  },
  {
   "cell_type": "code",
   "execution_count": 26,
   "id": "7cdab4af",
   "metadata": {},
   "outputs": [
    {
     "data": {
      "text/plain": [
       "0.833406766901786"
      ]
     },
     "execution_count": 26,
     "metadata": {},
     "output_type": "execute_result"
    }
   ],
   "source": [
    "uni.score(poly_in,y_train)"
   ]
  },
  {
   "cell_type": "code",
   "execution_count": 27,
   "id": "7c8f47e1",
   "metadata": {},
   "outputs": [
    {
     "data": {
      "text/plain": [
       "0.8674944299532441"
      ]
     },
     "execution_count": 27,
     "metadata": {},
     "output_type": "execute_result"
    }
   ],
   "source": [
    "New_score = uni.score(polyt,y_test)\n",
    "New_score"
   ]
  },
  {
   "cell_type": "markdown",
   "id": "90e7b90a",
   "metadata": {},
   "source": [
    "# Scaling"
   ]
  },
  {
   "cell_type": "code",
   "execution_count": 28,
   "id": "e2377c0c",
   "metadata": {},
   "outputs": [],
   "source": [
    "from sklearn.preprocessing import StandardScaler"
   ]
  },
  {
   "cell_type": "code",
   "execution_count": 29,
   "id": "d53c55de",
   "metadata": {},
   "outputs": [],
   "source": [
    "ss = StandardScaler()"
   ]
  },
  {
   "cell_type": "markdown",
   "id": "c35bcb52",
   "metadata": {},
   "source": [
    "# Univariate With Scaling"
   ]
  },
  {
   "cell_type": "code",
   "execution_count": 30,
   "id": "97f698a3",
   "metadata": {},
   "outputs": [
    {
     "data": {
      "text/html": [
       "<div>\n",
       "<style scoped>\n",
       "    .dataframe tbody tr th:only-of-type {\n",
       "        vertical-align: middle;\n",
       "    }\n",
       "\n",
       "    .dataframe tbody tr th {\n",
       "        vertical-align: top;\n",
       "    }\n",
       "\n",
       "    .dataframe thead th {\n",
       "        text-align: right;\n",
       "    }\n",
       "</style>\n",
       "<table border=\"1\" class=\"dataframe\">\n",
       "  <thead>\n",
       "    <tr style=\"text-align: right;\">\n",
       "      <th></th>\n",
       "      <th>0</th>\n",
       "    </tr>\n",
       "  </thead>\n",
       "  <tbody>\n",
       "    <tr>\n",
       "      <th>0</th>\n",
       "      <td>0.370333</td>\n",
       "    </tr>\n",
       "    <tr>\n",
       "      <th>1</th>\n",
       "      <td>-0.482512</td>\n",
       "    </tr>\n",
       "    <tr>\n",
       "      <th>2</th>\n",
       "      <td>0.515013</td>\n",
       "    </tr>\n",
       "    <tr>\n",
       "      <th>3</th>\n",
       "      <td>0.383659</td>\n",
       "    </tr>\n",
       "    <tr>\n",
       "      <th>4</th>\n",
       "      <td>1.299326</td>\n",
       "    </tr>\n",
       "    <tr>\n",
       "      <th>...</th>\n",
       "      <td>...</td>\n",
       "    </tr>\n",
       "    <tr>\n",
       "      <th>1455</th>\n",
       "      <td>0.250402</td>\n",
       "    </tr>\n",
       "    <tr>\n",
       "      <th>1456</th>\n",
       "      <td>1.061367</td>\n",
       "    </tr>\n",
       "    <tr>\n",
       "      <th>1457</th>\n",
       "      <td>1.569647</td>\n",
       "    </tr>\n",
       "    <tr>\n",
       "      <th>1458</th>\n",
       "      <td>-0.832788</td>\n",
       "    </tr>\n",
       "    <tr>\n",
       "      <th>1459</th>\n",
       "      <td>-0.493934</td>\n",
       "    </tr>\n",
       "  </tbody>\n",
       "</table>\n",
       "<p>1460 rows × 1 columns</p>\n",
       "</div>"
      ],
      "text/plain": [
       "             0\n",
       "0     0.370333\n",
       "1    -0.482512\n",
       "2     0.515013\n",
       "3     0.383659\n",
       "4     1.299326\n",
       "...        ...\n",
       "1455  0.250402\n",
       "1456  1.061367\n",
       "1457  1.569647\n",
       "1458 -0.832788\n",
       "1459 -0.493934\n",
       "\n",
       "[1460 rows x 1 columns]"
      ]
     },
     "execution_count": 30,
     "metadata": {},
     "output_type": "execute_result"
    }
   ],
   "source": [
    "stux = ss.fit_transform(x)\n",
    "stuxdf = pd.DataFrame(stux)\n",
    "stuxdf"
   ]
  },
  {
   "cell_type": "code",
   "execution_count": 32,
   "id": "ff5d84ef",
   "metadata": {},
   "outputs": [],
   "source": [
    "X_train,X_test,Y_train,Y_test = train_test_split(stux, y, test_size=0.1, random_state=50)"
   ]
  },
  {
   "cell_type": "code",
   "execution_count": 33,
   "id": "bd684f7a",
   "metadata": {},
   "outputs": [
    {
     "data": {
      "text/plain": [
       "LinearRegression()"
      ]
     },
     "execution_count": 33,
     "metadata": {},
     "output_type": "execute_result"
    }
   ],
   "source": [
    "uni"
   ]
  },
  {
   "cell_type": "code",
   "execution_count": 34,
   "id": "68a30028",
   "metadata": {},
   "outputs": [
    {
     "data": {
      "text/plain": [
       "LinearRegression()"
      ]
     },
     "execution_count": 34,
     "metadata": {},
     "output_type": "execute_result"
    }
   ],
   "source": [
    "uni.fit(X_train,Y_train)"
   ]
  },
  {
   "cell_type": "code",
   "execution_count": 35,
   "id": "34926ed7",
   "metadata": {},
   "outputs": [
    {
     "data": {
      "text/plain": [
       "0.48880598024622157"
      ]
     },
     "execution_count": 35,
     "metadata": {},
     "output_type": "execute_result"
    }
   ],
   "source": [
    "uni.score(X_train,Y_train)"
   ]
  },
  {
   "cell_type": "code",
   "execution_count": 37,
   "id": "8b0a6c94",
   "metadata": {},
   "outputs": [
    {
     "data": {
      "text/plain": [
       "0.6052279315773611"
      ]
     },
     "execution_count": 37,
     "metadata": {},
     "output_type": "execute_result"
    }
   ],
   "source": [
    "Score = uni.score(X_test,Y_test)\n",
    "Score"
   ]
  },
  {
   "cell_type": "markdown",
   "id": "b6fdc523",
   "metadata": {},
   "source": [
    "# MultiVariate With Scaling"
   ]
  },
  {
   "cell_type": "code",
   "execution_count": 38,
   "id": "6e96866f",
   "metadata": {},
   "outputs": [
    {
     "data": {
      "text/html": [
       "<div>\n",
       "<style scoped>\n",
       "    .dataframe tbody tr th:only-of-type {\n",
       "        vertical-align: middle;\n",
       "    }\n",
       "\n",
       "    .dataframe tbody tr th {\n",
       "        vertical-align: top;\n",
       "    }\n",
       "\n",
       "    .dataframe thead th {\n",
       "        text-align: right;\n",
       "    }\n",
       "</style>\n",
       "<table border=\"1\" class=\"dataframe\">\n",
       "  <thead>\n",
       "    <tr style=\"text-align: right;\">\n",
       "      <th></th>\n",
       "      <th>0</th>\n",
       "      <th>1</th>\n",
       "      <th>2</th>\n",
       "      <th>3</th>\n",
       "      <th>4</th>\n",
       "      <th>5</th>\n",
       "    </tr>\n",
       "  </thead>\n",
       "  <tbody>\n",
       "    <tr>\n",
       "      <th>0</th>\n",
       "      <td>0.651479</td>\n",
       "      <td>0.370333</td>\n",
       "      <td>0.311725</td>\n",
       "      <td>0.351000</td>\n",
       "      <td>0.789741</td>\n",
       "      <td>-0.793434</td>\n",
       "    </tr>\n",
       "    <tr>\n",
       "      <th>1</th>\n",
       "      <td>-0.071836</td>\n",
       "      <td>-0.482512</td>\n",
       "      <td>0.311725</td>\n",
       "      <td>-0.060731</td>\n",
       "      <td>0.789741</td>\n",
       "      <td>0.257140</td>\n",
       "    </tr>\n",
       "    <tr>\n",
       "      <th>2</th>\n",
       "      <td>0.651479</td>\n",
       "      <td>0.515013</td>\n",
       "      <td>0.311725</td>\n",
       "      <td>0.631726</td>\n",
       "      <td>0.789741</td>\n",
       "      <td>-0.627826</td>\n",
       "    </tr>\n",
       "    <tr>\n",
       "      <th>3</th>\n",
       "      <td>0.651479</td>\n",
       "      <td>0.383659</td>\n",
       "      <td>1.650307</td>\n",
       "      <td>0.790804</td>\n",
       "      <td>-1.026041</td>\n",
       "      <td>-0.521734</td>\n",
       "    </tr>\n",
       "    <tr>\n",
       "      <th>4</th>\n",
       "      <td>1.374795</td>\n",
       "      <td>1.299326</td>\n",
       "      <td>1.650307</td>\n",
       "      <td>1.698485</td>\n",
       "      <td>0.789741</td>\n",
       "      <td>-0.045611</td>\n",
       "    </tr>\n",
       "    <tr>\n",
       "      <th>...</th>\n",
       "      <td>...</td>\n",
       "      <td>...</td>\n",
       "      <td>...</td>\n",
       "      <td>...</td>\n",
       "      <td>...</td>\n",
       "      <td>...</td>\n",
       "    </tr>\n",
       "    <tr>\n",
       "      <th>1455</th>\n",
       "      <td>-0.071836</td>\n",
       "      <td>0.250402</td>\n",
       "      <td>0.311725</td>\n",
       "      <td>-0.060731</td>\n",
       "      <td>0.789741</td>\n",
       "      <td>-0.542435</td>\n",
       "    </tr>\n",
       "    <tr>\n",
       "      <th>1456</th>\n",
       "      <td>-0.071836</td>\n",
       "      <td>1.061367</td>\n",
       "      <td>0.311725</td>\n",
       "      <td>0.126420</td>\n",
       "      <td>0.789741</td>\n",
       "      <td>2.355701</td>\n",
       "    </tr>\n",
       "    <tr>\n",
       "      <th>1457</th>\n",
       "      <td>0.651479</td>\n",
       "      <td>1.569647</td>\n",
       "      <td>-1.026858</td>\n",
       "      <td>-1.033914</td>\n",
       "      <td>0.789741</td>\n",
       "      <td>0.065656</td>\n",
       "    </tr>\n",
       "    <tr>\n",
       "      <th>1458</th>\n",
       "      <td>-0.795151</td>\n",
       "      <td>-0.832788</td>\n",
       "      <td>-1.026858</td>\n",
       "      <td>-1.090059</td>\n",
       "      <td>-1.026041</td>\n",
       "      <td>-0.218982</td>\n",
       "    </tr>\n",
       "    <tr>\n",
       "      <th>1459</th>\n",
       "      <td>-0.795151</td>\n",
       "      <td>-0.493934</td>\n",
       "      <td>-1.026858</td>\n",
       "      <td>-0.921624</td>\n",
       "      <td>-1.026041</td>\n",
       "      <td>0.241615</td>\n",
       "    </tr>\n",
       "  </tbody>\n",
       "</table>\n",
       "<p>1460 rows × 6 columns</p>\n",
       "</div>"
      ],
      "text/plain": [
       "             0         1         2         3         4         5\n",
       "0     0.651479  0.370333  0.311725  0.351000  0.789741 -0.793434\n",
       "1    -0.071836 -0.482512  0.311725 -0.060731  0.789741  0.257140\n",
       "2     0.651479  0.515013  0.311725  0.631726  0.789741 -0.627826\n",
       "3     0.651479  0.383659  1.650307  0.790804 -1.026041 -0.521734\n",
       "4     1.374795  1.299326  1.650307  1.698485  0.789741 -0.045611\n",
       "...        ...       ...       ...       ...       ...       ...\n",
       "1455 -0.071836  0.250402  0.311725 -0.060731  0.789741 -0.542435\n",
       "1456 -0.071836  1.061367  0.311725  0.126420  0.789741  2.355701\n",
       "1457  0.651479  1.569647 -1.026858 -1.033914  0.789741  0.065656\n",
       "1458 -0.795151 -0.832788 -1.026858 -1.090059 -1.026041 -0.218982\n",
       "1459 -0.795151 -0.493934 -1.026858 -0.921624 -1.026041  0.241615\n",
       "\n",
       "[1460 rows x 6 columns]"
      ]
     },
     "execution_count": 38,
     "metadata": {},
     "output_type": "execute_result"
    }
   ],
   "source": [
    "stx = ss.fit_transform(mx)\n",
    "dta = pd.DataFrame(stx)\n",
    "dta"
   ]
  },
  {
   "cell_type": "code",
   "execution_count": 39,
   "id": "b18bf03c",
   "metadata": {},
   "outputs": [],
   "source": [
    "X_train, X_test, Y_train, Y_test = train_test_split(stx, y, test_size = 0.1,random_state = 50)"
   ]
  },
  {
   "cell_type": "code",
   "execution_count": 40,
   "id": "9d36a37c",
   "metadata": {},
   "outputs": [
    {
     "data": {
      "text/plain": [
       "LinearRegression()"
      ]
     },
     "execution_count": 40,
     "metadata": {},
     "output_type": "execute_result"
    }
   ],
   "source": [
    "uni"
   ]
  },
  {
   "cell_type": "code",
   "execution_count": 41,
   "id": "c46cdd07",
   "metadata": {},
   "outputs": [
    {
     "data": {
      "text/plain": [
       "LinearRegression()"
      ]
     },
     "execution_count": 41,
     "metadata": {},
     "output_type": "execute_result"
    }
   ],
   "source": [
    "uni.fit(X_train,Y_train)"
   ]
  },
  {
   "cell_type": "code",
   "execution_count": 42,
   "id": "883fedf1",
   "metadata": {},
   "outputs": [
    {
     "data": {
      "text/plain": [
       "0.7457292616217486"
      ]
     },
     "execution_count": 42,
     "metadata": {},
     "output_type": "execute_result"
    }
   ],
   "source": [
    "uni.score(X_train,Y_train)"
   ]
  },
  {
   "cell_type": "code",
   "execution_count": 43,
   "id": "5d94cac2",
   "metadata": {},
   "outputs": [
    {
     "data": {
      "text/plain": [
       "0.842509182036745"
      ]
     },
     "execution_count": 43,
     "metadata": {},
     "output_type": "execute_result"
    }
   ],
   "source": [
    "Performance = uni.score(X_test,Y_test)\n",
    "Performance"
   ]
  },
  {
   "cell_type": "markdown",
   "id": "9a8c308d",
   "metadata": {},
   "source": [
    "# Polynomial With Scaling"
   ]
  },
  {
   "cell_type": "code",
   "execution_count": 44,
   "id": "c52e55fb",
   "metadata": {},
   "outputs": [],
   "source": [
    "X_train, X_test, Y_train, Y_test = train_test_split(stx, y, test_size = 0.1 , random_state = 55 )"
   ]
  },
  {
   "cell_type": "code",
   "execution_count": 45,
   "id": "be679d2a",
   "metadata": {},
   "outputs": [],
   "source": [
    "poly = PolynomialFeatures(degree=2)"
   ]
  },
  {
   "cell_type": "code",
   "execution_count": 46,
   "id": "4b22db3d",
   "metadata": {},
   "outputs": [],
   "source": [
    "trdata = poly.fit_transform(X_train)\n",
    "tsdata = poly.fit_transform(X_test)\n",
    "    "
   ]
  },
  {
   "cell_type": "code",
   "execution_count": 47,
   "id": "aae3ec66",
   "metadata": {},
   "outputs": [
    {
     "data": {
      "text/plain": [
       "LinearRegression()"
      ]
     },
     "execution_count": 47,
     "metadata": {},
     "output_type": "execute_result"
    }
   ],
   "source": [
    "uni"
   ]
  },
  {
   "cell_type": "code",
   "execution_count": 48,
   "id": "67a81411",
   "metadata": {},
   "outputs": [
    {
     "data": {
      "text/plain": [
       "LinearRegression()"
      ]
     },
     "execution_count": 48,
     "metadata": {},
     "output_type": "execute_result"
    }
   ],
   "source": [
    "uni.fit(trdata,Y_train)"
   ]
  },
  {
   "cell_type": "code",
   "execution_count": 49,
   "id": "0a650d5e",
   "metadata": {},
   "outputs": [
    {
     "data": {
      "text/plain": [
       "0.8370723164678312"
      ]
     },
     "execution_count": 49,
     "metadata": {},
     "output_type": "execute_result"
    }
   ],
   "source": [
    "uni.score(trdata,Y_train)"
   ]
  },
  {
   "cell_type": "code",
   "execution_count": 51,
   "id": "78c5d0ea",
   "metadata": {},
   "outputs": [
    {
     "data": {
      "text/plain": [
       "0.8901720959850642"
      ]
     },
     "execution_count": 51,
     "metadata": {},
     "output_type": "execute_result"
    }
   ],
   "source": [
    "Score =uni.score(tsdata,Y_test)\n",
    "Score"
   ]
  },
  {
   "cell_type": "code",
   "execution_count": 52,
   "id": "8da5cad5",
   "metadata": {},
   "outputs": [],
   "source": [
    "Results = pd.DataFrame({'Univariate': (score*100), 'Multivariate' : (Test_score*100),\n",
    "                        'Polynomial' : (New_score*100),'Univariate with scaling' : (Score*100) , 'Multi with Scaling' : (Performance*100),\n",
    "                       'Poly with Scaling' : (Score*100)}, index = ['Score'])"
   ]
  },
  {
   "cell_type": "code",
   "execution_count": 55,
   "id": "7b702e0d",
   "metadata": {},
   "outputs": [
    {
     "data": {
      "text/plain": [
       "<AxesSubplot:>"
      ]
     },
     "execution_count": 55,
     "metadata": {},
     "output_type": "execute_result"
    },
    {
     "data": {
      "image/png": "[encoded data removed]",
      "text/plain": [
       "<Figure size 432x288 with 1 Axes>"
      ]
     },
     "metadata": {
      "needs_background": "light"
     },
     "output_type": "display_data"
    }
   ],
   "source": [
    "Results.plot(kind = 'bar')"
   ]
  }
 ],
 "metadata": {
  "kernelspec": {
   "display_name": "Python 3",
   "language": "python",
   "name": "python3"
  },
  "language_info": {
   "codemirror_mode": {
    "name": "ipython",
    "version": 3
   },
   "file_extension": ".py",
   "mimetype": "text/x-python",
   "name": "python",
   "nbconvert_exporter": "python",
   "pygments_lexer": "ipython3",
   "version": "3.8.8"
  }
 },
 "nbformat": 4,
 "nbformat_minor": 5
}
